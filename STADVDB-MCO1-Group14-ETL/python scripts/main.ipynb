{
 "cells": [
  {
   "cell_type": "code",
   "execution_count": 67,
   "metadata": {
    "collapsed": true
   },
   "outputs": [],
   "source": [
    "import numpy as np\n",
    "import pandas as pd\n",
    "import csv\n",
    "import re"
   ]
  },
  {
   "cell_type": "code",
   "execution_count": 46,
   "outputs": [],
   "source": [
    "appointments_df = pd.read_csv('appointments.csv')"
   ],
   "metadata": {
    "collapsed": false
   }
  },
  {
   "cell_type": "code",
   "execution_count": 47,
   "outputs": [],
   "source": [
    "doctors_df = pd.read_csv('doctors.csv')"
   ],
   "metadata": {
    "collapsed": false
   }
  },
  {
   "cell_type": "code",
   "execution_count": 48,
   "outputs": [],
   "source": [
    "patients_df = pd.read_csv('px.csv')"
   ],
   "metadata": {
    "collapsed": false
   }
  },
  {
   "cell_type": "code",
   "execution_count": 49,
   "outputs": [],
   "source": [
    "clinics_df = pd.read_csv('clinics.csv')"
   ],
   "metadata": {
    "collapsed": false
   }
  },
  {
   "cell_type": "code",
   "execution_count": 16,
   "outputs": [
    {
     "name": "stdout",
     "output_type": "stream",
     "text": [
      "<class 'pandas.core.frame.DataFrame'>\n",
      "RangeIndex: 9752932 entries, 0 to 9752931\n",
      "Data columns (total 11 columns):\n",
      " #   Column      Dtype \n",
      "---  ------      ----- \n",
      " 0   pxid        object\n",
      " 1   clinicid    object\n",
      " 2   doctorid    object\n",
      " 3   apptid      object\n",
      " 4   status      object\n",
      " 5   TimeQueued  object\n",
      " 6   QueueDate   object\n",
      " 7   StartTime   object\n",
      " 8   EndTime     object\n",
      " 9   type        object\n",
      " 10  Virtual     object\n",
      "dtypes: object(11)\n",
      "memory usage: 818.5+ MB\n"
     ]
    }
   ],
   "source": [
    "appointments_df.info()"
   ],
   "metadata": {
    "collapsed": false
   }
  },
  {
   "cell_type": "code",
   "execution_count": 15,
   "outputs": [
    {
     "data": {
      "text/plain": "pxid\nCC2DBFB39E3A051034F5E8AE33037732       1\nE4A2A965179827025C727A03F9124285       1\nACB9D6096FB3E1719F19C04EBFFE1294       1\n5D0C7C045145A309A36161AB6353D93C       1\nB92174E69FFA1A7978378FD3BBEF3164       1\n                                    ... \nA2536B80CAD05E14355410332513D550     374\nB2B657D3C301FFCBFDA0B2ED17E7A5EB     516\nB4A945E181DE1FFB82D1D18CA9A51687     583\n0761C17912CDEF7AEF25D118E1936D9A     590\n7CB50A8783C05F2788D7AE1EE79A4CF7    1249\nName: count, Length: 3946064, dtype: int64"
     },
     "execution_count": 15,
     "metadata": {},
     "output_type": "execute_result"
    }
   ],
   "source": [
    "appointments_df['pxid'].value_counts().sort_values()"
   ],
   "metadata": {
    "collapsed": false
   }
  },
  {
   "cell_type": "code",
   "execution_count": 17,
   "outputs": [
    {
     "data": {
      "text/plain": "status\nComplete     6473675\nQueued       2523855\nServing       284774\nNoShow        230048\nCancel        213270\nSkip           27298\nCompleted         10\nAdmitted           2\nName: count, dtype: int64"
     },
     "execution_count": 17,
     "metadata": {},
     "output_type": "execute_result"
    }
   ],
   "source": [
    "appointments_df['status'].value_counts(dropna=False)"
   ],
   "metadata": {
    "collapsed": false
   }
  },
  {
   "cell_type": "code",
   "execution_count": 17,
   "outputs": [
    {
     "data": {
      "text/plain": "Virtual\nFalse    6276648\nNaN      1952593\nTrue     1523691\nName: count, dtype: int64"
     },
     "execution_count": 17,
     "metadata": {},
     "output_type": "execute_result"
    }
   ],
   "source": [
    "appointments_df['Virtual'].value_counts(dropna=False)"
   ],
   "metadata": {
    "collapsed": false
   }
  },
  {
   "cell_type": "code",
   "execution_count": 7,
   "outputs": [
    {
     "data": {
      "text/plain": "TimeQueued\n2019-11-14 07:34:00.220000000      1\n2023-02-03 06:35:13.233000000      1\n2023-02-03 06:24:31.907000000      1\n2023-01-28 04:14:56.877000000      1\n2023-01-24 02:38:23.727000000      1\n                                ... \n2017-06-30 16:00:00              256\n2016-11-25 16:00:00              281\n2017-12-03 16:00:00              300\n2016-12-16 16:00:00              362\n2005-05-23 16:00:00              917\nName: count, Length: 9415233, dtype: int64"
     },
     "execution_count": 7,
     "metadata": {},
     "output_type": "execute_result"
    }
   ],
   "source": [
    "appointments_df['TimeQueued'].value_counts().sort_values()"
   ],
   "metadata": {
    "collapsed": false
   }
  },
  {
   "cell_type": "code",
   "execution_count": 18,
   "outputs": [],
   "source": [
    "appointments_df['StartTime'] = appointments_df['StartTime'].fillna(\"NULL\")"
   ],
   "metadata": {
    "collapsed": false
   }
  },
  {
   "cell_type": "code",
   "execution_count": 19,
   "outputs": [
    {
     "data": {
      "text/plain": "StartTime\nNULL                   5879400\n2005-05-23 16:00:00        917\n2023-03-03 02:00:00        359\n2023-08-12 02:00:00        331\n2023-11-11 02:00:00        319\n                        ...   \n2022-03-07 04:38:13          1\n2022-03-09 05:29:30          1\n2022-03-09 21:24:09          1\n2022-03-11 04:12:25          1\n2023-11-03 19:30:00          1\nName: count, Length: 1058280, dtype: int64"
     },
     "execution_count": 19,
     "metadata": {},
     "output_type": "execute_result"
    }
   ],
   "source": [
    "appointments_df['StartTime'].value_counts()"
   ],
   "metadata": {
    "collapsed": false
   }
  },
  {
   "cell_type": "code",
   "execution_count": 20,
   "outputs": [],
   "source": [
    "appointments_df['QueueDate'] = appointments_df['QueueDate'].fillna(\"NULL\")"
   ],
   "metadata": {
    "collapsed": false
   }
  },
  {
   "cell_type": "code",
   "execution_count": 21,
   "outputs": [],
   "source": [
    "appointments_df['EndTime'] = appointments_df['EndTime'].fillna(\"NULL\")"
   ],
   "metadata": {
    "collapsed": false
   }
  },
  {
   "cell_type": "code",
   "execution_count": 31,
   "outputs": [
    {
     "data": {
      "text/plain": "type\nInpatient        112751\nConsultation    9640181\nName: count, dtype: int64"
     },
     "execution_count": 31,
     "metadata": {},
     "output_type": "execute_result"
    }
   ],
   "source": [
    "appointments_df['type'].value_counts(dropna=False).sort_values()"
   ],
   "metadata": {
    "collapsed": false
   }
  },
  {
   "cell_type": "code",
   "execution_count": 23,
   "outputs": [
    {
     "data": {
      "text/plain": "pxid          False\nclinicid      False\ndoctorid      False\napptid        False\nstatus        False\nTimeQueued    False\nQueueDate     False\nStartTime     False\nEndTime       False\ntype          False\nVirtual        True\ndtype: bool"
     },
     "execution_count": 23,
     "metadata": {},
     "output_type": "execute_result"
    }
   ],
   "source": [
    "appointments_df.isnull().any()"
   ],
   "metadata": {
    "collapsed": false
   }
  },
  {
   "cell_type": "code",
   "execution_count": 59,
   "outputs": [
    {
     "name": "stdout",
     "output_type": "stream",
     "text": [
      "<class 'pandas.core.frame.DataFrame'>\n",
      "RangeIndex: 6507812 entries, 0 to 6507811\n",
      "Data columns (total 3 columns):\n",
      " #   Column  Dtype  \n",
      "---  ------  -----  \n",
      " 0   pxid    object \n",
      " 1   age     float64\n",
      " 2   gender  object \n",
      "dtypes: float64(1), object(2)\n",
      "memory usage: 149.0+ MB\n"
     ]
    }
   ],
   "source": [
    "patients_df.info()"
   ],
   "metadata": {
    "collapsed": false
   }
  },
  {
   "cell_type": "code",
   "execution_count": 58,
   "outputs": [
    {
     "name": "stdout",
     "output_type": "stream",
     "text": [
      "<class 'pandas.core.frame.DataFrame'>\n",
      "RangeIndex: 9752932 entries, 0 to 9752931\n",
      "Data columns (total 11 columns):\n",
      " #   Column      Dtype \n",
      "---  ------      ----- \n",
      " 0   pxid        object\n",
      " 1   clinicid    object\n",
      " 2   doctorid    object\n",
      " 3   apptid      object\n",
      " 4   status      object\n",
      " 5   TimeQueued  object\n",
      " 6   QueueDate   object\n",
      " 7   StartTime   object\n",
      " 8   EndTime     object\n",
      " 9   type        object\n",
      " 10  Virtual     object\n",
      "dtypes: object(11)\n",
      "memory usage: 818.5+ MB\n"
     ]
    }
   ],
   "source": [
    "appointments_df.info()"
   ],
   "metadata": {
    "collapsed": false
   }
  },
  {
   "cell_type": "code",
   "execution_count": 50,
   "outputs": [
    {
     "name": "stdout",
     "output_type": "stream",
     "text": [
      "<class 'pandas.core.frame.DataFrame'>\n",
      "RangeIndex: 522346 entries, 0 to 522345\n",
      "Data columns (total 11 columns):\n",
      " #   Column      Non-Null Count   Dtype \n",
      "---  ------      --------------   ----- \n",
      " 0   pxid        522346 non-null  object\n",
      " 1   clinicid    522346 non-null  object\n",
      " 2   doctorid    522346 non-null  object\n",
      " 3   apptid      522346 non-null  object\n",
      " 4   status      522346 non-null  object\n",
      " 5   TimeQueued  522346 non-null  object\n",
      " 6   QueueDate   522346 non-null  object\n",
      " 7   StartTime   352714 non-null  object\n",
      " 8   EndTime     90502 non-null   object\n",
      " 9   type        522346 non-null  object\n",
      " 10  Virtual     205399 non-null  object\n",
      "dtypes: object(11)\n",
      "memory usage: 43.8+ MB\n"
     ]
    }
   ],
   "source": [
    "# appointments_df['pxid'] = appointments_df['pxid'].astype(str)\n",
    "# patients_df['pxid'] = appointments_df['pxid'].astype(str)\n",
    "main_df = pd.merge(appointments_df, patients_df['pxid'], on='pxid', how='inner')\n",
    "main_df.info()"
   ],
   "metadata": {
    "collapsed": false
   }
  },
  {
   "cell_type": "code",
   "execution_count": 51,
   "outputs": [
    {
     "name": "stdout",
     "output_type": "stream",
     "text": [
      "<class 'pandas.core.frame.DataFrame'>\n",
      "RangeIndex: 522346 entries, 0 to 522345\n",
      "Data columns (total 11 columns):\n",
      " #   Column      Non-Null Count   Dtype \n",
      "---  ------      --------------   ----- \n",
      " 0   pxid        522346 non-null  object\n",
      " 1   clinicid    522346 non-null  object\n",
      " 2   doctorid    522346 non-null  object\n",
      " 3   apptid      522346 non-null  object\n",
      " 4   status      522346 non-null  object\n",
      " 5   TimeQueued  522346 non-null  object\n",
      " 6   QueueDate   522346 non-null  object\n",
      " 7   StartTime   352714 non-null  object\n",
      " 8   EndTime     90502 non-null   object\n",
      " 9   type        522346 non-null  object\n",
      " 10  Virtual     205399 non-null  object\n",
      "dtypes: object(11)\n",
      "memory usage: 43.8+ MB\n"
     ]
    }
   ],
   "source": [
    "main_df = pd.merge(main_df, doctors_df['doctorid'], on='doctorid', how='inner')\n",
    "main_df.info()"
   ],
   "metadata": {
    "collapsed": false
   }
  },
  {
   "cell_type": "code",
   "execution_count": 52,
   "outputs": [
    {
     "name": "stdout",
     "output_type": "stream",
     "text": [
      "<class 'pandas.core.frame.DataFrame'>\n",
      "RangeIndex: 522346 entries, 0 to 522345\n",
      "Data columns (total 11 columns):\n",
      " #   Column      Non-Null Count   Dtype \n",
      "---  ------      --------------   ----- \n",
      " 0   pxid        522346 non-null  object\n",
      " 1   clinicid    522346 non-null  object\n",
      " 2   doctorid    522346 non-null  object\n",
      " 3   apptid      522346 non-null  object\n",
      " 4   status      522346 non-null  object\n",
      " 5   TimeQueued  522346 non-null  object\n",
      " 6   QueueDate   522346 non-null  object\n",
      " 7   StartTime   352714 non-null  object\n",
      " 8   EndTime     90502 non-null   object\n",
      " 9   type        522346 non-null  object\n",
      " 10  Virtual     205399 non-null  object\n",
      "dtypes: object(11)\n",
      "memory usage: 43.8+ MB\n"
     ]
    }
   ],
   "source": [
    "main_df = pd.merge(main_df, clinics_df['clinicid'], on='clinicid', how='inner')\n",
    "main_df.info()"
   ],
   "metadata": {
    "collapsed": false
   }
  },
  {
   "cell_type": "code",
   "execution_count": 110,
   "outputs": [
    {
     "data": {
      "text/plain": "EndTime\n[2022-02-13 01:01:00]              20\n[2021-10-18 01:01:00]              20\n[2021-10-23 01:01:00]              20\n[2021-12-26 01:01:00]              20\n[2021-09-24 01:01:00]              18\n                                   ..\n[2020-09-01 07:15:43.017000000]     1\n[2020-09-02 06:45:55.957000000]     1\n[2020-09-02 06:15:40.583000000]     1\n[2020-09-03 07:15:21.513000000]     1\n[2022-01-23 07:07:00]               1\nName: count, Length: 44537, dtype: int64"
     },
     "execution_count": 110,
     "metadata": {},
     "output_type": "execute_result"
    }
   ],
   "source": [
    "invalid_df = main_df['EndTime'].str.findall(r'\\d{4}-\\d{2}-\\d{2} \\d{2}:\\d{2}:\\d{2}\\.?\\d*')\n",
    "invalid_df"
   ],
   "metadata": {
    "collapsed": false
   }
  },
  {
   "cell_type": "code",
   "execution_count": 114,
   "outputs": [
    {
     "data": {
      "text/plain": "0         [2020-07-02 17:15:38.073000000]\n1         [2020-07-02 17:15:38.073000000]\n2         [2020-07-12 17:15:15.833000000]\n3         [2020-07-12 17:15:15.833000000]\n4         [2020-07-20 05:15:49.687000000]\n                       ...               \n522341              [2021-03-19 06:25:00]\n522342              [2021-03-31 21:33:00]\n522343              [2021-05-19 05:04:00]\n522344              [2021-09-24 06:29:00]\n522345              [2022-01-23 07:07:00]\nName: EndTime, Length: 522346, dtype: object"
     },
     "execution_count": 114,
     "metadata": {},
     "output_type": "execute_result"
    }
   ],
   "source": [
    "invalid_df"
   ],
   "metadata": {
    "collapsed": false
   }
  },
  {
   "cell_type": "code",
   "execution_count": 115,
   "outputs": [
    {
     "name": "stdout",
     "output_type": "stream",
     "text": [
      "<class 'pandas.core.frame.DataFrame'>\n",
      "RangeIndex: 522346 entries, 0 to 522345\n",
      "Data columns (total 11 columns):\n",
      " #   Column      Non-Null Count   Dtype \n",
      "---  ------      --------------   ----- \n",
      " 0   pxid        522346 non-null  object\n",
      " 1   clinicid    522346 non-null  object\n",
      " 2   doctorid    522346 non-null  object\n",
      " 3   apptid      522346 non-null  object\n",
      " 4   status      522346 non-null  object\n",
      " 5   TimeQueued  522346 non-null  object\n",
      " 6   QueueDate   522346 non-null  object\n",
      " 7   StartTime   352714 non-null  object\n",
      " 8   EndTime     90502 non-null   object\n",
      " 9   type        522346 non-null  object\n",
      " 10  Virtual     205399 non-null  object\n",
      "dtypes: object(11)\n",
      "memory usage: 43.8+ MB\n"
     ]
    }
   ],
   "source": [
    "main_df.info()"
   ],
   "metadata": {
    "collapsed": false
   }
  },
  {
   "cell_type": "code",
   "execution_count": 117,
   "outputs": [
    {
     "name": "stdout",
     "output_type": "stream",
     "text": [
      "<class 'pandas.core.frame.DataFrame'>\n",
      "RangeIndex: 522346 entries, 0 to 522345\n",
      "Data columns (total 11 columns):\n",
      " #   Column      Non-Null Count   Dtype \n",
      "---  ------      --------------   ----- \n",
      " 0   pxid        522346 non-null  object\n",
      " 1   clinicid    522346 non-null  object\n",
      " 2   doctorid    522346 non-null  object\n",
      " 3   apptid      522346 non-null  object\n",
      " 4   status      522346 non-null  object\n",
      " 5   TimeQueued  522346 non-null  object\n",
      " 6   QueueDate   522346 non-null  object\n",
      " 7   StartTime   522346 non-null  object\n",
      " 8   EndTime     522346 non-null  object\n",
      " 9   type        522346 non-null  object\n",
      " 10  Virtual     205399 non-null  object\n",
      "dtypes: object(11)\n",
      "memory usage: 43.8+ MB\n"
     ]
    }
   ],
   "source": [
    "main_df['EndTime'] = main_df['EndTime'].fillna('NULL')\n",
    "main_df['StartTime'] = main_df['StartTime'].fillna('NULL')\n",
    "main_df.info()"
   ],
   "metadata": {
    "collapsed": false
   }
  },
  {
   "cell_type": "code",
   "execution_count": 119,
   "outputs": [
    {
     "data": {
      "text/plain": "array(['Consultation', 'Inpatient'], dtype=object)"
     },
     "execution_count": 119,
     "metadata": {},
     "output_type": "execute_result"
    }
   ],
   "source": [
    "main_df['type'].unique()"
   ],
   "metadata": {
    "collapsed": false
   }
  },
  {
   "cell_type": "code",
   "execution_count": 120,
   "outputs": [
    {
     "data": {
      "text/plain": "                                    pxid                          clinicid  \\\n1204    A4B7F2DEFAB485D3E823EC2E2887CE8B  287ABB19DA8AADBD118443E92685853E   \n1205    A4B7F2DEFAB485D3E823EC2E2887CE8B  287ABB19DA8AADBD118443E92685853E   \n3326    B61BB5CAA06916F0E7F095678F1160D1  BAE3529F0210CC5A603AC708BB5E7797   \n3327    B61BB5CAA06916F0E7F095678F1160D1  BAE3529F0210CC5A603AC708BB5E7797   \n3458    CEC712367A9D73263198E89D2740D665  40ACE1BABB133E1EA17F09932DD2E508   \n...                                  ...                               ...   \n521929  180728A1AB4FA0B7E04FD98330D7E176  B5F73D2F8C5E4AA26041EFFE5FBDF930   \n521936  9D895E7EE02B955F12031933D3919F39  B5F73D2F8C5E4AA26041EFFE5FBDF930   \n521937  DA6746BB79186CDBA25FB834A37E2CCF  4776DA547036453F71AB92AAD7C727BD   \n522256  737E1BEBACD52D564B5E091B18FD4F77  4776DA547036453F71AB92AAD7C727BD   \n522299  C565D94FB9DE87B8CC67C6B0BE3AB04F  D05AEBFECC37280437B02591573D6E03   \n\n                                doctorid                            apptid  \\\n1204    ACB3A881C7CE9ABCAE0CE8C99C86A906  99D860AB38428CB8A5D288083E360FE1   \n1205    ACB3A881C7CE9ABCAE0CE8C99C86A906  99D860AB38428CB8A5D288083E360FE1   \n3326    ACB3A881C7CE9ABCAE0CE8C99C86A906  C088134FD423E91DDD05F6F07D0F9AA1   \n3327    ACB3A881C7CE9ABCAE0CE8C99C86A906  C088134FD423E91DDD05F6F07D0F9AA1   \n3458    30A250583BC20CF070AB6C9189508FCC  B040FF3DF6C113BA3CCB67CAECD231A3   \n...                                  ...                               ...   \n521929  40F4DA34BBE180214C23B9E55DA4F772  FE98FA7C8F8E514915B48FD50B61FDF3   \n521936  40F4DA34BBE180214C23B9E55DA4F772  D6273DDDE4C6B001F69378567C414254   \n521937  F7F07E7DAB09533BC71247A5B29A7373  7125DEE97DCE77AAE68AED4C6C36B8A2   \n522256  F7F07E7DAB09533BC71247A5B29A7373  99FED9BA404058DEA8180CE7F0D8E63A   \n522299  F7F07E7DAB09533BC71247A5B29A7373  3B786779488E0E6E0FF1C5E478E34C92   \n\n          status                     TimeQueued            QueueDate  \\\n1204    Complete  2023-10-24 02:10:09.463000000  2023-10-23 16:00:00   \n1205    Complete  2023-10-24 02:10:09.463000000  2023-10-23 16:00:00   \n3326      Cancel  2022-08-18 05:49:28.943000000  2022-08-17 16:00:00   \n3327      Cancel  2022-08-18 05:49:28.943000000  2022-08-17 16:00:00   \n3458    Complete  2021-09-03 06:09:09.413000000  2021-09-02 16:00:00   \n...          ...                            ...                  ...   \n521929  Complete  2022-05-16 09:32:23.633000000  2022-05-15 16:00:00   \n521936    Queued  2024-01-13 02:35:33.900000000  2024-03-07 16:00:00   \n521937    Queued  2020-05-22 03:58:06.217000000  2020-05-21 16:00:00   \n522256    NoShow  2022-07-16 01:54:00.477000000  2022-07-22 16:00:00   \n522299   Serving  2020-11-20 02:48:40.323000000  2020-11-20 16:00:00   \n\n                            StartTime EndTime          type Virtual  \n1204                             NULL    NULL  Consultation    True  \n1205                             NULL    NULL  Consultation    True  \n3326                             NULL    NULL  Consultation   False  \n3327                             NULL    NULL  Consultation   False  \n3458                             NULL    NULL  Consultation     NaN  \n...                               ...     ...           ...     ...  \n521929                           NULL    NULL  Consultation    True  \n521936                           NULL    NULL  Consultation    True  \n521937  2020-05-22 03:57:04.513000000    NULL     Inpatient     NaN  \n522256                           NULL    NULL  Consultation   False  \n522299            2020-11-21 02:00:00    NULL  Consultation   False  \n\n[431844 rows x 11 columns]",
      "text/html": "<div>\n<style scoped>\n    .dataframe tbody tr th:only-of-type {\n        vertical-align: middle;\n    }\n\n    .dataframe tbody tr th {\n        vertical-align: top;\n    }\n\n    .dataframe thead th {\n        text-align: right;\n    }\n</style>\n<table border=\"1\" class=\"dataframe\">\n  <thead>\n    <tr style=\"text-align: right;\">\n      <th></th>\n      <th>pxid</th>\n      <th>clinicid</th>\n      <th>doctorid</th>\n      <th>apptid</th>\n      <th>status</th>\n      <th>TimeQueued</th>\n      <th>QueueDate</th>\n      <th>StartTime</th>\n      <th>EndTime</th>\n      <th>type</th>\n      <th>Virtual</th>\n    </tr>\n  </thead>\n  <tbody>\n    <tr>\n      <th>1204</th>\n      <td>A4B7F2DEFAB485D3E823EC2E2887CE8B</td>\n      <td>287ABB19DA8AADBD118443E92685853E</td>\n      <td>ACB3A881C7CE9ABCAE0CE8C99C86A906</td>\n      <td>99D860AB38428CB8A5D288083E360FE1</td>\n      <td>Complete</td>\n      <td>2023-10-24 02:10:09.463000000</td>\n      <td>2023-10-23 16:00:00</td>\n      <td>NULL</td>\n      <td>NULL</td>\n      <td>Consultation</td>\n      <td>True</td>\n    </tr>\n    <tr>\n      <th>1205</th>\n      <td>A4B7F2DEFAB485D3E823EC2E2887CE8B</td>\n      <td>287ABB19DA8AADBD118443E92685853E</td>\n      <td>ACB3A881C7CE9ABCAE0CE8C99C86A906</td>\n      <td>99D860AB38428CB8A5D288083E360FE1</td>\n      <td>Complete</td>\n      <td>2023-10-24 02:10:09.463000000</td>\n      <td>2023-10-23 16:00:00</td>\n      <td>NULL</td>\n      <td>NULL</td>\n      <td>Consultation</td>\n      <td>True</td>\n    </tr>\n    <tr>\n      <th>3326</th>\n      <td>B61BB5CAA06916F0E7F095678F1160D1</td>\n      <td>BAE3529F0210CC5A603AC708BB5E7797</td>\n      <td>ACB3A881C7CE9ABCAE0CE8C99C86A906</td>\n      <td>C088134FD423E91DDD05F6F07D0F9AA1</td>\n      <td>Cancel</td>\n      <td>2022-08-18 05:49:28.943000000</td>\n      <td>2022-08-17 16:00:00</td>\n      <td>NULL</td>\n      <td>NULL</td>\n      <td>Consultation</td>\n      <td>False</td>\n    </tr>\n    <tr>\n      <th>3327</th>\n      <td>B61BB5CAA06916F0E7F095678F1160D1</td>\n      <td>BAE3529F0210CC5A603AC708BB5E7797</td>\n      <td>ACB3A881C7CE9ABCAE0CE8C99C86A906</td>\n      <td>C088134FD423E91DDD05F6F07D0F9AA1</td>\n      <td>Cancel</td>\n      <td>2022-08-18 05:49:28.943000000</td>\n      <td>2022-08-17 16:00:00</td>\n      <td>NULL</td>\n      <td>NULL</td>\n      <td>Consultation</td>\n      <td>False</td>\n    </tr>\n    <tr>\n      <th>3458</th>\n      <td>CEC712367A9D73263198E89D2740D665</td>\n      <td>40ACE1BABB133E1EA17F09932DD2E508</td>\n      <td>30A250583BC20CF070AB6C9189508FCC</td>\n      <td>B040FF3DF6C113BA3CCB67CAECD231A3</td>\n      <td>Complete</td>\n      <td>2021-09-03 06:09:09.413000000</td>\n      <td>2021-09-02 16:00:00</td>\n      <td>NULL</td>\n      <td>NULL</td>\n      <td>Consultation</td>\n      <td>NaN</td>\n    </tr>\n    <tr>\n      <th>...</th>\n      <td>...</td>\n      <td>...</td>\n      <td>...</td>\n      <td>...</td>\n      <td>...</td>\n      <td>...</td>\n      <td>...</td>\n      <td>...</td>\n      <td>...</td>\n      <td>...</td>\n      <td>...</td>\n    </tr>\n    <tr>\n      <th>521929</th>\n      <td>180728A1AB4FA0B7E04FD98330D7E176</td>\n      <td>B5F73D2F8C5E4AA26041EFFE5FBDF930</td>\n      <td>40F4DA34BBE180214C23B9E55DA4F772</td>\n      <td>FE98FA7C8F8E514915B48FD50B61FDF3</td>\n      <td>Complete</td>\n      <td>2022-05-16 09:32:23.633000000</td>\n      <td>2022-05-15 16:00:00</td>\n      <td>NULL</td>\n      <td>NULL</td>\n      <td>Consultation</td>\n      <td>True</td>\n    </tr>\n    <tr>\n      <th>521936</th>\n      <td>9D895E7EE02B955F12031933D3919F39</td>\n      <td>B5F73D2F8C5E4AA26041EFFE5FBDF930</td>\n      <td>40F4DA34BBE180214C23B9E55DA4F772</td>\n      <td>D6273DDDE4C6B001F69378567C414254</td>\n      <td>Queued</td>\n      <td>2024-01-13 02:35:33.900000000</td>\n      <td>2024-03-07 16:00:00</td>\n      <td>NULL</td>\n      <td>NULL</td>\n      <td>Consultation</td>\n      <td>True</td>\n    </tr>\n    <tr>\n      <th>521937</th>\n      <td>DA6746BB79186CDBA25FB834A37E2CCF</td>\n      <td>4776DA547036453F71AB92AAD7C727BD</td>\n      <td>F7F07E7DAB09533BC71247A5B29A7373</td>\n      <td>7125DEE97DCE77AAE68AED4C6C36B8A2</td>\n      <td>Queued</td>\n      <td>2020-05-22 03:58:06.217000000</td>\n      <td>2020-05-21 16:00:00</td>\n      <td>2020-05-22 03:57:04.513000000</td>\n      <td>NULL</td>\n      <td>Inpatient</td>\n      <td>NaN</td>\n    </tr>\n    <tr>\n      <th>522256</th>\n      <td>737E1BEBACD52D564B5E091B18FD4F77</td>\n      <td>4776DA547036453F71AB92AAD7C727BD</td>\n      <td>F7F07E7DAB09533BC71247A5B29A7373</td>\n      <td>99FED9BA404058DEA8180CE7F0D8E63A</td>\n      <td>NoShow</td>\n      <td>2022-07-16 01:54:00.477000000</td>\n      <td>2022-07-22 16:00:00</td>\n      <td>NULL</td>\n      <td>NULL</td>\n      <td>Consultation</td>\n      <td>False</td>\n    </tr>\n    <tr>\n      <th>522299</th>\n      <td>C565D94FB9DE87B8CC67C6B0BE3AB04F</td>\n      <td>D05AEBFECC37280437B02591573D6E03</td>\n      <td>F7F07E7DAB09533BC71247A5B29A7373</td>\n      <td>3B786779488E0E6E0FF1C5E478E34C92</td>\n      <td>Serving</td>\n      <td>2020-11-20 02:48:40.323000000</td>\n      <td>2020-11-20 16:00:00</td>\n      <td>2020-11-21 02:00:00</td>\n      <td>NULL</td>\n      <td>Consultation</td>\n      <td>False</td>\n    </tr>\n  </tbody>\n</table>\n<p>431844 rows × 11 columns</p>\n</div>"
     },
     "execution_count": 120,
     "metadata": {},
     "output_type": "execute_result"
    }
   ],
   "source": [
    "main_df[main_df['EndTime'] == 'NULL']"
   ],
   "metadata": {
    "collapsed": false
   }
  },
  {
   "cell_type": "code",
   "execution_count": 118,
   "outputs": [],
   "source": [
    "main_df.to_csv('apptRDX.csv', quoting=csv.QUOTE_ALL, index=False)"
   ],
   "metadata": {
    "collapsed": false
   }
  }
 ],
 "metadata": {
  "kernelspec": {
   "display_name": "Python 3",
   "language": "python",
   "name": "python3"
  },
  "language_info": {
   "codemirror_mode": {
    "name": "ipython",
    "version": 2
   },
   "file_extension": ".py",
   "mimetype": "text/x-python",
   "name": "python",
   "nbconvert_exporter": "python",
   "pygments_lexer": "ipython2",
   "version": "2.7.6"
  }
 },
 "nbformat": 4,
 "nbformat_minor": 0
}
