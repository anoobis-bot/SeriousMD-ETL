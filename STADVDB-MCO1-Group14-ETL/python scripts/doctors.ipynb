{
 "cells": [
  {
   "cell_type": "markdown",
   "metadata": {},
   "source": [
    "The ETL process is as follows:\n",
    "1. Import the database tables as dataframes\n",
    "2. Use pandas dataframe operations to clean the dataframe\n",
    "3. Extract dimension values\n",
    "4. Load it to the data warehouse\n",
    "\n",
    "Standard Protocols will be used to clean data\n",
    "1. Checking for incorrect data types\n",
    "2. Check for dupliucate values\n",
    "3. Check for multiple representations\n",
    "4. Check for missing and default values\n",
    "5. Check for inconsistent format"
   ]
  },
  {
   "cell_type": "code",
   "execution_count": 2,
   "metadata": {
    "collapsed": true
   },
   "outputs": [
    {
     "name": "stderr",
     "output_type": "stream",
     "text": [
      "C:\\Users\\Francis\\AppData\\Local\\Temp\\ipykernel_588\\3874242438.py:1: DeprecationWarning: \n",
      "Pyarrow will become a required dependency of pandas in the next major release of pandas (pandas 3.0),\n",
      "(to allow more performant data types, such as the Arrow string type, and better interoperability with other libraries)\n",
      "but was not found to be installed on your system.\n",
      "If this would cause problems for you,\n",
      "please provide us feedback at https://github.com/pandas-dev/pandas/issues/54466\n",
      "        \n",
      "  import pandas as pd\n"
     ]
    }
   ],
   "source": [
    "import pandas as pd\n",
    "from sqlalchemy import create_engine\n",
    "from sqlalchemy import URL\n",
    "import numpy as np\n",
    "from enum import Enum\n",
    "import sqlalchemy"
   ]
  },
  {
   "cell_type": "code",
   "execution_count": 3,
   "metadata": {},
   "outputs": [],
   "source": [
    "# creating engine. MySQL will be used\n",
    "url_object = URL.create(\n",
    "    drivername='mysql',\n",
    "    username='root',\n",
    "    password='Data_101',\n",
    "    host='localhost',\n",
    "    port=3306,\n",
    "    database='seriousmd'\n",
    ")\n",
    "MySqlEngine = create_engine(url_object)"
   ]
  },
  {
   "cell_type": "code",
   "execution_count": 4,
   "metadata": {},
   "outputs": [],
   "source": [
    "# creating engine for data warehouse\n",
    "url_object = URL.create(\n",
    "    drivername='mysql',\n",
    "    username='root',\n",
    "    password='Data_101',\n",
    "    host='localhost',\n",
    "    port=3306,\n",
    "    database='mdwarehouse'\n",
    ")\n",
    "MySqlEngineDW = create_engine(url_object)"
   ]
  },
  {
   "cell_type": "code",
   "execution_count": 106,
   "metadata": {},
   "outputs": [
    {
     "name": "stdout",
     "output_type": "stream",
     "text": [
      "<class 'pandas.core.frame.DataFrame'>\n",
      "RangeIndex: 60024 entries, 0 to 60023\n",
      "Data columns (total 3 columns):\n",
      " #   Column         Non-Null Count  Dtype \n",
      "---  ------         --------------  ----- \n",
      " 0   doctorid       60024 non-null  object\n",
      " 1   mainspecialty  27315 non-null  object\n",
      " 2   age            20028 non-null  Int64 \n",
      "dtypes: Int64(1), object(2)\n",
      "memory usage: 1.4+ MB\n"
     ]
    }
   ],
   "source": [
    "# importing the appointments table to a dataframe for\n",
    "seriousmd_conn = MySqlEngine.connect()\n",
    "\n",
    "doctors_df = pd.read_sql(\n",
    "    sql=\"\"\"SELECT * FROM doctors\"\"\",\n",
    "    con=seriousmd_conn,\n",
    "    dtype={\n",
    "        'age': pd.Int64Dtype()\n",
    "    }\n",
    ")\n",
    "doctors_df.info()\n",
    "\n",
    "seriousmd_conn.close()"
   ]
  },
  {
   "cell_type": "markdown",
   "metadata": {},
   "source": [
    "**Cleaning Data**"
   ]
  },
  {
   "cell_type": "code",
   "execution_count": 107,
   "metadata": {},
   "outputs": [
    {
     "data": {
      "text/html": [
       "<div>\n",
       "<style scoped>\n",
       "    .dataframe tbody tr th:only-of-type {\n",
       "        vertical-align: middle;\n",
       "    }\n",
       "\n",
       "    .dataframe tbody tr th {\n",
       "        vertical-align: top;\n",
       "    }\n",
       "\n",
       "    .dataframe thead th {\n",
       "        text-align: right;\n",
       "    }\n",
       "</style>\n",
       "<table border=\"1\" class=\"dataframe\">\n",
       "  <thead>\n",
       "    <tr style=\"text-align: right;\">\n",
       "      <th></th>\n",
       "      <th>doctorid</th>\n",
       "      <th>mainspecialty</th>\n",
       "      <th>age</th>\n",
       "    </tr>\n",
       "  </thead>\n",
       "  <tbody>\n",
       "  </tbody>\n",
       "</table>\n",
       "</div>"
      ],
      "text/plain": [
       "Empty DataFrame\n",
       "Columns: [doctorid, mainspecialty, age]\n",
       "Index: []"
      ]
     },
     "execution_count": 107,
     "metadata": {},
     "output_type": "execute_result"
    }
   ],
   "source": [
    "doctors_df[doctors_df.duplicated()]"
   ]
  },
  {
   "cell_type": "code",
   "execution_count": 108,
   "metadata": {},
   "outputs": [
    {
     "data": {
      "text/html": [
       "<div>\n",
       "<style scoped>\n",
       "    .dataframe tbody tr th:only-of-type {\n",
       "        vertical-align: middle;\n",
       "    }\n",
       "\n",
       "    .dataframe tbody tr th {\n",
       "        vertical-align: top;\n",
       "    }\n",
       "\n",
       "    .dataframe thead th {\n",
       "        text-align: right;\n",
       "    }\n",
       "</style>\n",
       "<table border=\"1\" class=\"dataframe\">\n",
       "  <thead>\n",
       "    <tr style=\"text-align: right;\">\n",
       "      <th></th>\n",
       "      <th>doctorid</th>\n",
       "      <th>mainspecialty</th>\n",
       "      <th>age</th>\n",
       "    </tr>\n",
       "  </thead>\n",
       "  <tbody>\n",
       "  </tbody>\n",
       "</table>\n",
       "</div>"
      ],
      "text/plain": [
       "Empty DataFrame\n",
       "Columns: [doctorid, mainspecialty, age]\n",
       "Index: []"
      ]
     },
     "execution_count": 108,
     "metadata": {},
     "output_type": "execute_result"
    }
   ],
   "source": [
    "doctors_df[doctors_df['doctorid'].duplicated()]"
   ]
  },
  {
   "cell_type": "markdown",
   "metadata": {},
   "source": [
    "Checking for multiple representation"
   ]
  },
  {
   "cell_type": "code",
   "execution_count": 109,
   "metadata": {},
   "outputs": [
    {
     "data": {
      "text/plain": [
       "age\n",
       "<NA>    39996\n",
       "34       1215\n",
       "35       1082\n",
       "33        973\n",
       "37        971\n",
       "        ...  \n",
       "4           1\n",
       "91          1\n",
       "92          1\n",
       "1048        1\n",
       "160         1\n",
       "Name: count, Length: 82, dtype: Int64"
      ]
     },
     "execution_count": 109,
     "metadata": {},
     "output_type": "execute_result"
    }
   ],
   "source": [
    "doctors_df['age'].value_counts(dropna=False)"
   ]
  },
  {
   "cell_type": "code",
   "execution_count": 134,
   "metadata": {},
   "outputs": [
    {
     "data": {
      "text/plain": [
       "mainspecialty\n",
       "None                                           32830\n",
       "Internal Medicine                               3957\n",
       "General Medicine                                2378\n",
       "Pediatrics                                      1762\n",
       "General Physician                                933\n",
       "                                               ...  \n",
       "Adult Hematology                                   1\n",
       "E.G                                                1\n",
       "General Dentistry, Orthodontics, & Implants        1\n",
       "Pediatric -Adolescent Medicine                     1\n",
       "Breast -General Surgery                            1\n",
       "Name: count, Length: 3784, dtype: int64"
      ]
     },
     "execution_count": 134,
     "metadata": {},
     "output_type": "execute_result"
    }
   ],
   "source": [
    "doctors_df['mainspecialty'].value_counts(dropna=False)"
   ]
  },
  {
   "cell_type": "markdown",
   "metadata": {},
   "source": [
    "Plan of attack.\n",
    "1. Create a junc table\n",
    "2. Compile all\n",
    "2a. With compiling, create a copy separate table\n",
    "2b. Query all with that\n",
    "2c. Once added to the list, delete that row."
   ]
  },
  {
   "cell_type": "code",
   "execution_count": 123,
   "metadata": {},
   "outputs": [],
   "source": [
    "# creating the junction table\n",
    "junc_doctor_specialty = pd.DataFrame(columns=['doctorid', 'mainspecialty'])"
   ]
  },
  {
   "cell_type": "code",
   "execution_count": 112,
   "metadata": {},
   "outputs": [],
   "source": [
    "# creating the specialty table\n",
    "specialty_df = []"
   ]
  },
  {
   "cell_type": "code",
   "execution_count": 113,
   "metadata": {},
   "outputs": [
    {
     "name": "stderr",
     "output_type": "stream",
     "text": [
      "C:\\Users\\Francis\\AppData\\Local\\Temp\\ipykernel_588\\3229376067.py:2: FutureWarning: A value is trying to be set on a copy of a DataFrame or Series through chained assignment using an inplace method.\n",
      "The behavior will change in pandas 3.0. This inplace method will never work because the intermediate object on which we are setting values always behaves as a copy.\n",
      "\n",
      "For example, when doing 'df[col].method(value, inplace=True)', try using 'df.method({col: value}, inplace=True)' or df[col] = df[col].method(value) instead, to perform the operation inplace on the original object.\n",
      "\n",
      "\n",
      "  doctors_df['mainspecialty'].replace(to_replace='None', value=None, inplace=True)\n"
     ]
    }
   ],
   "source": [
    "# replacing None\n",
    "doctors_df['mainspecialty'].replace(to_replace='None', value=None, inplace=True)"
   ]
  },
  {
   "cell_type": "code",
   "execution_count": 183,
   "metadata": {},
   "outputs": [
    {
     "data": {
      "text/plain": [
       "mainspecialty\n",
       "Internal Medicine                              3957\n",
       "General Medicine                               2378\n",
       "Pediatrics                                     1762\n",
       "General Physician                               933\n",
       "Family Medicine                                 919\n",
       "                                               ... \n",
       "Adult Hematology                                  1\n",
       "E.G                                               1\n",
       "General Dentistry, Orthodontics, & Implants       1\n",
       "Pediatric -Adolescent Medicine                    1\n",
       "Breast -General Surgery                           1\n",
       "Name: count, Length: 3783, dtype: int64"
      ]
     },
     "execution_count": 183,
     "metadata": {},
     "output_type": "execute_result"
    }
   ],
   "source": [
    "doctors_df['mainspecialty'].value_counts()"
   ]
  },
  {
   "cell_type": "code",
   "execution_count": 114,
   "metadata": {},
   "outputs": [],
   "source": [
    "doctors_df_cpy = doctors_df.copy()"
   ]
  },
  {
   "cell_type": "code",
   "execution_count": 115,
   "metadata": {},
   "outputs": [],
   "source": [
    "# let's tackle internal medicine first\n",
    "specialty_df.append('Internal Medicine')"
   ]
  },
  {
   "cell_type": "code",
   "execution_count": 118,
   "metadata": {},
   "outputs": [
    {
     "data": {
      "text/plain": [
       "mainspecialty\n",
       "Internal Medicine    3957\n",
       "Internal medicine     346\n",
       "internal medicine      97\n",
       "INTERNAL MEDICINE      96\n",
       "internal Medicine      13\n",
       "Internal MEdicine       2\n",
       "Internal MEDICINE       1\n",
       "Name: count, dtype: int64"
      ]
     },
     "execution_count": 118,
     "metadata": {},
     "output_type": "execute_result"
    }
   ],
   "source": [
    "regex_val = r'^Internal Medicine$'\n",
    "doctors_df_cpy[doctors_df_cpy['mainspecialty'].str.contains(pat=regex_val, case=False, na=False)]['mainspecialty'].value_counts()"
   ]
  },
  {
   "cell_type": "code",
   "execution_count": 121,
   "metadata": {},
   "outputs": [
    {
     "data": {
      "text/html": [
       "<div>\n",
       "<style scoped>\n",
       "    .dataframe tbody tr th:only-of-type {\n",
       "        vertical-align: middle;\n",
       "    }\n",
       "\n",
       "    .dataframe tbody tr th {\n",
       "        vertical-align: top;\n",
       "    }\n",
       "\n",
       "    .dataframe thead th {\n",
       "        text-align: right;\n",
       "    }\n",
       "</style>\n",
       "<table border=\"1\" class=\"dataframe\">\n",
       "  <thead>\n",
       "    <tr style=\"text-align: right;\">\n",
       "      <th></th>\n",
       "      <th>doctorid</th>\n",
       "      <th>mainspecialty</th>\n",
       "    </tr>\n",
       "  </thead>\n",
       "  <tbody>\n",
       "    <tr>\n",
       "      <th>4</th>\n",
       "      <td>A7AEED74714116F3B292A982238F83D2</td>\n",
       "      <td>Internal Medicine</td>\n",
       "    </tr>\n",
       "    <tr>\n",
       "      <th>10</th>\n",
       "      <td>B7B16ECF8CA53723593894116071700C</td>\n",
       "      <td>Internal Medicine</td>\n",
       "    </tr>\n",
       "    <tr>\n",
       "      <th>15</th>\n",
       "      <td>A1D33D0DFEC820B41B54430B50E96B5C</td>\n",
       "      <td>Internal Medicine</td>\n",
       "    </tr>\n",
       "    <tr>\n",
       "      <th>24</th>\n",
       "      <td>6CFE0E6127FA25DF2A0EF2AE1067D915</td>\n",
       "      <td>Internal Medicine</td>\n",
       "    </tr>\n",
       "    <tr>\n",
       "      <th>26</th>\n",
       "      <td>5D44EE6F2C3F71B73125876103C8F6C4</td>\n",
       "      <td>Internal Medicine</td>\n",
       "    </tr>\n",
       "    <tr>\n",
       "      <th>...</th>\n",
       "      <td>...</td>\n",
       "      <td>...</td>\n",
       "    </tr>\n",
       "    <tr>\n",
       "      <th>59913</th>\n",
       "      <td>191C62D342811D1A0D3D0528EC35CD2D</td>\n",
       "      <td>Internal Medicine</td>\n",
       "    </tr>\n",
       "    <tr>\n",
       "      <th>59941</th>\n",
       "      <td>5F268DFB0FBEF44DE0F668A022707B86</td>\n",
       "      <td>Internal Medicine</td>\n",
       "    </tr>\n",
       "    <tr>\n",
       "      <th>59945</th>\n",
       "      <td>B8C7803CAE4625F5A77592749E5D6FFF</td>\n",
       "      <td>Internal Medicine</td>\n",
       "    </tr>\n",
       "    <tr>\n",
       "      <th>59972</th>\n",
       "      <td>95A976F4986CACE28BC02AA631F7B88F</td>\n",
       "      <td>Internal Medicine</td>\n",
       "    </tr>\n",
       "    <tr>\n",
       "      <th>59993</th>\n",
       "      <td>74F23F9E28CBC5DDAAE8582F48642A59</td>\n",
       "      <td>Internal Medicine</td>\n",
       "    </tr>\n",
       "  </tbody>\n",
       "</table>\n",
       "<p>4512 rows × 2 columns</p>\n",
       "</div>"
      ],
      "text/plain": [
       "                               doctorid      mainspecialty\n",
       "4      A7AEED74714116F3B292A982238F83D2  Internal Medicine\n",
       "10     B7B16ECF8CA53723593894116071700C  Internal Medicine\n",
       "15     A1D33D0DFEC820B41B54430B50E96B5C  Internal Medicine\n",
       "24     6CFE0E6127FA25DF2A0EF2AE1067D915  Internal Medicine\n",
       "26     5D44EE6F2C3F71B73125876103C8F6C4  Internal Medicine\n",
       "...                                 ...                ...\n",
       "59913  191C62D342811D1A0D3D0528EC35CD2D  Internal Medicine\n",
       "59941  5F268DFB0FBEF44DE0F668A022707B86  Internal Medicine\n",
       "59945  B8C7803CAE4625F5A77592749E5D6FFF  Internal Medicine\n",
       "59972  95A976F4986CACE28BC02AA631F7B88F  Internal Medicine\n",
       "59993  74F23F9E28CBC5DDAAE8582F48642A59  Internal Medicine\n",
       "\n",
       "[4512 rows x 2 columns]"
      ]
     },
     "execution_count": 121,
     "metadata": {},
     "output_type": "execute_result"
    }
   ],
   "source": [
    "temp_df = doctors_df_cpy[doctors_df_cpy['mainspecialty'].str.contains(pat=regex_val, case=False, na=False)]['doctorid'].copy()\n",
    "temp_df = pd.DataFrame(temp_df)\n",
    "temp_df.insert(loc=1, column='mainspecialty', value='Internal Medicine')\n",
    "temp_df"
   ]
  },
  {
   "cell_type": "code",
   "execution_count": 124,
   "metadata": {},
   "outputs": [
    {
     "data": {
      "text/html": [
       "<div>\n",
       "<style scoped>\n",
       "    .dataframe tbody tr th:only-of-type {\n",
       "        vertical-align: middle;\n",
       "    }\n",
       "\n",
       "    .dataframe tbody tr th {\n",
       "        vertical-align: top;\n",
       "    }\n",
       "\n",
       "    .dataframe thead th {\n",
       "        text-align: right;\n",
       "    }\n",
       "</style>\n",
       "<table border=\"1\" class=\"dataframe\">\n",
       "  <thead>\n",
       "    <tr style=\"text-align: right;\">\n",
       "      <th></th>\n",
       "      <th>doctorid</th>\n",
       "      <th>mainspecialty</th>\n",
       "    </tr>\n",
       "  </thead>\n",
       "  <tbody>\n",
       "    <tr>\n",
       "      <th>0</th>\n",
       "      <td>A7AEED74714116F3B292A982238F83D2</td>\n",
       "      <td>Internal Medicine</td>\n",
       "    </tr>\n",
       "    <tr>\n",
       "      <th>1</th>\n",
       "      <td>B7B16ECF8CA53723593894116071700C</td>\n",
       "      <td>Internal Medicine</td>\n",
       "    </tr>\n",
       "    <tr>\n",
       "      <th>2</th>\n",
       "      <td>A1D33D0DFEC820B41B54430B50E96B5C</td>\n",
       "      <td>Internal Medicine</td>\n",
       "    </tr>\n",
       "    <tr>\n",
       "      <th>3</th>\n",
       "      <td>6CFE0E6127FA25DF2A0EF2AE1067D915</td>\n",
       "      <td>Internal Medicine</td>\n",
       "    </tr>\n",
       "    <tr>\n",
       "      <th>4</th>\n",
       "      <td>5D44EE6F2C3F71B73125876103C8F6C4</td>\n",
       "      <td>Internal Medicine</td>\n",
       "    </tr>\n",
       "    <tr>\n",
       "      <th>...</th>\n",
       "      <td>...</td>\n",
       "      <td>...</td>\n",
       "    </tr>\n",
       "    <tr>\n",
       "      <th>4507</th>\n",
       "      <td>191C62D342811D1A0D3D0528EC35CD2D</td>\n",
       "      <td>Internal Medicine</td>\n",
       "    </tr>\n",
       "    <tr>\n",
       "      <th>4508</th>\n",
       "      <td>5F268DFB0FBEF44DE0F668A022707B86</td>\n",
       "      <td>Internal Medicine</td>\n",
       "    </tr>\n",
       "    <tr>\n",
       "      <th>4509</th>\n",
       "      <td>B8C7803CAE4625F5A77592749E5D6FFF</td>\n",
       "      <td>Internal Medicine</td>\n",
       "    </tr>\n",
       "    <tr>\n",
       "      <th>4510</th>\n",
       "      <td>95A976F4986CACE28BC02AA631F7B88F</td>\n",
       "      <td>Internal Medicine</td>\n",
       "    </tr>\n",
       "    <tr>\n",
       "      <th>4511</th>\n",
       "      <td>74F23F9E28CBC5DDAAE8582F48642A59</td>\n",
       "      <td>Internal Medicine</td>\n",
       "    </tr>\n",
       "  </tbody>\n",
       "</table>\n",
       "<p>4512 rows × 2 columns</p>\n",
       "</div>"
      ],
      "text/plain": [
       "                              doctorid      mainspecialty\n",
       "0     A7AEED74714116F3B292A982238F83D2  Internal Medicine\n",
       "1     B7B16ECF8CA53723593894116071700C  Internal Medicine\n",
       "2     A1D33D0DFEC820B41B54430B50E96B5C  Internal Medicine\n",
       "3     6CFE0E6127FA25DF2A0EF2AE1067D915  Internal Medicine\n",
       "4     5D44EE6F2C3F71B73125876103C8F6C4  Internal Medicine\n",
       "...                                ...                ...\n",
       "4507  191C62D342811D1A0D3D0528EC35CD2D  Internal Medicine\n",
       "4508  5F268DFB0FBEF44DE0F668A022707B86  Internal Medicine\n",
       "4509  B8C7803CAE4625F5A77592749E5D6FFF  Internal Medicine\n",
       "4510  95A976F4986CACE28BC02AA631F7B88F  Internal Medicine\n",
       "4511  74F23F9E28CBC5DDAAE8582F48642A59  Internal Medicine\n",
       "\n",
       "[4512 rows x 2 columns]"
      ]
     },
     "execution_count": 124,
     "metadata": {},
     "output_type": "execute_result"
    }
   ],
   "source": [
    "junc_doctor_specialty = pd.concat([junc_doctor_specialty, temp_df], ignore_index=True)\n",
    "junc_doctor_specialty"
   ]
  },
  {
   "cell_type": "code",
   "execution_count": 129,
   "metadata": {},
   "outputs": [
    {
     "data": {
      "text/plain": [
       "<bound method DataFrame.info of                                doctorid              mainspecialty   age\n",
       "0      CCB1D45FB76F7C5A0BF619F979C6CF36                    Surgery    71\n",
       "1      6C29793A140A811D0C45CE03C1C93A28                       None  <NA>\n",
       "2      CF67355A3333E6E143439161ADC2D82E            Family Medicine    67\n",
       "3      5B69B9CB83065D403869739AE7F0995E  Obstetrics and Gynecology    43\n",
       "5      851DDF5058CF22DF63D3344AD89919CF              Ophthalmology    46\n",
       "...                                 ...                        ...   ...\n",
       "60019  B2592B47D3A46F07D90C3E5A9CF3ACC3                       None  <NA>\n",
       "60020  C136BB626E2697D2D1BBA2BD447277A1                       None  <NA>\n",
       "60021  7B49655747396EBE9689CE931D04F84C          GENERAL PHYSICIAN  <NA>\n",
       "60022  82048394A4FEC8B2F82CB19FAD17D292                       None  <NA>\n",
       "60023  D0F56CC15CD90A7568BD6E0319A0DDBB                       None  <NA>\n",
       "\n",
       "[55512 rows x 3 columns]>"
      ]
     },
     "execution_count": 129,
     "metadata": {},
     "output_type": "execute_result"
    }
   ],
   "source": [
    "drop_rows = doctors_df_cpy[doctors_df_cpy['mainspecialty'].str.contains(pat=regex_val, case=False, na=False)].index\n",
    "doctors_df_cpy = doctors_df_cpy.drop(index=drop_rows)\n",
    "doctors_df_cpy.info()"
   ]
  },
  {
   "cell_type": "markdown",
   "metadata": {},
   "source": [
    "start of function 'Internal Medicine'"
   ]
  },
  {
   "cell_type": "code",
   "execution_count": 165,
   "metadata": {},
   "outputs": [
    {
     "data": {
      "text/plain": [
       "Series([], Name: count, dtype: int64)"
      ]
     },
     "execution_count": 165,
     "metadata": {},
     "output_type": "execute_result"
    }
   ],
   "source": [
    "regex_val = r'Internal'\n",
    "doctors_df_cpy[doctors_df_cpy['mainspecialty'].str.contains(pat=regex_val, case=False, na=False)]['mainspecialty'].value_counts()"
   ]
  },
  {
   "cell_type": "code",
   "execution_count": 161,
   "metadata": {},
   "outputs": [
    {
     "name": "stdout",
     "output_type": "stream",
     "text": [
      "<class 'pandas.core.frame.DataFrame'>\n",
      "Index: 54524 entries, 0 to 60023\n",
      "Data columns (total 3 columns):\n",
      " #   Column         Non-Null Count  Dtype \n",
      "---  ------         --------------  ----- \n",
      " 0   doctorid       54524 non-null  object\n",
      " 1   mainspecialty  21694 non-null  object\n",
      " 2   age            15889 non-null  Int64 \n",
      "dtypes: Int64(1), object(2)\n",
      "memory usage: 1.7+ MB\n"
     ]
    }
   ],
   "source": [
    "temp_df = doctors_df_cpy[doctors_df_cpy['mainspecialty'].str.contains(pat=regex_val, case=False, na=False)]['doctorid'].copy()\n",
    "temp_df = pd.DataFrame(temp_df)\n",
    "temp_df.insert(loc=1, column='mainspecialty', value='Internal Medicine')\n",
    "\n",
    "junc_doctor_specialty = pd.concat([junc_doctor_specialty, temp_df], ignore_index=True)\n",
    "\n",
    "drop_rows = doctors_df_cpy[doctors_df_cpy['mainspecialty'].str.contains(pat=regex_val, case=False, na=False)].index\n",
    "doctors_df_cpy = doctors_df_cpy.drop(index=drop_rows)\n",
    "doctors_df_cpy.info()"
   ]
  },
  {
   "cell_type": "markdown",
   "metadata": {},
   "source": [
    "start for general"
   ]
  },
  {
   "cell_type": "code",
   "execution_count": 167,
   "metadata": {},
   "outputs": [],
   "source": [
    "doctors_df_cpy = doctors_df.copy()"
   ]
  },
  {
   "cell_type": "code",
   "execution_count": 168,
   "metadata": {},
   "outputs": [],
   "source": [
    "specialty_df.append('General Medicine')"
   ]
  },
  {
   "cell_type": "code",
   "execution_count": 181,
   "metadata": {},
   "outputs": [
    {
     "data": {
      "text/plain": [
       "mainspecialty\n",
       "GENERAL  MEDICINE    1\n",
       "Name: count, dtype: int64"
      ]
     },
     "execution_count": 181,
     "metadata": {},
     "output_type": "execute_result"
    }
   ],
   "source": [
    "regex_val = r'General  m'\n",
    "doctors_df_cpy[doctors_df_cpy['mainspecialty'].str.contains(pat=regex_val, case=False, na=False)]['mainspecialty'].value_counts()"
   ]
  },
  {
   "cell_type": "code",
   "execution_count": 182,
   "metadata": {},
   "outputs": [
    {
     "name": "stdout",
     "output_type": "stream",
     "text": [
      "<class 'pandas.core.frame.DataFrame'>\n",
      "RangeIndex: 11035 entries, 0 to 11034\n",
      "Data columns (total 2 columns):\n",
      " #   Column         Non-Null Count  Dtype \n",
      "---  ------         --------------  ----- \n",
      " 0   doctorid       11035 non-null  object\n",
      " 1   mainspecialty  11035 non-null  object\n",
      "dtypes: object(2)\n",
      "memory usage: 172.5+ KB\n"
     ]
    }
   ],
   "source": [
    "temp_df = doctors_df_cpy[doctors_df_cpy['mainspecialty'].str.contains(pat=regex_val, case=False, na=False)]['doctorid'].copy()\n",
    "temp_df = pd.DataFrame(temp_df)\n",
    "temp_df.insert(loc=1, column='mainspecialty', value='General Medicine')\n",
    "\n",
    "junc_doctor_specialty = pd.concat([junc_doctor_specialty, temp_df], ignore_index=True)\n",
    "\n",
    "drop_rows = doctors_df_cpy[doctors_df_cpy['mainspecialty'].str.contains(pat=regex_val, case=False, na=False)].index\n",
    "doctors_df_cpy = doctors_df_cpy.drop(index=drop_rows)\n",
    "\n",
    "junc_doctor_specialty.info()"
   ]
  },
  {
   "cell_type": "markdown",
   "metadata": {},
   "source": [
    "start for pedia"
   ]
  },
  {
   "cell_type": "code",
   "execution_count": 184,
   "metadata": {},
   "outputs": [],
   "source": [
    "doctors_df_cpy = doctors_df.copy()"
   ]
  },
  {
   "cell_type": "code",
   "execution_count": 185,
   "metadata": {},
   "outputs": [],
   "source": [
    "specialty_str = 'Pediatrics'\n",
    "specialty_df.append(specialty_str)"
   ]
  },
  {
   "cell_type": "code",
   "execution_count": 197,
   "metadata": {},
   "outputs": [
    {
     "data": {
      "text/plain": [
       "Series([], Name: count, dtype: int64)"
      ]
     },
     "execution_count": 197,
     "metadata": {},
     "output_type": "execute_result"
    }
   ],
   "source": [
    "regex_val = r'Pedia'\n",
    "doctors_df_cpy[doctors_df_cpy['mainspecialty'].str.contains(pat=regex_val, case=False, na=False)]['mainspecialty'].value_counts()"
   ]
  },
  {
   "cell_type": "code",
   "execution_count": 196,
   "metadata": {},
   "outputs": [
    {
     "name": "stdout",
     "output_type": "stream",
     "text": [
      "<class 'pandas.core.frame.DataFrame'>\n",
      "RangeIndex: 13717 entries, 0 to 13716\n",
      "Data columns (total 2 columns):\n",
      " #   Column         Non-Null Count  Dtype \n",
      "---  ------         --------------  ----- \n",
      " 0   doctorid       13717 non-null  object\n",
      " 1   mainspecialty  13717 non-null  object\n",
      "dtypes: object(2)\n",
      "memory usage: 214.5+ KB\n"
     ]
    }
   ],
   "source": [
    "temp_df = doctors_df_cpy[doctors_df_cpy['mainspecialty'].str.contains(pat=regex_val, case=False, na=False)]['doctorid'].copy()\n",
    "temp_df = pd.DataFrame(temp_df)\n",
    "temp_df.insert(loc=1, column='mainspecialty', value=specialty_str)\n",
    "\n",
    "junc_doctor_specialty = pd.concat([junc_doctor_specialty, temp_df], ignore_index=True)\n",
    "\n",
    "drop_rows = doctors_df_cpy[doctors_df_cpy['mainspecialty'].str.contains(pat=regex_val, case=False, na=False)].index\n",
    "doctors_df_cpy = doctors_df_cpy.drop(index=drop_rows)\n",
    "\n",
    "junc_doctor_specialty.info()"
   ]
  },
  {
   "cell_type": "markdown",
   "metadata": {},
   "source": [
    "start for family med"
   ]
  },
  {
   "cell_type": "code",
   "execution_count": 198,
   "metadata": {},
   "outputs": [],
   "source": [
    "doctors_df_cpy = doctors_df.copy()"
   ]
  },
  {
   "cell_type": "code",
   "execution_count": 199,
   "metadata": {},
   "outputs": [],
   "source": [
    "specialty_str = 'Family Medicine'\n",
    "specialty_df.append(specialty_str)"
   ]
  },
  {
   "cell_type": "code",
   "execution_count": 236,
   "metadata": {},
   "outputs": [
    {
     "data": {
      "text/plain": [
       "mainspecialty\n",
       "Family Doctor    4\n",
       "Family doctor    1\n",
       "Name: count, dtype: int64"
      ]
     },
     "execution_count": 236,
     "metadata": {},
     "output_type": "execute_result"
    }
   ],
   "source": [
    "regex_val = r'family do'\n",
    "doctors_df_cpy[doctors_df_cpy['mainspecialty'].str.contains(pat=regex_val, case=False, na=False)]['mainspecialty'].value_counts()"
   ]
  },
  {
   "cell_type": "code",
   "execution_count": 237,
   "metadata": {},
   "outputs": [
    {
     "name": "stdout",
     "output_type": "stream",
     "text": [
      "<class 'pandas.core.frame.DataFrame'>\n",
      "RangeIndex: 15081 entries, 0 to 15080\n",
      "Data columns (total 2 columns):\n",
      " #   Column         Non-Null Count  Dtype \n",
      "---  ------         --------------  ----- \n",
      " 0   doctorid       15081 non-null  object\n",
      " 1   mainspecialty  15081 non-null  object\n",
      "dtypes: object(2)\n",
      "memory usage: 235.8+ KB\n"
     ]
    }
   ],
   "source": [
    "temp_df = doctors_df_cpy[doctors_df_cpy['mainspecialty'].str.contains(pat=regex_val, case=False, na=False)]['doctorid'].copy()\n",
    "temp_df = pd.DataFrame(temp_df)\n",
    "temp_df.insert(loc=1, column='mainspecialty', value=specialty_str)\n",
    "\n",
    "junc_doctor_specialty = pd.concat([junc_doctor_specialty, temp_df], ignore_index=True)\n",
    "\n",
    "drop_rows = doctors_df_cpy[doctors_df_cpy['mainspecialty'].str.contains(pat=regex_val, case=False, na=False)].index\n",
    "doctors_df_cpy = doctors_df_cpy.drop(index=drop_rows)\n",
    "\n",
    "junc_doctor_specialty.info()"
   ]
  },
  {
   "cell_type": "markdown",
   "metadata": {},
   "source": [
    "obstetics"
   ]
  },
  {
   "cell_type": "code",
   "execution_count": 238,
   "metadata": {},
   "outputs": [],
   "source": [
    "doctors_df_cpy = doctors_df.copy()"
   ]
  },
  {
   "cell_type": "code",
   "execution_count": 239,
   "metadata": {},
   "outputs": [],
   "source": [
    "specialty_str = 'Obstetrics'\n",
    "specialty_df.append(specialty_str)"
   ]
  },
  {
   "cell_type": "code",
   "execution_count": 270,
   "metadata": {},
   "outputs": [
    {
     "data": {
      "text/plain": [
       "mainspecialty\n",
       "Oby    4\n",
       "Name: count, dtype: int64"
      ]
     },
     "execution_count": 270,
     "metadata": {},
     "output_type": "execute_result"
    }
   ],
   "source": [
    "regex_val = r'^Oby$'\n",
    "doctors_df_cpy[doctors_df_cpy['mainspecialty'].str.contains(pat=regex_val, case=False, na=False)]['mainspecialty'].value_counts()"
   ]
  },
  {
   "cell_type": "code",
   "execution_count": 271,
   "metadata": {},
   "outputs": [
    {
     "name": "stdout",
     "output_type": "stream",
     "text": [
      "<class 'pandas.core.frame.DataFrame'>\n",
      "RangeIndex: 17162 entries, 0 to 17161\n",
      "Data columns (total 2 columns):\n",
      " #   Column         Non-Null Count  Dtype \n",
      "---  ------         --------------  ----- \n",
      " 0   doctorid       17162 non-null  object\n",
      " 1   mainspecialty  17162 non-null  object\n",
      "dtypes: object(2)\n",
      "memory usage: 268.3+ KB\n"
     ]
    }
   ],
   "source": [
    "temp_df = doctors_df_cpy[doctors_df_cpy['mainspecialty'].str.contains(pat=regex_val, case=False, na=False)]['doctorid'].copy()\n",
    "temp_df = pd.DataFrame(temp_df)\n",
    "temp_df.insert(loc=1, column='mainspecialty', value=specialty_str)\n",
    "\n",
    "junc_doctor_specialty = pd.concat([junc_doctor_specialty, temp_df], ignore_index=True)\n",
    "\n",
    "drop_rows = doctors_df_cpy[doctors_df_cpy['mainspecialty'].str.contains(pat=regex_val, case=False, na=False)].index\n",
    "doctors_df_cpy = doctors_df_cpy.drop(index=drop_rows)\n",
    "\n",
    "junc_doctor_specialty.info()"
   ]
  },
  {
   "cell_type": "markdown",
   "metadata": {},
   "source": [
    "Gynecology"
   ]
  },
  {
   "cell_type": "code",
   "execution_count": 272,
   "metadata": {},
   "outputs": [],
   "source": [
    "doctors_df_cpy = doctors_df.copy()"
   ]
  },
  {
   "cell_type": "code",
   "execution_count": 273,
   "metadata": {},
   "outputs": [],
   "source": [
    "specialty_str = 'Gynecology'\n",
    "specialty_df.append(specialty_str)"
   ]
  },
  {
   "cell_type": "code",
   "execution_count": 277,
   "metadata": {},
   "outputs": [
    {
     "data": {
      "text/plain": [
       "mainspecialty\n",
       "OB-GYN                        128\n",
       "OBGYN                          97\n",
       "OB GYN                         66\n",
       "OB-GYNE                        31\n",
       "OB GYNE                        28\n",
       "                             ... \n",
       "on-gyn                          1\n",
       "Ob gyn/ GP                      1\n",
       "obstetric-Gynecologist          1\n",
       "GYNECOLOGIC ONCOLOGY            1\n",
       "Obstetrics and Gynelcology      1\n",
       "Name: count, Length: 143, dtype: int64"
      ]
     },
     "execution_count": 277,
     "metadata": {},
     "output_type": "execute_result"
    }
   ],
   "source": [
    "regex_val = r'Gyn'\n",
    "doctors_df_cpy[doctors_df_cpy['mainspecialty'].str.contains(pat=regex_val, case=False, na=False)]['mainspecialty'].value_counts()"
   ]
  },
  {
   "cell_type": "code",
   "execution_count": 278,
   "metadata": {},
   "outputs": [
    {
     "name": "stdout",
     "output_type": "stream",
     "text": [
      "<class 'pandas.core.frame.DataFrame'>\n",
      "RangeIndex: 19172 entries, 0 to 19171\n",
      "Data columns (total 2 columns):\n",
      " #   Column         Non-Null Count  Dtype \n",
      "---  ------         --------------  ----- \n",
      " 0   doctorid       19172 non-null  object\n",
      " 1   mainspecialty  19172 non-null  object\n",
      "dtypes: object(2)\n",
      "memory usage: 299.7+ KB\n"
     ]
    }
   ],
   "source": [
    "temp_df = doctors_df_cpy[doctors_df_cpy['mainspecialty'].str.contains(pat=regex_val, case=False, na=False)]['doctorid'].copy()\n",
    "temp_df = pd.DataFrame(temp_df)\n",
    "temp_df.insert(loc=1, column='mainspecialty', value=specialty_str)\n",
    "\n",
    "junc_doctor_specialty = pd.concat([junc_doctor_specialty, temp_df], ignore_index=True)\n",
    "\n",
    "drop_rows = doctors_df_cpy[doctors_df_cpy['mainspecialty'].str.contains(pat=regex_val, case=False, na=False)].index\n",
    "doctors_df_cpy = doctors_df_cpy.drop(index=drop_rows)\n",
    "\n",
    "junc_doctor_specialty.info()"
   ]
  },
  {
   "cell_type": "markdown",
   "metadata": {},
   "source": [
    "Dermatology"
   ]
  },
  {
   "cell_type": "code",
   "execution_count": 279,
   "metadata": {},
   "outputs": [],
   "source": [
    "doctors_df_cpy = doctors_df.copy()"
   ]
  },
  {
   "cell_type": "code",
   "execution_count": 280,
   "metadata": {},
   "outputs": [],
   "source": [
    "specialty_str = 'Dermatology'\n",
    "specialty_df.append(specialty_str)"
   ]
  },
  {
   "cell_type": "code",
   "execution_count": 283,
   "metadata": {},
   "outputs": [
    {
     "data": {
      "text/plain": [
       "mainspecialty\n",
       "Dermatology                                                      676\n",
       "Dermatologist                                                     37\n",
       "Derma                                                             19\n",
       "DERMATOLOGY                                                       18\n",
       "Aesthetic Dermatology                                             13\n",
       "                                                                ... \n",
       "Dermatology (Skin, Hair, Nails)                                    1\n",
       "DERMATOLOGY - Fellow, Philippine Dermatological Society, Inc.      1\n",
       "Dermatology ( Medical)                                             1\n",
       "Dermatology and Advanced Wound Care                                1\n",
       "Skin Health and Aesthetic Dermatology                              1\n",
       "Name: count, Length: 78, dtype: int64"
      ]
     },
     "execution_count": 283,
     "metadata": {},
     "output_type": "execute_result"
    }
   ],
   "source": [
    "regex_val = r'Derm'\n",
    "doctors_df_cpy[doctors_df_cpy['mainspecialty'].str.contains(pat=regex_val, case=False, na=False)]['mainspecialty'].value_counts()"
   ]
  },
  {
   "cell_type": "code",
   "execution_count": 284,
   "metadata": {},
   "outputs": [
    {
     "name": "stdout",
     "output_type": "stream",
     "text": [
      "<class 'pandas.core.frame.DataFrame'>\n",
      "RangeIndex: 20030 entries, 0 to 20029\n",
      "Data columns (total 2 columns):\n",
      " #   Column         Non-Null Count  Dtype \n",
      "---  ------         --------------  ----- \n",
      " 0   doctorid       20030 non-null  object\n",
      " 1   mainspecialty  20030 non-null  object\n",
      "dtypes: object(2)\n",
      "memory usage: 313.1+ KB\n"
     ]
    }
   ],
   "source": [
    "temp_df = doctors_df_cpy[doctors_df_cpy['mainspecialty'].str.contains(pat=regex_val, case=False, na=False)]['doctorid'].copy()\n",
    "temp_df = pd.DataFrame(temp_df)\n",
    "temp_df.insert(loc=1, column='mainspecialty', value=specialty_str)\n",
    "\n",
    "junc_doctor_specialty = pd.concat([junc_doctor_specialty, temp_df], ignore_index=True)\n",
    "\n",
    "drop_rows = doctors_df_cpy[doctors_df_cpy['mainspecialty'].str.contains(pat=regex_val, case=False, na=False)].index\n",
    "doctors_df_cpy = doctors_df_cpy.drop(index=drop_rows)\n",
    "\n",
    "junc_doctor_specialty.info()"
   ]
  },
  {
   "cell_type": "markdown",
   "metadata": {},
   "source": [
    "Opthalmology"
   ]
  },
  {
   "cell_type": "code",
   "execution_count": 285,
   "metadata": {},
   "outputs": [],
   "source": [
    "doctors_df_cpy = doctors_df.copy()"
   ]
  },
  {
   "cell_type": "code",
   "execution_count": 286,
   "metadata": {},
   "outputs": [],
   "source": [
    "specialty_str = 'Ophthalmology'\n",
    "specialty_df.append(specialty_str)"
   ]
  },
  {
   "cell_type": "code",
   "execution_count": 291,
   "metadata": {},
   "outputs": [
    {
     "data": {
      "text/plain": [
       "mainspecialty\n",
       "Optometry                                          24\n",
       "Opthalmology                                       12\n",
       "Optometrist                                        11\n",
       "Opthamology                                         4\n",
       "Opta                                                3\n",
       "Opthalmologist                                      2\n",
       "Optha                                               2\n",
       "Clinical Optometry                                  2\n",
       "Optal                                               1\n",
       "OPTHALMOLOGIST                                      1\n",
       "Pediatric Optometry                                 1\n",
       "General Medicine & Optometrist                      1\n",
       "CLINICAL OPTOMETRY                                  1\n",
       "Opthalmologists                                     1\n",
       "Vision Therapy/ Behavioral Optometry                1\n",
       "Doctor Of Optometry                                 1\n",
       "opthalmologist                                      1\n",
       "OPTOMETRY                                           1\n",
       "Internal medicine , Opthamology , endocrinology     1\n",
       "Optometrist, Contologist                            1\n",
       "Clinical Optometrist                                1\n",
       "opthalmology                                        1\n",
       "OPTH                                                1\n",
       "Optah                                               1\n",
       "General optometry                                   1\n",
       "General Opthalmology                                1\n",
       "Adult & Pediatric Optometry, DPA Certified          1\n",
       "Name: count, dtype: int64"
      ]
     },
     "execution_count": 291,
     "metadata": {},
     "output_type": "execute_result"
    }
   ],
   "source": [
    "regex_val = r'Opt[^i]'\n",
    "doctors_df_cpy[doctors_df_cpy['mainspecialty'].str.contains(pat=regex_val, case=False, na=False)]['mainspecialty'].value_counts()"
   ]
  },
  {
   "cell_type": "code",
   "execution_count": 292,
   "metadata": {},
   "outputs": [
    {
     "name": "stdout",
     "output_type": "stream",
     "text": [
      "<class 'pandas.core.frame.DataFrame'>\n",
      "RangeIndex: 20744 entries, 0 to 20743\n",
      "Data columns (total 2 columns):\n",
      " #   Column         Non-Null Count  Dtype \n",
      "---  ------         --------------  ----- \n",
      " 0   doctorid       20744 non-null  object\n",
      " 1   mainspecialty  20744 non-null  object\n",
      "dtypes: object(2)\n",
      "memory usage: 324.2+ KB\n"
     ]
    }
   ],
   "source": [
    "temp_df = doctors_df_cpy[doctors_df_cpy['mainspecialty'].str.contains(pat=regex_val, case=False, na=False)]['doctorid'].copy()\n",
    "temp_df = pd.DataFrame(temp_df)\n",
    "temp_df.insert(loc=1, column='mainspecialty', value=specialty_str)\n",
    "\n",
    "junc_doctor_specialty = pd.concat([junc_doctor_specialty, temp_df], ignore_index=True)\n",
    "\n",
    "drop_rows = doctors_df_cpy[doctors_df_cpy['mainspecialty'].str.contains(pat=regex_val, case=False, na=False)].index\n",
    "doctors_df_cpy = doctors_df_cpy.drop(index=drop_rows)\n",
    "\n",
    "junc_doctor_specialty.info()"
   ]
  },
  {
   "cell_type": "markdown",
   "metadata": {},
   "source": [
    "Surgery"
   ]
  },
  {
   "cell_type": "code",
   "execution_count": 293,
   "metadata": {},
   "outputs": [],
   "source": [
    "doctors_df_cpy = doctors_df.copy()"
   ]
  },
  {
   "cell_type": "code",
   "execution_count": 294,
   "metadata": {},
   "outputs": [],
   "source": [
    "specialty_str = 'Surgery'\n",
    "specialty_df.append(specialty_str)"
   ]
  },
  {
   "cell_type": "code",
   "execution_count": 295,
   "metadata": {},
   "outputs": [
    {
     "data": {
      "text/plain": [
       "mainspecialty\n",
       "Surgery                                               526\n",
       "General Surgery                                       525\n",
       "Orthopedic Surgery                                    161\n",
       "Neurosurgery                                           66\n",
       "Orthopaedic Surgery                                    52\n",
       "                                                     ... \n",
       "general  and cancer surgery                             1\n",
       "Otorhinolaryngology-Head and Neck Surgery(ENT-HNS)      1\n",
       "Pediatrics, General Surgery                             1\n",
       "Orthopaedics and Spine Surgery                          1\n",
       "Breast -General Surgery                                 1\n",
       "Name: count, Length: 519, dtype: int64"
      ]
     },
     "execution_count": 295,
     "metadata": {},
     "output_type": "execute_result"
    }
   ],
   "source": [
    "regex_val = r'surg'\n",
    "doctors_df_cpy[doctors_df_cpy['mainspecialty'].str.contains(pat=regex_val, case=False, na=False)]['mainspecialty'].value_counts()"
   ]
  },
  {
   "cell_type": "code",
   "execution_count": 296,
   "metadata": {},
   "outputs": [
    {
     "name": "stdout",
     "output_type": "stream",
     "text": [
      "<class 'pandas.core.frame.DataFrame'>\n",
      "RangeIndex: 23089 entries, 0 to 23088\n",
      "Data columns (total 2 columns):\n",
      " #   Column         Non-Null Count  Dtype \n",
      "---  ------         --------------  ----- \n",
      " 0   doctorid       23089 non-null  object\n",
      " 1   mainspecialty  23089 non-null  object\n",
      "dtypes: object(2)\n",
      "memory usage: 360.9+ KB\n"
     ]
    }
   ],
   "source": [
    "temp_df = doctors_df_cpy[doctors_df_cpy['mainspecialty'].str.contains(pat=regex_val, case=False, na=False)]['doctorid'].copy()\n",
    "temp_df = pd.DataFrame(temp_df)\n",
    "temp_df.insert(loc=1, column='mainspecialty', value=specialty_str)\n",
    "\n",
    "junc_doctor_specialty = pd.concat([junc_doctor_specialty, temp_df], ignore_index=True)\n",
    "\n",
    "drop_rows = doctors_df_cpy[doctors_df_cpy['mainspecialty'].str.contains(pat=regex_val, case=False, na=False)].index\n",
    "doctors_df_cpy = doctors_df_cpy.drop(index=drop_rows)\n",
    "\n",
    "junc_doctor_specialty.info()"
   ]
  },
  {
   "cell_type": "markdown",
   "metadata": {},
   "source": [
    "Psychiatry"
   ]
  },
  {
   "cell_type": "code",
   "execution_count": 297,
   "metadata": {},
   "outputs": [],
   "source": [
    "doctors_df_cpy = doctors_df.copy()"
   ]
  },
  {
   "cell_type": "code",
   "execution_count": 298,
   "metadata": {},
   "outputs": [],
   "source": [
    "specialty_str = 'Psychiatry'\n",
    "specialty_df.append(specialty_str)"
   ]
  },
  {
   "cell_type": "code",
   "execution_count": 299,
   "metadata": {},
   "outputs": [
    {
     "data": {
      "text/plain": [
       "mainspecialty\n",
       "Psychiatry                                                 212\n",
       "Psychology                                                  31\n",
       "Clinical Psychology                                         19\n",
       "Psychiatrist                                                15\n",
       "General Adult Psychiatry                                    12\n",
       "                                                          ... \n",
       "Psychology assessment                                        1\n",
       "PSYCHOLOGY                                                   1\n",
       "Telepsychology                                               1\n",
       "Addiction Psychiatry, Psychotherapy, Lifestyle Medicine      1\n",
       "psychiatrist                                                 1\n",
       "Name: count, Length: 87, dtype: int64"
      ]
     },
     "execution_count": 299,
     "metadata": {},
     "output_type": "execute_result"
    }
   ],
   "source": [
    "regex_val = r'psy'\n",
    "doctors_df_cpy[doctors_df_cpy['mainspecialty'].str.contains(pat=regex_val, case=False, na=False)]['mainspecialty'].value_counts()"
   ]
  },
  {
   "cell_type": "code",
   "execution_count": 300,
   "metadata": {},
   "outputs": [
    {
     "name": "stdout",
     "output_type": "stream",
     "text": [
      "<class 'pandas.core.frame.DataFrame'>\n",
      "RangeIndex: 23512 entries, 0 to 23511\n",
      "Data columns (total 2 columns):\n",
      " #   Column         Non-Null Count  Dtype \n",
      "---  ------         --------------  ----- \n",
      " 0   doctorid       23512 non-null  object\n",
      " 1   mainspecialty  23512 non-null  object\n",
      "dtypes: object(2)\n",
      "memory usage: 367.5+ KB\n"
     ]
    }
   ],
   "source": [
    "temp_df = doctors_df_cpy[doctors_df_cpy['mainspecialty'].str.contains(pat=regex_val, case=False, na=False)]['doctorid'].copy()\n",
    "temp_df = pd.DataFrame(temp_df)\n",
    "temp_df.insert(loc=1, column='mainspecialty', value=specialty_str)\n",
    "\n",
    "junc_doctor_specialty = pd.concat([junc_doctor_specialty, temp_df], ignore_index=True)\n",
    "\n",
    "drop_rows = doctors_df_cpy[doctors_df_cpy['mainspecialty'].str.contains(pat=regex_val, case=False, na=False)].index\n",
    "doctors_df_cpy = doctors_df_cpy.drop(index=drop_rows)\n",
    "\n",
    "junc_doctor_specialty.info()"
   ]
  },
  {
   "cell_type": "markdown",
   "metadata": {},
   "source": [
    "Dentistry"
   ]
  },
  {
   "cell_type": "code",
   "execution_count": 301,
   "metadata": {},
   "outputs": [],
   "source": [
    "doctors_df_cpy = doctors_df.copy()"
   ]
  },
  {
   "cell_type": "code",
   "execution_count": 302,
   "metadata": {},
   "outputs": [],
   "source": [
    "specialty_str = 'Dentistry'\n",
    "specialty_df.append(specialty_str)"
   ]
  },
  {
   "cell_type": "code",
   "execution_count": 307,
   "metadata": {},
   "outputs": [
    {
     "name": "stderr",
     "output_type": "stream",
     "text": [
      "C:\\Users\\Francis\\AppData\\Local\\Temp\\ipykernel_588\\2340359227.py:2: UserWarning: This pattern is interpreted as a regular expression, and has match groups. To actually get the groups, use str.extract.\n",
      "  doctors_df_cpy[doctors_df_cpy['mainspecialty'].str.contains(pat=regex_val, case=False, na=False)]['mainspecialty'].value_counts()\n"
     ]
    },
    {
     "data": {
      "text/plain": [
       "mainspecialty\n",
       "General Dentistry                                    176\n",
       "General Dentist                                       30\n",
       "General dentistry                                     14\n",
       "General Dentistry, Orthodontics                       12\n",
       "Pediatric Dentistry                                   10\n",
       "                                                    ... \n",
       "General Dentistry, Orthodontics, & Implants            1\n",
       "Orthodontic, Implantology, Esthetic Dentistry          1\n",
       "Oral Surgery, Prosthodontics, General Dentistry        1\n",
       "Pediatric dentistry                                    1\n",
       "General Dentistry, Oral Surgery, TMJ-Orthodontics      1\n",
       "Name: count, Length: 103, dtype: int64"
      ]
     },
     "execution_count": 307,
     "metadata": {},
     "output_type": "execute_result"
    }
   ],
   "source": [
    "regex_val = r'([^u] | [^i])dent'\n",
    "doctors_df_cpy[doctors_df_cpy['mainspecialty'].str.contains(pat=regex_val, case=False, na=False)]['mainspecialty'].value_counts()"
   ]
  },
  {
   "cell_type": "code",
   "execution_count": 308,
   "metadata": {},
   "outputs": [
    {
     "name": "stdout",
     "output_type": "stream",
     "text": [
      "<class 'pandas.core.frame.DataFrame'>\n",
      "RangeIndex: 23882 entries, 0 to 23881\n",
      "Data columns (total 2 columns):\n",
      " #   Column         Non-Null Count  Dtype \n",
      "---  ------         --------------  ----- \n",
      " 0   doctorid       23882 non-null  object\n",
      " 1   mainspecialty  23882 non-null  object\n",
      "dtypes: object(2)\n",
      "memory usage: 373.3+ KB\n"
     ]
    },
    {
     "name": "stderr",
     "output_type": "stream",
     "text": [
      "C:\\Users\\Francis\\AppData\\Local\\Temp\\ipykernel_588\\2972295845.py:1: UserWarning: This pattern is interpreted as a regular expression, and has match groups. To actually get the groups, use str.extract.\n",
      "  temp_df = doctors_df_cpy[doctors_df_cpy['mainspecialty'].str.contains(pat=regex_val, case=False, na=False)]['doctorid'].copy()\n",
      "C:\\Users\\Francis\\AppData\\Local\\Temp\\ipykernel_588\\2972295845.py:7: UserWarning: This pattern is interpreted as a regular expression, and has match groups. To actually get the groups, use str.extract.\n",
      "  drop_rows = doctors_df_cpy[doctors_df_cpy['mainspecialty'].str.contains(pat=regex_val, case=False, na=False)].index\n"
     ]
    }
   ],
   "source": [
    "temp_df = doctors_df_cpy[doctors_df_cpy['mainspecialty'].str.contains(pat=regex_val, case=False, na=False)]['doctorid'].copy()\n",
    "temp_df = pd.DataFrame(temp_df)\n",
    "temp_df.insert(loc=1, column='mainspecialty', value=specialty_str)\n",
    "\n",
    "junc_doctor_specialty = pd.concat([junc_doctor_specialty, temp_df], ignore_index=True)\n",
    "\n",
    "drop_rows = doctors_df_cpy[doctors_df_cpy['mainspecialty'].str.contains(pat=regex_val, case=False, na=False)].index\n",
    "doctors_df_cpy = doctors_df_cpy.drop(index=drop_rows)\n",
    "\n",
    "junc_doctor_specialty.info()"
   ]
  },
  {
   "cell_type": "markdown",
   "metadata": {},
   "source": [
    "I did this for Urology, neuro, ortho, cardio, Radio, Gastro, Endocrinology, Pulmo"
   ]
  },
  {
   "cell_type": "code",
   "execution_count": 369,
   "metadata": {},
   "outputs": [],
   "source": [
    "doctors_df_cpy = doctors_df.copy()"
   ]
  },
  {
   "cell_type": "code",
   "execution_count": 370,
   "metadata": {},
   "outputs": [],
   "source": [
    "specialty_str = 'Pulmonology'\n",
    "specialty_df.append(specialty_str)"
   ]
  },
  {
   "cell_type": "code",
   "execution_count": 372,
   "metadata": {},
   "outputs": [
    {
     "data": {
      "text/plain": [
       "mainspecialty\n",
       "Pulmonology                                        30\n",
       "Internal Medicine - Pulmonology                    18\n",
       "Pulmonologist                                      17\n",
       "Pulmonary Medicine                                 16\n",
       "Internal Medicine - Pulmonary Medicine             11\n",
       "                                                   ..\n",
       "Pulmologist                                         1\n",
       "Internal Medicine, Pulmonary and Sleep Medicine     1\n",
       "Pulmunology                                         1\n",
       "internal Medicine, Pulmonology                      1\n",
       "Adult Pulmonary Medicine & Internal Medicine        1\n",
       "Name: count, Length: 83, dtype: int64"
      ]
     },
     "execution_count": 372,
     "metadata": {},
     "output_type": "execute_result"
    }
   ],
   "source": [
    "regex_val = r'Pulm'\n",
    "doctors_df_cpy[doctors_df_cpy['mainspecialty'].str.contains(pat=regex_val, case=False, na=False)]['mainspecialty'].value_counts()"
   ]
  },
  {
   "cell_type": "code",
   "execution_count": 373,
   "metadata": {},
   "outputs": [
    {
     "name": "stdout",
     "output_type": "stream",
     "text": [
      "<class 'pandas.core.frame.DataFrame'>\n",
      "RangeIndex: 26202 entries, 0 to 26201\n",
      "Data columns (total 2 columns):\n",
      " #   Column         Non-Null Count  Dtype \n",
      "---  ------         --------------  ----- \n",
      " 0   doctorid       26202 non-null  object\n",
      " 1   mainspecialty  26202 non-null  object\n",
      "dtypes: object(2)\n",
      "memory usage: 409.5+ KB\n"
     ]
    }
   ],
   "source": [
    "temp_df = doctors_df_cpy[doctors_df_cpy['mainspecialty'].str.contains(pat=regex_val, case=False, na=False)]['doctorid'].copy()\n",
    "temp_df = pd.DataFrame(temp_df)\n",
    "temp_df.insert(loc=1, column='mainspecialty', value=specialty_str)\n",
    "\n",
    "junc_doctor_specialty = pd.concat([junc_doctor_specialty, temp_df], ignore_index=True)\n",
    "\n",
    "drop_rows = doctors_df_cpy[doctors_df_cpy['mainspecialty'].str.contains(pat=regex_val, case=False, na=False)].index\n",
    "doctors_df_cpy = doctors_df_cpy.drop(index=drop_rows)\n",
    "\n",
    "junc_doctor_specialty.info()"
   ]
  },
  {
   "cell_type": "markdown",
   "metadata": {},
   "source": [
    "-------"
   ]
  },
  {
   "cell_type": "markdown",
   "metadata": {},
   "source": [
    "all have consistent format"
   ]
  },
  {
   "cell_type": "markdown",
   "metadata": {},
   "source": [
    "Standard Protocols will be used to clean data\n",
    "1. Checking for incorrect data types\n",
    "2. Check for dupliucate values\n",
    "3. Check for multiple representations\n",
    "4. Check for missing and default values\n",
    "5. Check for inconsistent format"
   ]
  },
  {
   "cell_type": "markdown",
   "metadata": {},
   "source": [
    "Creating the dataframe for specialty"
   ]
  },
  {
   "cell_type": "code",
   "execution_count": 378,
   "metadata": {},
   "outputs": [
    {
     "data": {
      "text/html": [
       "<div>\n",
       "<style scoped>\n",
       "    .dataframe tbody tr th:only-of-type {\n",
       "        vertical-align: middle;\n",
       "    }\n",
       "\n",
       "    .dataframe tbody tr th {\n",
       "        vertical-align: top;\n",
       "    }\n",
       "\n",
       "    .dataframe thead th {\n",
       "        text-align: right;\n",
       "    }\n",
       "</style>\n",
       "<table border=\"1\" class=\"dataframe\">\n",
       "  <thead>\n",
       "    <tr style=\"text-align: right;\">\n",
       "      <th></th>\n",
       "      <th>specialty</th>\n",
       "    </tr>\n",
       "  </thead>\n",
       "  <tbody>\n",
       "    <tr>\n",
       "      <th>1</th>\n",
       "      <td>Internal Medicine</td>\n",
       "    </tr>\n",
       "    <tr>\n",
       "      <th>2</th>\n",
       "      <td>General Medicine</td>\n",
       "    </tr>\n",
       "    <tr>\n",
       "      <th>3</th>\n",
       "      <td>Pediatrics</td>\n",
       "    </tr>\n",
       "    <tr>\n",
       "      <th>4</th>\n",
       "      <td>Family Medicine</td>\n",
       "    </tr>\n",
       "    <tr>\n",
       "      <th>5</th>\n",
       "      <td>Obstetrics</td>\n",
       "    </tr>\n",
       "    <tr>\n",
       "      <th>6</th>\n",
       "      <td>Gynecology</td>\n",
       "    </tr>\n",
       "    <tr>\n",
       "      <th>7</th>\n",
       "      <td>Dermatology</td>\n",
       "    </tr>\n",
       "    <tr>\n",
       "      <th>8</th>\n",
       "      <td>Ophthalmology</td>\n",
       "    </tr>\n",
       "    <tr>\n",
       "      <th>9</th>\n",
       "      <td>Surgery</td>\n",
       "    </tr>\n",
       "    <tr>\n",
       "      <th>10</th>\n",
       "      <td>Psychiatry</td>\n",
       "    </tr>\n",
       "    <tr>\n",
       "      <th>11</th>\n",
       "      <td>Dentistry</td>\n",
       "    </tr>\n",
       "    <tr>\n",
       "      <th>12</th>\n",
       "      <td>Urology</td>\n",
       "    </tr>\n",
       "    <tr>\n",
       "      <th>13</th>\n",
       "      <td>Orthopedy</td>\n",
       "    </tr>\n",
       "    <tr>\n",
       "      <th>14</th>\n",
       "      <td>Cardiology</td>\n",
       "    </tr>\n",
       "    <tr>\n",
       "      <th>15</th>\n",
       "      <td>Radiology</td>\n",
       "    </tr>\n",
       "    <tr>\n",
       "      <th>16</th>\n",
       "      <td>Gastrology</td>\n",
       "    </tr>\n",
       "    <tr>\n",
       "      <th>17</th>\n",
       "      <td>Endocrinology</td>\n",
       "    </tr>\n",
       "    <tr>\n",
       "      <th>18</th>\n",
       "      <td>Pulmonology</td>\n",
       "    </tr>\n",
       "  </tbody>\n",
       "</table>\n",
       "</div>"
      ],
      "text/plain": [
       "            specialty\n",
       "1   Internal Medicine\n",
       "2    General Medicine\n",
       "3          Pediatrics\n",
       "4     Family Medicine\n",
       "5          Obstetrics\n",
       "6          Gynecology\n",
       "7         Dermatology\n",
       "8       Ophthalmology\n",
       "9             Surgery\n",
       "10         Psychiatry\n",
       "11          Dentistry\n",
       "12            Urology\n",
       "13          Orthopedy\n",
       "14         Cardiology\n",
       "15          Radiology\n",
       "16         Gastrology\n",
       "17      Endocrinology\n",
       "18        Pulmonology"
      ]
     },
     "execution_count": 378,
     "metadata": {},
     "output_type": "execute_result"
    }
   ],
   "source": [
    "official_specialty_df = pd.DataFrame(specialty_df, columns=['specialty'], copy=True)\n",
    "official_specialty_df.index += 1\n",
    "official_specialty_df"
   ]
  },
  {
   "cell_type": "markdown",
   "metadata": {},
   "source": [
    "creating the dataframe for junction table with code instead of string"
   ]
  },
  {
   "cell_type": "code",
   "execution_count": 381,
   "metadata": {},
   "outputs": [
    {
     "data": {
      "text/html": [
       "<div>\n",
       "<style scoped>\n",
       "    .dataframe tbody tr th:only-of-type {\n",
       "        vertical-align: middle;\n",
       "    }\n",
       "\n",
       "    .dataframe tbody tr th {\n",
       "        vertical-align: top;\n",
       "    }\n",
       "\n",
       "    .dataframe thead th {\n",
       "        text-align: right;\n",
       "    }\n",
       "</style>\n",
       "<table border=\"1\" class=\"dataframe\">\n",
       "  <thead>\n",
       "    <tr style=\"text-align: right;\">\n",
       "      <th></th>\n",
       "      <th>doctorid</th>\n",
       "      <th>mainspecialty</th>\n",
       "    </tr>\n",
       "  </thead>\n",
       "  <tbody>\n",
       "    <tr>\n",
       "      <th>0</th>\n",
       "      <td>A7AEED74714116F3B292A982238F83D2</td>\n",
       "      <td>Internal Medicine</td>\n",
       "    </tr>\n",
       "    <tr>\n",
       "      <th>1</th>\n",
       "      <td>B7B16ECF8CA53723593894116071700C</td>\n",
       "      <td>Internal Medicine</td>\n",
       "    </tr>\n",
       "    <tr>\n",
       "      <th>2</th>\n",
       "      <td>A1D33D0DFEC820B41B54430B50E96B5C</td>\n",
       "      <td>Internal Medicine</td>\n",
       "    </tr>\n",
       "    <tr>\n",
       "      <th>3</th>\n",
       "      <td>6CFE0E6127FA25DF2A0EF2AE1067D915</td>\n",
       "      <td>Internal Medicine</td>\n",
       "    </tr>\n",
       "    <tr>\n",
       "      <th>4</th>\n",
       "      <td>5D44EE6F2C3F71B73125876103C8F6C4</td>\n",
       "      <td>Internal Medicine</td>\n",
       "    </tr>\n",
       "    <tr>\n",
       "      <th>...</th>\n",
       "      <td>...</td>\n",
       "      <td>...</td>\n",
       "    </tr>\n",
       "    <tr>\n",
       "      <th>26197</th>\n",
       "      <td>9C8C4241D264F883F4587529316B042A</td>\n",
       "      <td>Pulmonology</td>\n",
       "    </tr>\n",
       "    <tr>\n",
       "      <th>26198</th>\n",
       "      <td>EA9BE6EA49C5C752ABB11953955C90E4</td>\n",
       "      <td>Pulmonology</td>\n",
       "    </tr>\n",
       "    <tr>\n",
       "      <th>26199</th>\n",
       "      <td>6E69EBBFAD976D4637BB4B39DE261BF7</td>\n",
       "      <td>Pulmonology</td>\n",
       "    </tr>\n",
       "    <tr>\n",
       "      <th>26200</th>\n",
       "      <td>45C68484C6FC509CB25BDFCA881E5CD8</td>\n",
       "      <td>Pulmonology</td>\n",
       "    </tr>\n",
       "    <tr>\n",
       "      <th>26201</th>\n",
       "      <td>BAEAD3B2BAB81C64C1EA6A6984646567</td>\n",
       "      <td>Pulmonology</td>\n",
       "    </tr>\n",
       "  </tbody>\n",
       "</table>\n",
       "<p>26202 rows × 2 columns</p>\n",
       "</div>"
      ],
      "text/plain": [
       "                               doctorid      mainspecialty\n",
       "0      A7AEED74714116F3B292A982238F83D2  Internal Medicine\n",
       "1      B7B16ECF8CA53723593894116071700C  Internal Medicine\n",
       "2      A1D33D0DFEC820B41B54430B50E96B5C  Internal Medicine\n",
       "3      6CFE0E6127FA25DF2A0EF2AE1067D915  Internal Medicine\n",
       "4      5D44EE6F2C3F71B73125876103C8F6C4  Internal Medicine\n",
       "...                                 ...                ...\n",
       "26197  9C8C4241D264F883F4587529316B042A        Pulmonology\n",
       "26198  EA9BE6EA49C5C752ABB11953955C90E4        Pulmonology\n",
       "26199  6E69EBBFAD976D4637BB4B39DE261BF7        Pulmonology\n",
       "26200  45C68484C6FC509CB25BDFCA881E5CD8        Pulmonology\n",
       "26201  BAEAD3B2BAB81C64C1EA6A6984646567        Pulmonology\n",
       "\n",
       "[26202 rows x 2 columns]"
      ]
     },
     "execution_count": 381,
     "metadata": {},
     "output_type": "execute_result"
    }
   ],
   "source": [
    "official_junc_doctor_specialty = junc_doctor_specialty.copy()\n",
    "official_specialty_df_cpy = official_specialty_df.copy()\n",
    "official_specialty_df_cpy['index'] = official_specialty_df_cpy.index\n",
    "\n",
    "official_junc_doctor_specialty"
   ]
  },
  {
   "cell_type": "code",
   "execution_count": 382,
   "metadata": {},
   "outputs": [
    {
     "data": {
      "text/html": [
       "<div>\n",
       "<style scoped>\n",
       "    .dataframe tbody tr th:only-of-type {\n",
       "        vertical-align: middle;\n",
       "    }\n",
       "\n",
       "    .dataframe tbody tr th {\n",
       "        vertical-align: top;\n",
       "    }\n",
       "\n",
       "    .dataframe thead th {\n",
       "        text-align: right;\n",
       "    }\n",
       "</style>\n",
       "<table border=\"1\" class=\"dataframe\">\n",
       "  <thead>\n",
       "    <tr style=\"text-align: right;\">\n",
       "      <th></th>\n",
       "      <th>specialty</th>\n",
       "      <th>index</th>\n",
       "    </tr>\n",
       "  </thead>\n",
       "  <tbody>\n",
       "    <tr>\n",
       "      <th>1</th>\n",
       "      <td>Internal Medicine</td>\n",
       "      <td>1</td>\n",
       "    </tr>\n",
       "    <tr>\n",
       "      <th>2</th>\n",
       "      <td>General Medicine</td>\n",
       "      <td>2</td>\n",
       "    </tr>\n",
       "    <tr>\n",
       "      <th>3</th>\n",
       "      <td>Pediatrics</td>\n",
       "      <td>3</td>\n",
       "    </tr>\n",
       "    <tr>\n",
       "      <th>4</th>\n",
       "      <td>Family Medicine</td>\n",
       "      <td>4</td>\n",
       "    </tr>\n",
       "    <tr>\n",
       "      <th>5</th>\n",
       "      <td>Obstetrics</td>\n",
       "      <td>5</td>\n",
       "    </tr>\n",
       "    <tr>\n",
       "      <th>6</th>\n",
       "      <td>Gynecology</td>\n",
       "      <td>6</td>\n",
       "    </tr>\n",
       "    <tr>\n",
       "      <th>7</th>\n",
       "      <td>Dermatology</td>\n",
       "      <td>7</td>\n",
       "    </tr>\n",
       "    <tr>\n",
       "      <th>8</th>\n",
       "      <td>Ophthalmology</td>\n",
       "      <td>8</td>\n",
       "    </tr>\n",
       "    <tr>\n",
       "      <th>9</th>\n",
       "      <td>Surgery</td>\n",
       "      <td>9</td>\n",
       "    </tr>\n",
       "    <tr>\n",
       "      <th>10</th>\n",
       "      <td>Psychiatry</td>\n",
       "      <td>10</td>\n",
       "    </tr>\n",
       "    <tr>\n",
       "      <th>11</th>\n",
       "      <td>Dentistry</td>\n",
       "      <td>11</td>\n",
       "    </tr>\n",
       "    <tr>\n",
       "      <th>12</th>\n",
       "      <td>Urology</td>\n",
       "      <td>12</td>\n",
       "    </tr>\n",
       "    <tr>\n",
       "      <th>13</th>\n",
       "      <td>Orthopedy</td>\n",
       "      <td>13</td>\n",
       "    </tr>\n",
       "    <tr>\n",
       "      <th>14</th>\n",
       "      <td>Cardiology</td>\n",
       "      <td>14</td>\n",
       "    </tr>\n",
       "    <tr>\n",
       "      <th>15</th>\n",
       "      <td>Radiology</td>\n",
       "      <td>15</td>\n",
       "    </tr>\n",
       "    <tr>\n",
       "      <th>16</th>\n",
       "      <td>Gastrology</td>\n",
       "      <td>16</td>\n",
       "    </tr>\n",
       "    <tr>\n",
       "      <th>17</th>\n",
       "      <td>Endocrinology</td>\n",
       "      <td>17</td>\n",
       "    </tr>\n",
       "    <tr>\n",
       "      <th>18</th>\n",
       "      <td>Pulmonology</td>\n",
       "      <td>18</td>\n",
       "    </tr>\n",
       "  </tbody>\n",
       "</table>\n",
       "</div>"
      ],
      "text/plain": [
       "            specialty  index\n",
       "1   Internal Medicine      1\n",
       "2    General Medicine      2\n",
       "3          Pediatrics      3\n",
       "4     Family Medicine      4\n",
       "5          Obstetrics      5\n",
       "6          Gynecology      6\n",
       "7         Dermatology      7\n",
       "8       Ophthalmology      8\n",
       "9             Surgery      9\n",
       "10         Psychiatry     10\n",
       "11          Dentistry     11\n",
       "12            Urology     12\n",
       "13          Orthopedy     13\n",
       "14         Cardiology     14\n",
       "15          Radiology     15\n",
       "16         Gastrology     16\n",
       "17      Endocrinology     17\n",
       "18        Pulmonology     18"
      ]
     },
     "execution_count": 382,
     "metadata": {},
     "output_type": "execute_result"
    }
   ],
   "source": [
    "official_specialty_df_cpy"
   ]
  },
  {
   "cell_type": "code",
   "execution_count": 383,
   "metadata": {},
   "outputs": [
    {
     "data": {
      "text/html": [
       "<div>\n",
       "<style scoped>\n",
       "    .dataframe tbody tr th:only-of-type {\n",
       "        vertical-align: middle;\n",
       "    }\n",
       "\n",
       "    .dataframe tbody tr th {\n",
       "        vertical-align: top;\n",
       "    }\n",
       "\n",
       "    .dataframe thead th {\n",
       "        text-align: right;\n",
       "    }\n",
       "</style>\n",
       "<table border=\"1\" class=\"dataframe\">\n",
       "  <thead>\n",
       "    <tr style=\"text-align: right;\">\n",
       "      <th></th>\n",
       "      <th>doctorid</th>\n",
       "      <th>mainspecialty</th>\n",
       "      <th>specialty</th>\n",
       "      <th>index</th>\n",
       "    </tr>\n",
       "  </thead>\n",
       "  <tbody>\n",
       "    <tr>\n",
       "      <th>0</th>\n",
       "      <td>A7AEED74714116F3B292A982238F83D2</td>\n",
       "      <td>Internal Medicine</td>\n",
       "      <td>Internal Medicine</td>\n",
       "      <td>1</td>\n",
       "    </tr>\n",
       "    <tr>\n",
       "      <th>1</th>\n",
       "      <td>B7B16ECF8CA53723593894116071700C</td>\n",
       "      <td>Internal Medicine</td>\n",
       "      <td>Internal Medicine</td>\n",
       "      <td>1</td>\n",
       "    </tr>\n",
       "    <tr>\n",
       "      <th>2</th>\n",
       "      <td>A1D33D0DFEC820B41B54430B50E96B5C</td>\n",
       "      <td>Internal Medicine</td>\n",
       "      <td>Internal Medicine</td>\n",
       "      <td>1</td>\n",
       "    </tr>\n",
       "    <tr>\n",
       "      <th>3</th>\n",
       "      <td>6CFE0E6127FA25DF2A0EF2AE1067D915</td>\n",
       "      <td>Internal Medicine</td>\n",
       "      <td>Internal Medicine</td>\n",
       "      <td>1</td>\n",
       "    </tr>\n",
       "    <tr>\n",
       "      <th>4</th>\n",
       "      <td>5D44EE6F2C3F71B73125876103C8F6C4</td>\n",
       "      <td>Internal Medicine</td>\n",
       "      <td>Internal Medicine</td>\n",
       "      <td>1</td>\n",
       "    </tr>\n",
       "    <tr>\n",
       "      <th>...</th>\n",
       "      <td>...</td>\n",
       "      <td>...</td>\n",
       "      <td>...</td>\n",
       "      <td>...</td>\n",
       "    </tr>\n",
       "    <tr>\n",
       "      <th>26197</th>\n",
       "      <td>9C8C4241D264F883F4587529316B042A</td>\n",
       "      <td>Pulmonology</td>\n",
       "      <td>Pulmonology</td>\n",
       "      <td>18</td>\n",
       "    </tr>\n",
       "    <tr>\n",
       "      <th>26198</th>\n",
       "      <td>EA9BE6EA49C5C752ABB11953955C90E4</td>\n",
       "      <td>Pulmonology</td>\n",
       "      <td>Pulmonology</td>\n",
       "      <td>18</td>\n",
       "    </tr>\n",
       "    <tr>\n",
       "      <th>26199</th>\n",
       "      <td>6E69EBBFAD976D4637BB4B39DE261BF7</td>\n",
       "      <td>Pulmonology</td>\n",
       "      <td>Pulmonology</td>\n",
       "      <td>18</td>\n",
       "    </tr>\n",
       "    <tr>\n",
       "      <th>26200</th>\n",
       "      <td>45C68484C6FC509CB25BDFCA881E5CD8</td>\n",
       "      <td>Pulmonology</td>\n",
       "      <td>Pulmonology</td>\n",
       "      <td>18</td>\n",
       "    </tr>\n",
       "    <tr>\n",
       "      <th>26201</th>\n",
       "      <td>BAEAD3B2BAB81C64C1EA6A6984646567</td>\n",
       "      <td>Pulmonology</td>\n",
       "      <td>Pulmonology</td>\n",
       "      <td>18</td>\n",
       "    </tr>\n",
       "  </tbody>\n",
       "</table>\n",
       "<p>26202 rows × 4 columns</p>\n",
       "</div>"
      ],
      "text/plain": [
       "                               doctorid      mainspecialty          specialty  \\\n",
       "0      A7AEED74714116F3B292A982238F83D2  Internal Medicine  Internal Medicine   \n",
       "1      B7B16ECF8CA53723593894116071700C  Internal Medicine  Internal Medicine   \n",
       "2      A1D33D0DFEC820B41B54430B50E96B5C  Internal Medicine  Internal Medicine   \n",
       "3      6CFE0E6127FA25DF2A0EF2AE1067D915  Internal Medicine  Internal Medicine   \n",
       "4      5D44EE6F2C3F71B73125876103C8F6C4  Internal Medicine  Internal Medicine   \n",
       "...                                 ...                ...                ...   \n",
       "26197  9C8C4241D264F883F4587529316B042A        Pulmonology        Pulmonology   \n",
       "26198  EA9BE6EA49C5C752ABB11953955C90E4        Pulmonology        Pulmonology   \n",
       "26199  6E69EBBFAD976D4637BB4B39DE261BF7        Pulmonology        Pulmonology   \n",
       "26200  45C68484C6FC509CB25BDFCA881E5CD8        Pulmonology        Pulmonology   \n",
       "26201  BAEAD3B2BAB81C64C1EA6A6984646567        Pulmonology        Pulmonology   \n",
       "\n",
       "       index  \n",
       "0          1  \n",
       "1          1  \n",
       "2          1  \n",
       "3          1  \n",
       "4          1  \n",
       "...      ...  \n",
       "26197     18  \n",
       "26198     18  \n",
       "26199     18  \n",
       "26200     18  \n",
       "26201     18  \n",
       "\n",
       "[26202 rows x 4 columns]"
      ]
     },
     "execution_count": 383,
     "metadata": {},
     "output_type": "execute_result"
    }
   ],
   "source": [
    "official_junc_doctor_specialty = pd.merge(\n",
    "    left=official_junc_doctor_specialty,\n",
    "    right=official_specialty_df_cpy,\n",
    "    how='inner',\n",
    "    left_on='mainspecialty',\n",
    "    right_on='specialty'\n",
    ")\n",
    "\n",
    "official_junc_doctor_specialty"
   ]
  },
  {
   "cell_type": "code",
   "execution_count": 388,
   "metadata": {},
   "outputs": [
    {
     "data": {
      "text/html": [
       "<div>\n",
       "<style scoped>\n",
       "    .dataframe tbody tr th:only-of-type {\n",
       "        vertical-align: middle;\n",
       "    }\n",
       "\n",
       "    .dataframe tbody tr th {\n",
       "        vertical-align: top;\n",
       "    }\n",
       "\n",
       "    .dataframe thead th {\n",
       "        text-align: right;\n",
       "    }\n",
       "</style>\n",
       "<table border=\"1\" class=\"dataframe\">\n",
       "  <thead>\n",
       "    <tr style=\"text-align: right;\">\n",
       "      <th></th>\n",
       "      <th>doctorid</th>\n",
       "      <th>index</th>\n",
       "    </tr>\n",
       "  </thead>\n",
       "  <tbody>\n",
       "    <tr>\n",
       "      <th>0</th>\n",
       "      <td>A7AEED74714116F3B292A982238F83D2</td>\n",
       "      <td>1</td>\n",
       "    </tr>\n",
       "    <tr>\n",
       "      <th>1</th>\n",
       "      <td>B7B16ECF8CA53723593894116071700C</td>\n",
       "      <td>1</td>\n",
       "    </tr>\n",
       "    <tr>\n",
       "      <th>2</th>\n",
       "      <td>A1D33D0DFEC820B41B54430B50E96B5C</td>\n",
       "      <td>1</td>\n",
       "    </tr>\n",
       "    <tr>\n",
       "      <th>3</th>\n",
       "      <td>6CFE0E6127FA25DF2A0EF2AE1067D915</td>\n",
       "      <td>1</td>\n",
       "    </tr>\n",
       "    <tr>\n",
       "      <th>4</th>\n",
       "      <td>5D44EE6F2C3F71B73125876103C8F6C4</td>\n",
       "      <td>1</td>\n",
       "    </tr>\n",
       "    <tr>\n",
       "      <th>...</th>\n",
       "      <td>...</td>\n",
       "      <td>...</td>\n",
       "    </tr>\n",
       "    <tr>\n",
       "      <th>26197</th>\n",
       "      <td>9C8C4241D264F883F4587529316B042A</td>\n",
       "      <td>18</td>\n",
       "    </tr>\n",
       "    <tr>\n",
       "      <th>26198</th>\n",
       "      <td>EA9BE6EA49C5C752ABB11953955C90E4</td>\n",
       "      <td>18</td>\n",
       "    </tr>\n",
       "    <tr>\n",
       "      <th>26199</th>\n",
       "      <td>6E69EBBFAD976D4637BB4B39DE261BF7</td>\n",
       "      <td>18</td>\n",
       "    </tr>\n",
       "    <tr>\n",
       "      <th>26200</th>\n",
       "      <td>45C68484C6FC509CB25BDFCA881E5CD8</td>\n",
       "      <td>18</td>\n",
       "    </tr>\n",
       "    <tr>\n",
       "      <th>26201</th>\n",
       "      <td>BAEAD3B2BAB81C64C1EA6A6984646567</td>\n",
       "      <td>18</td>\n",
       "    </tr>\n",
       "  </tbody>\n",
       "</table>\n",
       "<p>26202 rows × 2 columns</p>\n",
       "</div>"
      ],
      "text/plain": [
       "                               doctorid  index\n",
       "0      A7AEED74714116F3B292A982238F83D2      1\n",
       "1      B7B16ECF8CA53723593894116071700C      1\n",
       "2      A1D33D0DFEC820B41B54430B50E96B5C      1\n",
       "3      6CFE0E6127FA25DF2A0EF2AE1067D915      1\n",
       "4      5D44EE6F2C3F71B73125876103C8F6C4      1\n",
       "...                                 ...    ...\n",
       "26197  9C8C4241D264F883F4587529316B042A     18\n",
       "26198  EA9BE6EA49C5C752ABB11953955C90E4     18\n",
       "26199  6E69EBBFAD976D4637BB4B39DE261BF7     18\n",
       "26200  45C68484C6FC509CB25BDFCA881E5CD8     18\n",
       "26201  BAEAD3B2BAB81C64C1EA6A6984646567     18\n",
       "\n",
       "[26202 rows x 2 columns]"
      ]
     },
     "execution_count": 388,
     "metadata": {},
     "output_type": "execute_result"
    }
   ],
   "source": [
    "official_junc_doctor_specialty = official_junc_doctor_specialty[['doctorid', 'index']]\n",
    "official_junc_doctor_specialty"
   ]
  },
  {
   "cell_type": "markdown",
   "metadata": {},
   "source": [
    "**IMPORTING TO SQL**"
   ]
  },
  {
   "cell_type": "code",
   "execution_count": 389,
   "metadata": {},
   "outputs": [
    {
     "data": {
      "text/html": [
       "<div>\n",
       "<style scoped>\n",
       "    .dataframe tbody tr th:only-of-type {\n",
       "        vertical-align: middle;\n",
       "    }\n",
       "\n",
       "    .dataframe tbody tr th {\n",
       "        vertical-align: top;\n",
       "    }\n",
       "\n",
       "    .dataframe thead th {\n",
       "        text-align: right;\n",
       "    }\n",
       "</style>\n",
       "<table border=\"1\" class=\"dataframe\">\n",
       "  <thead>\n",
       "    <tr style=\"text-align: right;\">\n",
       "      <th></th>\n",
       "      <th>specialty</th>\n",
       "    </tr>\n",
       "  </thead>\n",
       "  <tbody>\n",
       "    <tr>\n",
       "      <th>1</th>\n",
       "      <td>Internal Medicine</td>\n",
       "    </tr>\n",
       "    <tr>\n",
       "      <th>2</th>\n",
       "      <td>General Medicine</td>\n",
       "    </tr>\n",
       "    <tr>\n",
       "      <th>3</th>\n",
       "      <td>Pediatrics</td>\n",
       "    </tr>\n",
       "    <tr>\n",
       "      <th>4</th>\n",
       "      <td>Family Medicine</td>\n",
       "    </tr>\n",
       "    <tr>\n",
       "      <th>5</th>\n",
       "      <td>Obstetrics</td>\n",
       "    </tr>\n",
       "    <tr>\n",
       "      <th>6</th>\n",
       "      <td>Gynecology</td>\n",
       "    </tr>\n",
       "    <tr>\n",
       "      <th>7</th>\n",
       "      <td>Dermatology</td>\n",
       "    </tr>\n",
       "    <tr>\n",
       "      <th>8</th>\n",
       "      <td>Ophthalmology</td>\n",
       "    </tr>\n",
       "    <tr>\n",
       "      <th>9</th>\n",
       "      <td>Surgery</td>\n",
       "    </tr>\n",
       "    <tr>\n",
       "      <th>10</th>\n",
       "      <td>Psychiatry</td>\n",
       "    </tr>\n",
       "    <tr>\n",
       "      <th>11</th>\n",
       "      <td>Dentistry</td>\n",
       "    </tr>\n",
       "    <tr>\n",
       "      <th>12</th>\n",
       "      <td>Urology</td>\n",
       "    </tr>\n",
       "    <tr>\n",
       "      <th>13</th>\n",
       "      <td>Orthopedy</td>\n",
       "    </tr>\n",
       "    <tr>\n",
       "      <th>14</th>\n",
       "      <td>Cardiology</td>\n",
       "    </tr>\n",
       "    <tr>\n",
       "      <th>15</th>\n",
       "      <td>Radiology</td>\n",
       "    </tr>\n",
       "    <tr>\n",
       "      <th>16</th>\n",
       "      <td>Gastrology</td>\n",
       "    </tr>\n",
       "    <tr>\n",
       "      <th>17</th>\n",
       "      <td>Endocrinology</td>\n",
       "    </tr>\n",
       "    <tr>\n",
       "      <th>18</th>\n",
       "      <td>Pulmonology</td>\n",
       "    </tr>\n",
       "  </tbody>\n",
       "</table>\n",
       "</div>"
      ],
      "text/plain": [
       "            specialty\n",
       "1   Internal Medicine\n",
       "2    General Medicine\n",
       "3          Pediatrics\n",
       "4     Family Medicine\n",
       "5          Obstetrics\n",
       "6          Gynecology\n",
       "7         Dermatology\n",
       "8       Ophthalmology\n",
       "9             Surgery\n",
       "10         Psychiatry\n",
       "11          Dentistry\n",
       "12            Urology\n",
       "13          Orthopedy\n",
       "14         Cardiology\n",
       "15          Radiology\n",
       "16         Gastrology\n",
       "17      Endocrinology\n",
       "18        Pulmonology"
      ]
     },
     "execution_count": 389,
     "metadata": {},
     "output_type": "execute_result"
    }
   ],
   "source": [
    "official_specialty_df"
   ]
  },
  {
   "cell_type": "code",
   "execution_count": 390,
   "metadata": {},
   "outputs": [
    {
     "name": "stdout",
     "output_type": "stream",
     "text": [
      "rows affected:18\n"
     ]
    }
   ],
   "source": [
    "# sending dataframe to sql table\n",
    "# dim_specialty\n",
    "mdwarehouse_conn = MySqlEngineDW.connect()\n",
    "\n",
    "rows_affected = official_specialty_df.to_sql(\n",
    "    name='dim_specialty',\n",
    "    con=mdwarehouse_conn,\n",
    "    if_exists='append',\n",
    "    index=True,\n",
    "    index_label='specialtyID',\n",
    "    dtype={\n",
    "        'specialtyID': sqlalchemy.types.Integer,\n",
    "        'specialty': sqlalchemy.types.String(100),\n",
    "    },\n",
    "    chunksize=5000,\n",
    "    method='multi'\n",
    ")\n",
    "\n",
    "print(\"rows affected:\" + str(rows_affected))\n",
    "\n",
    "mdwarehouse_conn.close()"
   ]
  },
  {
   "cell_type": "code",
   "execution_count": 392,
   "metadata": {},
   "outputs": [
    {
     "data": {
      "text/html": [
       "<div>\n",
       "<style scoped>\n",
       "    .dataframe tbody tr th:only-of-type {\n",
       "        vertical-align: middle;\n",
       "    }\n",
       "\n",
       "    .dataframe tbody tr th {\n",
       "        vertical-align: top;\n",
       "    }\n",
       "\n",
       "    .dataframe thead th {\n",
       "        text-align: right;\n",
       "    }\n",
       "</style>\n",
       "<table border=\"1\" class=\"dataframe\">\n",
       "  <thead>\n",
       "    <tr style=\"text-align: right;\">\n",
       "      <th></th>\n",
       "      <th>doctorid</th>\n",
       "      <th>age</th>\n",
       "    </tr>\n",
       "  </thead>\n",
       "  <tbody>\n",
       "    <tr>\n",
       "      <th>0</th>\n",
       "      <td>CCB1D45FB76F7C5A0BF619F979C6CF36</td>\n",
       "      <td>71</td>\n",
       "    </tr>\n",
       "    <tr>\n",
       "      <th>1</th>\n",
       "      <td>6C29793A140A811D0C45CE03C1C93A28</td>\n",
       "      <td>&lt;NA&gt;</td>\n",
       "    </tr>\n",
       "    <tr>\n",
       "      <th>2</th>\n",
       "      <td>CF67355A3333E6E143439161ADC2D82E</td>\n",
       "      <td>67</td>\n",
       "    </tr>\n",
       "    <tr>\n",
       "      <th>3</th>\n",
       "      <td>5B69B9CB83065D403869739AE7F0995E</td>\n",
       "      <td>43</td>\n",
       "    </tr>\n",
       "    <tr>\n",
       "      <th>4</th>\n",
       "      <td>A7AEED74714116F3B292A982238F83D2</td>\n",
       "      <td>43</td>\n",
       "    </tr>\n",
       "    <tr>\n",
       "      <th>...</th>\n",
       "      <td>...</td>\n",
       "      <td>...</td>\n",
       "    </tr>\n",
       "    <tr>\n",
       "      <th>60019</th>\n",
       "      <td>B2592B47D3A46F07D90C3E5A9CF3ACC3</td>\n",
       "      <td>&lt;NA&gt;</td>\n",
       "    </tr>\n",
       "    <tr>\n",
       "      <th>60020</th>\n",
       "      <td>C136BB626E2697D2D1BBA2BD447277A1</td>\n",
       "      <td>&lt;NA&gt;</td>\n",
       "    </tr>\n",
       "    <tr>\n",
       "      <th>60021</th>\n",
       "      <td>7B49655747396EBE9689CE931D04F84C</td>\n",
       "      <td>&lt;NA&gt;</td>\n",
       "    </tr>\n",
       "    <tr>\n",
       "      <th>60022</th>\n",
       "      <td>82048394A4FEC8B2F82CB19FAD17D292</td>\n",
       "      <td>&lt;NA&gt;</td>\n",
       "    </tr>\n",
       "    <tr>\n",
       "      <th>60023</th>\n",
       "      <td>D0F56CC15CD90A7568BD6E0319A0DDBB</td>\n",
       "      <td>&lt;NA&gt;</td>\n",
       "    </tr>\n",
       "  </tbody>\n",
       "</table>\n",
       "<p>60024 rows × 2 columns</p>\n",
       "</div>"
      ],
      "text/plain": [
       "                               doctorid   age\n",
       "0      CCB1D45FB76F7C5A0BF619F979C6CF36    71\n",
       "1      6C29793A140A811D0C45CE03C1C93A28  <NA>\n",
       "2      CF67355A3333E6E143439161ADC2D82E    67\n",
       "3      5B69B9CB83065D403869739AE7F0995E    43\n",
       "4      A7AEED74714116F3B292A982238F83D2    43\n",
       "...                                 ...   ...\n",
       "60019  B2592B47D3A46F07D90C3E5A9CF3ACC3  <NA>\n",
       "60020  C136BB626E2697D2D1BBA2BD447277A1  <NA>\n",
       "60021  7B49655747396EBE9689CE931D04F84C  <NA>\n",
       "60022  82048394A4FEC8B2F82CB19FAD17D292  <NA>\n",
       "60023  D0F56CC15CD90A7568BD6E0319A0DDBB  <NA>\n",
       "\n",
       "[60024 rows x 2 columns]"
      ]
     },
     "execution_count": 392,
     "metadata": {},
     "output_type": "execute_result"
    }
   ],
   "source": [
    "official_doctors_df = doctors_df[['doctorid', 'age']]\n",
    "official_doctors_df"
   ]
  },
  {
   "cell_type": "code",
   "execution_count": 393,
   "metadata": {},
   "outputs": [
    {
     "name": "stderr",
     "output_type": "stream",
     "text": [
      "C:\\Users\\Francis\\AppData\\Local\\Temp\\ipykernel_588\\3683415423.py:1: SettingWithCopyWarning: \n",
      "A value is trying to be set on a copy of a slice from a DataFrame\n",
      "\n",
      "See the caveats in the documentation: https://pandas.pydata.org/pandas-docs/stable/user_guide/indexing.html#returning-a-view-versus-a-copy\n",
      "  official_doctors_df.rename(\n"
     ]
    },
    {
     "data": {
      "text/html": [
       "<div>\n",
       "<style scoped>\n",
       "    .dataframe tbody tr th:only-of-type {\n",
       "        vertical-align: middle;\n",
       "    }\n",
       "\n",
       "    .dataframe tbody tr th {\n",
       "        vertical-align: top;\n",
       "    }\n",
       "\n",
       "    .dataframe thead th {\n",
       "        text-align: right;\n",
       "    }\n",
       "</style>\n",
       "<table border=\"1\" class=\"dataframe\">\n",
       "  <thead>\n",
       "    <tr style=\"text-align: right;\">\n",
       "      <th></th>\n",
       "      <th>doctorID</th>\n",
       "      <th>age</th>\n",
       "    </tr>\n",
       "  </thead>\n",
       "  <tbody>\n",
       "    <tr>\n",
       "      <th>0</th>\n",
       "      <td>CCB1D45FB76F7C5A0BF619F979C6CF36</td>\n",
       "      <td>71</td>\n",
       "    </tr>\n",
       "    <tr>\n",
       "      <th>1</th>\n",
       "      <td>6C29793A140A811D0C45CE03C1C93A28</td>\n",
       "      <td>&lt;NA&gt;</td>\n",
       "    </tr>\n",
       "    <tr>\n",
       "      <th>2</th>\n",
       "      <td>CF67355A3333E6E143439161ADC2D82E</td>\n",
       "      <td>67</td>\n",
       "    </tr>\n",
       "    <tr>\n",
       "      <th>3</th>\n",
       "      <td>5B69B9CB83065D403869739AE7F0995E</td>\n",
       "      <td>43</td>\n",
       "    </tr>\n",
       "    <tr>\n",
       "      <th>4</th>\n",
       "      <td>A7AEED74714116F3B292A982238F83D2</td>\n",
       "      <td>43</td>\n",
       "    </tr>\n",
       "    <tr>\n",
       "      <th>...</th>\n",
       "      <td>...</td>\n",
       "      <td>...</td>\n",
       "    </tr>\n",
       "    <tr>\n",
       "      <th>60019</th>\n",
       "      <td>B2592B47D3A46F07D90C3E5A9CF3ACC3</td>\n",
       "      <td>&lt;NA&gt;</td>\n",
       "    </tr>\n",
       "    <tr>\n",
       "      <th>60020</th>\n",
       "      <td>C136BB626E2697D2D1BBA2BD447277A1</td>\n",
       "      <td>&lt;NA&gt;</td>\n",
       "    </tr>\n",
       "    <tr>\n",
       "      <th>60021</th>\n",
       "      <td>7B49655747396EBE9689CE931D04F84C</td>\n",
       "      <td>&lt;NA&gt;</td>\n",
       "    </tr>\n",
       "    <tr>\n",
       "      <th>60022</th>\n",
       "      <td>82048394A4FEC8B2F82CB19FAD17D292</td>\n",
       "      <td>&lt;NA&gt;</td>\n",
       "    </tr>\n",
       "    <tr>\n",
       "      <th>60023</th>\n",
       "      <td>D0F56CC15CD90A7568BD6E0319A0DDBB</td>\n",
       "      <td>&lt;NA&gt;</td>\n",
       "    </tr>\n",
       "  </tbody>\n",
       "</table>\n",
       "<p>60024 rows × 2 columns</p>\n",
       "</div>"
      ],
      "text/plain": [
       "                               doctorID   age\n",
       "0      CCB1D45FB76F7C5A0BF619F979C6CF36    71\n",
       "1      6C29793A140A811D0C45CE03C1C93A28  <NA>\n",
       "2      CF67355A3333E6E143439161ADC2D82E    67\n",
       "3      5B69B9CB83065D403869739AE7F0995E    43\n",
       "4      A7AEED74714116F3B292A982238F83D2    43\n",
       "...                                 ...   ...\n",
       "60019  B2592B47D3A46F07D90C3E5A9CF3ACC3  <NA>\n",
       "60020  C136BB626E2697D2D1BBA2BD447277A1  <NA>\n",
       "60021  7B49655747396EBE9689CE931D04F84C  <NA>\n",
       "60022  82048394A4FEC8B2F82CB19FAD17D292  <NA>\n",
       "60023  D0F56CC15CD90A7568BD6E0319A0DDBB  <NA>\n",
       "\n",
       "[60024 rows x 2 columns]"
      ]
     },
     "execution_count": 393,
     "metadata": {},
     "output_type": "execute_result"
    }
   ],
   "source": [
    "official_doctors_df.rename(\n",
    "    columns={\n",
    "        'doctorid': 'doctorID',\n",
    "    },\n",
    "    copy=False,\n",
    "    inplace=True,\n",
    "    errors='raise'\n",
    ")\n",
    "official_doctors_df"
   ]
  },
  {
   "cell_type": "code",
   "execution_count": 394,
   "metadata": {},
   "outputs": [
    {
     "name": "stdout",
     "output_type": "stream",
     "text": [
      "rows affected:60024\n"
     ]
    }
   ],
   "source": [
    "# sending dataframe to sql table\n",
    "# dim_doctor\n",
    "mdwarehouse_conn = MySqlEngineDW.connect()\n",
    "\n",
    "rows_affected = official_doctors_df.to_sql(\n",
    "    name='dim_doctor',\n",
    "    con=mdwarehouse_conn,\n",
    "    if_exists='append',\n",
    "    index=False,\n",
    "    dtype={\n",
    "        'doctorID': sqlalchemy.types.String(32),\n",
    "        'age': sqlalchemy.types.Integer,\n",
    "    },\n",
    "    chunksize=5000,\n",
    "    method='multi'\n",
    ")\n",
    "\n",
    "print(\"rows affected:\" + str(rows_affected))\n",
    "\n",
    "mdwarehouse_conn.close()"
   ]
  },
  {
   "cell_type": "code",
   "execution_count": 395,
   "metadata": {},
   "outputs": [
    {
     "data": {
      "text/html": [
       "<div>\n",
       "<style scoped>\n",
       "    .dataframe tbody tr th:only-of-type {\n",
       "        vertical-align: middle;\n",
       "    }\n",
       "\n",
       "    .dataframe tbody tr th {\n",
       "        vertical-align: top;\n",
       "    }\n",
       "\n",
       "    .dataframe thead th {\n",
       "        text-align: right;\n",
       "    }\n",
       "</style>\n",
       "<table border=\"1\" class=\"dataframe\">\n",
       "  <thead>\n",
       "    <tr style=\"text-align: right;\">\n",
       "      <th></th>\n",
       "      <th>doctorid</th>\n",
       "      <th>index</th>\n",
       "    </tr>\n",
       "  </thead>\n",
       "  <tbody>\n",
       "    <tr>\n",
       "      <th>0</th>\n",
       "      <td>A7AEED74714116F3B292A982238F83D2</td>\n",
       "      <td>1</td>\n",
       "    </tr>\n",
       "    <tr>\n",
       "      <th>1</th>\n",
       "      <td>B7B16ECF8CA53723593894116071700C</td>\n",
       "      <td>1</td>\n",
       "    </tr>\n",
       "    <tr>\n",
       "      <th>2</th>\n",
       "      <td>A1D33D0DFEC820B41B54430B50E96B5C</td>\n",
       "      <td>1</td>\n",
       "    </tr>\n",
       "    <tr>\n",
       "      <th>3</th>\n",
       "      <td>6CFE0E6127FA25DF2A0EF2AE1067D915</td>\n",
       "      <td>1</td>\n",
       "    </tr>\n",
       "    <tr>\n",
       "      <th>4</th>\n",
       "      <td>5D44EE6F2C3F71B73125876103C8F6C4</td>\n",
       "      <td>1</td>\n",
       "    </tr>\n",
       "    <tr>\n",
       "      <th>...</th>\n",
       "      <td>...</td>\n",
       "      <td>...</td>\n",
       "    </tr>\n",
       "    <tr>\n",
       "      <th>26197</th>\n",
       "      <td>9C8C4241D264F883F4587529316B042A</td>\n",
       "      <td>18</td>\n",
       "    </tr>\n",
       "    <tr>\n",
       "      <th>26198</th>\n",
       "      <td>EA9BE6EA49C5C752ABB11953955C90E4</td>\n",
       "      <td>18</td>\n",
       "    </tr>\n",
       "    <tr>\n",
       "      <th>26199</th>\n",
       "      <td>6E69EBBFAD976D4637BB4B39DE261BF7</td>\n",
       "      <td>18</td>\n",
       "    </tr>\n",
       "    <tr>\n",
       "      <th>26200</th>\n",
       "      <td>45C68484C6FC509CB25BDFCA881E5CD8</td>\n",
       "      <td>18</td>\n",
       "    </tr>\n",
       "    <tr>\n",
       "      <th>26201</th>\n",
       "      <td>BAEAD3B2BAB81C64C1EA6A6984646567</td>\n",
       "      <td>18</td>\n",
       "    </tr>\n",
       "  </tbody>\n",
       "</table>\n",
       "<p>26202 rows × 2 columns</p>\n",
       "</div>"
      ],
      "text/plain": [
       "                               doctorid  index\n",
       "0      A7AEED74714116F3B292A982238F83D2      1\n",
       "1      B7B16ECF8CA53723593894116071700C      1\n",
       "2      A1D33D0DFEC820B41B54430B50E96B5C      1\n",
       "3      6CFE0E6127FA25DF2A0EF2AE1067D915      1\n",
       "4      5D44EE6F2C3F71B73125876103C8F6C4      1\n",
       "...                                 ...    ...\n",
       "26197  9C8C4241D264F883F4587529316B042A     18\n",
       "26198  EA9BE6EA49C5C752ABB11953955C90E4     18\n",
       "26199  6E69EBBFAD976D4637BB4B39DE261BF7     18\n",
       "26200  45C68484C6FC509CB25BDFCA881E5CD8     18\n",
       "26201  BAEAD3B2BAB81C64C1EA6A6984646567     18\n",
       "\n",
       "[26202 rows x 2 columns]"
      ]
     },
     "execution_count": 395,
     "metadata": {},
     "output_type": "execute_result"
    }
   ],
   "source": [
    "official_junc_doctor_specialty"
   ]
  },
  {
   "cell_type": "code",
   "execution_count": 396,
   "metadata": {},
   "outputs": [
    {
     "name": "stderr",
     "output_type": "stream",
     "text": [
      "C:\\Users\\Francis\\AppData\\Local\\Temp\\ipykernel_588\\3733677104.py:1: SettingWithCopyWarning: \n",
      "A value is trying to be set on a copy of a slice from a DataFrame\n",
      "\n",
      "See the caveats in the documentation: https://pandas.pydata.org/pandas-docs/stable/user_guide/indexing.html#returning-a-view-versus-a-copy\n",
      "  official_junc_doctor_specialty.rename(\n"
     ]
    },
    {
     "data": {
      "text/html": [
       "<div>\n",
       "<style scoped>\n",
       "    .dataframe tbody tr th:only-of-type {\n",
       "        vertical-align: middle;\n",
       "    }\n",
       "\n",
       "    .dataframe tbody tr th {\n",
       "        vertical-align: top;\n",
       "    }\n",
       "\n",
       "    .dataframe thead th {\n",
       "        text-align: right;\n",
       "    }\n",
       "</style>\n",
       "<table border=\"1\" class=\"dataframe\">\n",
       "  <thead>\n",
       "    <tr style=\"text-align: right;\">\n",
       "      <th></th>\n",
       "      <th>doctorid</th>\n",
       "      <th>specialtyID</th>\n",
       "    </tr>\n",
       "  </thead>\n",
       "  <tbody>\n",
       "    <tr>\n",
       "      <th>0</th>\n",
       "      <td>A7AEED74714116F3B292A982238F83D2</td>\n",
       "      <td>1</td>\n",
       "    </tr>\n",
       "    <tr>\n",
       "      <th>1</th>\n",
       "      <td>B7B16ECF8CA53723593894116071700C</td>\n",
       "      <td>1</td>\n",
       "    </tr>\n",
       "    <tr>\n",
       "      <th>2</th>\n",
       "      <td>A1D33D0DFEC820B41B54430B50E96B5C</td>\n",
       "      <td>1</td>\n",
       "    </tr>\n",
       "    <tr>\n",
       "      <th>3</th>\n",
       "      <td>6CFE0E6127FA25DF2A0EF2AE1067D915</td>\n",
       "      <td>1</td>\n",
       "    </tr>\n",
       "    <tr>\n",
       "      <th>4</th>\n",
       "      <td>5D44EE6F2C3F71B73125876103C8F6C4</td>\n",
       "      <td>1</td>\n",
       "    </tr>\n",
       "    <tr>\n",
       "      <th>...</th>\n",
       "      <td>...</td>\n",
       "      <td>...</td>\n",
       "    </tr>\n",
       "    <tr>\n",
       "      <th>26197</th>\n",
       "      <td>9C8C4241D264F883F4587529316B042A</td>\n",
       "      <td>18</td>\n",
       "    </tr>\n",
       "    <tr>\n",
       "      <th>26198</th>\n",
       "      <td>EA9BE6EA49C5C752ABB11953955C90E4</td>\n",
       "      <td>18</td>\n",
       "    </tr>\n",
       "    <tr>\n",
       "      <th>26199</th>\n",
       "      <td>6E69EBBFAD976D4637BB4B39DE261BF7</td>\n",
       "      <td>18</td>\n",
       "    </tr>\n",
       "    <tr>\n",
       "      <th>26200</th>\n",
       "      <td>45C68484C6FC509CB25BDFCA881E5CD8</td>\n",
       "      <td>18</td>\n",
       "    </tr>\n",
       "    <tr>\n",
       "      <th>26201</th>\n",
       "      <td>BAEAD3B2BAB81C64C1EA6A6984646567</td>\n",
       "      <td>18</td>\n",
       "    </tr>\n",
       "  </tbody>\n",
       "</table>\n",
       "<p>26202 rows × 2 columns</p>\n",
       "</div>"
      ],
      "text/plain": [
       "                               doctorid  specialtyID\n",
       "0      A7AEED74714116F3B292A982238F83D2            1\n",
       "1      B7B16ECF8CA53723593894116071700C            1\n",
       "2      A1D33D0DFEC820B41B54430B50E96B5C            1\n",
       "3      6CFE0E6127FA25DF2A0EF2AE1067D915            1\n",
       "4      5D44EE6F2C3F71B73125876103C8F6C4            1\n",
       "...                                 ...          ...\n",
       "26197  9C8C4241D264F883F4587529316B042A           18\n",
       "26198  EA9BE6EA49C5C752ABB11953955C90E4           18\n",
       "26199  6E69EBBFAD976D4637BB4B39DE261BF7           18\n",
       "26200  45C68484C6FC509CB25BDFCA881E5CD8           18\n",
       "26201  BAEAD3B2BAB81C64C1EA6A6984646567           18\n",
       "\n",
       "[26202 rows x 2 columns]"
      ]
     },
     "execution_count": 396,
     "metadata": {},
     "output_type": "execute_result"
    }
   ],
   "source": [
    "official_junc_doctor_specialty.rename(\n",
    "    columns={\n",
    "        'index': 'specialtyID',\n",
    "    },\n",
    "    copy=False,\n",
    "    inplace=True,\n",
    "    errors='raise'\n",
    ")\n",
    "official_junc_doctor_specialty"
   ]
  },
  {
   "cell_type": "code",
   "execution_count": 398,
   "metadata": {},
   "outputs": [
    {
     "name": "stdout",
     "output_type": "stream",
     "text": [
      "rows affected:26202\n"
     ]
    }
   ],
   "source": [
    "# sending dataframe to sql table\n",
    "# dim_doctor\n",
    "mdwarehouse_conn = MySqlEngineDW.connect()\n",
    "\n",
    "rows_affected = official_junc_doctor_specialty.to_sql(\n",
    "    name='junc_doctor_specialty',\n",
    "    con=mdwarehouse_conn,\n",
    "    if_exists='append',\n",
    "    index=False,\n",
    "    dtype={\n",
    "        'doctorID': sqlalchemy.types.String(32),\n",
    "        'specialtyID': sqlalchemy.types.Integer,\n",
    "    },\n",
    "    chunksize=5000,\n",
    "    method='multi'\n",
    ")\n",
    "\n",
    "print(\"rows affected:\" + str(rows_affected))\n",
    "\n",
    "mdwarehouse_conn.close()"
   ]
  },
  {
   "cell_type": "markdown",
   "metadata": {},
   "source": [
    "------"
   ]
  },
  {
   "cell_type": "code",
   "execution_count": null,
   "metadata": {},
   "outputs": [],
   "source": [
    "MySqlEngine.dispose(),\n",
    "MySqlEngineDW.dispose()"
   ]
  }
 ],
 "metadata": {
  "kernelspec": {
   "display_name": "Python 3 (ipykernel)",
   "language": "python",
   "name": "python3"
  },
  "language_info": {
   "codemirror_mode": {
    "name": "ipython",
    "version": 3
   },
   "file_extension": ".py",
   "mimetype": "text/x-python",
   "name": "python",
   "nbconvert_exporter": "python",
   "pygments_lexer": "ipython3",
   "version": "3.11.1"
  }
 },
 "nbformat": 4,
 "nbformat_minor": 1
}
