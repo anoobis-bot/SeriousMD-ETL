{
 "cells": [
  {
   "cell_type": "markdown",
   "metadata": {
    "collapsed": false,
    "jupyter": {
     "outputs_hidden": false
    }
   },
   "source": [
    "The ETL process is as follows:\n",
    "1. Import the database tables as dataframes\n",
    "2. Use pandas dataframe operations to clean the dataframe\n",
    "3. Extract dimension values\n",
    "4. Load it to the data warehouse\n",
    "\n",
    "Standard Protocols will be used to clean data\n",
    "1. Checking for incorrect data types\n",
    "2. Check for dupliucate values\n",
    "3. Check for multiple representations\n",
    "4. Check for missing and default values\n",
    "5. Check for inconsistent format"
   ]
  },
  {
   "cell_type": "code",
   "execution_count": 4,
   "metadata": {
    "collapsed": true,
    "jupyter": {
     "outputs_hidden": true
    }
   },
   "outputs": [],
   "source": [
    "import pandas as pd\n",
    "from sqlalchemy import create_engine\n",
    "from sqlalchemy import URL\n",
    "import numpy as np\n",
    "from enum import Enum\n",
    "import sqlalchemy"
   ]
  },
  {
   "cell_type": "code",
   "execution_count": 5,
   "metadata": {
    "collapsed": false,
    "jupyter": {
     "outputs_hidden": false
    }
   },
   "outputs": [],
   "source": [
    "# creating engine. MySQL will be used\n",
    "url_object = URL.create(\n",
    "    drivername='mysql',\n",
    "    username='root',\n",
    "    password='Data_101',\n",
    "    host='localhost',\n",
    "    port=3306,\n",
    "    database='seriousmd'\n",
    ")\n",
    "MySqlEngine = create_engine(url_object)"
   ]
  },
  {
   "cell_type": "code",
   "execution_count": 6,
   "metadata": {
    "collapsed": false,
    "jupyter": {
     "outputs_hidden": false
    }
   },
   "outputs": [],
   "source": [
    "# creating engine for data warehouse\n",
    "url_object = URL.create(\n",
    "    drivername='mysql',\n",
    "    username='root',\n",
    "    password='Data_101',\n",
    "    host='localhost',\n",
    "    port=3306,\n",
    "    database='mdwarehouse'\n",
    ")\n",
    "MySqlEngineDW = create_engine(url_object)"
   ]
  },
  {
   "cell_type": "code",
   "execution_count": 7,
   "metadata": {
    "collapsed": false,
    "jupyter": {
     "outputs_hidden": false
    }
   },
   "outputs": [
    {
     "name": "stdout",
     "output_type": "stream",
     "text": [
      "<class 'pandas.core.frame.DataFrame'>\n",
      "RangeIndex: 522346 entries, 0 to 522345\n",
      "Data columns (total 11 columns):\n",
      " #   Column      Non-Null Count   Dtype         \n",
      "---  ------      --------------   -----         \n",
      " 0   pxid        522346 non-null  object        \n",
      " 1   clinicid    522346 non-null  object        \n",
      " 2   doctorid    522346 non-null  object        \n",
      " 3   apptid      522346 non-null  object        \n",
      " 4   status      522346 non-null  object        \n",
      " 5   TimeQueued  522346 non-null  datetime64[ns]\n",
      " 6   QueueDate   522346 non-null  datetime64[ns]\n",
      " 7   StartTime   352714 non-null  datetime64[ns]\n",
      " 8   EndTime     90502 non-null   datetime64[ns]\n",
      " 9   type        522346 non-null  object        \n",
      " 10  Virtual     522346 non-null  object        \n",
      "dtypes: datetime64[ns](4), object(7)\n",
      "memory usage: 43.8+ MB\n"
     ]
    }
   ],
   "source": [
    "# importing the appointments table to a dataframe for\n",
    "seriousmd_conn = MySqlEngine.connect()\n",
    "\n",
    "appointments_df = pd.read_sql(\n",
    "    sql=\"\"\"SELECT * FROM appointments\"\"\",\n",
    "    con=seriousmd_conn,\n",
    "    parse_dates={\n",
    "        'TimeQueued':'%Y-%m-%d %H:%M:%S',\n",
    "        'QueueDate':'%Y-%m-%d %H:%M:%S',\n",
    "        'StartTime':'%Y-%m-%d %H:%M:%S',\n",
    "        'EndTime':'%Y-%m-%d %H:%M:%S'\n",
    "    }\n",
    ")\n",
    "appointments_df.info()\n",
    "appointments_df.head()\n",
    "\n",
    "seriousmd_conn.close()"
   ]
  },
  {
   "cell_type": "markdown",
   "metadata": {
    "collapsed": false,
    "jupyter": {
     "outputs_hidden": false
    }
   },
   "source": [
    "**Appointments data cleaning**"
   ]
  },
  {
   "cell_type": "code",
   "execution_count": null,
   "metadata": {
    "collapsed": false,
    "jupyter": {
     "outputs_hidden": false
    }
   },
   "outputs": [],
   "source": [
    "# all data types are good"
   ]
  },
  {
   "cell_type": "markdown",
   "metadata": {
    "collapsed": false,
    "jupyter": {
     "outputs_hidden": false
    }
   },
   "source": [
    "Checking for duplicated rows"
   ]
  },
  {
   "cell_type": "code",
   "execution_count": 8,
   "metadata": {
    "collapsed": false,
    "jupyter": {
     "outputs_hidden": false
    }
   },
   "outputs": [
    {
     "data": {
      "text/html": [
       "<div>\n",
       "<style scoped>\n",
       "    .dataframe tbody tr th:only-of-type {\n",
       "        vertical-align: middle;\n",
       "    }\n",
       "\n",
       "    .dataframe tbody tr th {\n",
       "        vertical-align: top;\n",
       "    }\n",
       "\n",
       "    .dataframe thead th {\n",
       "        text-align: right;\n",
       "    }\n",
       "</style>\n",
       "<table border=\"1\" class=\"dataframe\">\n",
       "  <thead>\n",
       "    <tr style=\"text-align: right;\">\n",
       "      <th></th>\n",
       "      <th>pxid</th>\n",
       "      <th>clinicid</th>\n",
       "      <th>doctorid</th>\n",
       "      <th>apptid</th>\n",
       "      <th>status</th>\n",
       "      <th>TimeQueued</th>\n",
       "      <th>QueueDate</th>\n",
       "      <th>StartTime</th>\n",
       "      <th>EndTime</th>\n",
       "      <th>type</th>\n",
       "      <th>Virtual</th>\n",
       "    </tr>\n",
       "  </thead>\n",
       "  <tbody>\n",
       "    <tr>\n",
       "      <th>1</th>\n",
       "      <td>FE4A5D5A20EC492D2FC691F126A568AB</td>\n",
       "      <td>3B8D83483189887A2F1A39D690463A8F</td>\n",
       "      <td>ACB3A881C7CE9ABCAE0CE8C99C86A906</td>\n",
       "      <td>04BC9218E072BEEFEBEE9C97B78A35C9</td>\n",
       "      <td>Queued</td>\n",
       "      <td>2020-06-22 05:11:38</td>\n",
       "      <td>2020-07-02 16:00:00</td>\n",
       "      <td>2020-07-02 17:00:38</td>\n",
       "      <td>2020-07-02 17:15:38</td>\n",
       "      <td>Consultation</td>\n",
       "      <td></td>\n",
       "    </tr>\n",
       "    <tr>\n",
       "      <th>3</th>\n",
       "      <td>E6BC8E80685AA4A239617F196F12A0C3</td>\n",
       "      <td>3B8D83483189887A2F1A39D690463A8F</td>\n",
       "      <td>ACB3A881C7CE9ABCAE0CE8C99C86A906</td>\n",
       "      <td>F2335AAFB7EE079C7E7306591057C0C9</td>\n",
       "      <td>Queued</td>\n",
       "      <td>2020-06-26 04:51:16</td>\n",
       "      <td>2020-07-12 16:00:00</td>\n",
       "      <td>2020-07-12 17:00:16</td>\n",
       "      <td>2020-07-12 17:15:16</td>\n",
       "      <td>Consultation</td>\n",
       "      <td></td>\n",
       "    </tr>\n",
       "    <tr>\n",
       "      <th>5</th>\n",
       "      <td>E430B3D3AEED550612FFDBD0F2F94112</td>\n",
       "      <td>3B8D83483189887A2F1A39D690463A8F</td>\n",
       "      <td>ACB3A881C7CE9ABCAE0CE8C99C86A906</td>\n",
       "      <td>B2C83D6DE89A88C5CD9EA1FD5FC00602</td>\n",
       "      <td>Queued</td>\n",
       "      <td>2020-07-13 07:00:50</td>\n",
       "      <td>2020-07-19 16:00:00</td>\n",
       "      <td>2020-07-20 05:00:50</td>\n",
       "      <td>2020-07-20 05:15:50</td>\n",
       "      <td>Consultation</td>\n",
       "      <td></td>\n",
       "    </tr>\n",
       "    <tr>\n",
       "      <th>7</th>\n",
       "      <td>E6BC8E80685AA4A239617F196F12A0C3</td>\n",
       "      <td>3B8D83483189887A2F1A39D690463A8F</td>\n",
       "      <td>ACB3A881C7CE9ABCAE0CE8C99C86A906</td>\n",
       "      <td>DA4023B5A8C3F1BD540EA82552F21134</td>\n",
       "      <td>Queued</td>\n",
       "      <td>2020-07-13 06:07:14</td>\n",
       "      <td>2020-07-28 16:00:00</td>\n",
       "      <td>2020-07-29 05:00:13</td>\n",
       "      <td>2020-07-29 05:15:13</td>\n",
       "      <td>Consultation</td>\n",
       "      <td></td>\n",
       "    </tr>\n",
       "    <tr>\n",
       "      <th>9</th>\n",
       "      <td>41E3F930274A7704305EE197F3434877</td>\n",
       "      <td>3B8D83483189887A2F1A39D690463A8F</td>\n",
       "      <td>ACB3A881C7CE9ABCAE0CE8C99C86A906</td>\n",
       "      <td>C805F7992F18E33AB85CEBD572680943</td>\n",
       "      <td>Queued</td>\n",
       "      <td>2020-06-26 05:54:35</td>\n",
       "      <td>2020-09-27 16:00:00</td>\n",
       "      <td>2020-09-27 17:00:35</td>\n",
       "      <td>2020-09-27 17:15:35</td>\n",
       "      <td>Consultation</td>\n",
       "      <td></td>\n",
       "    </tr>\n",
       "    <tr>\n",
       "      <th>...</th>\n",
       "      <td>...</td>\n",
       "      <td>...</td>\n",
       "      <td>...</td>\n",
       "      <td>...</td>\n",
       "      <td>...</td>\n",
       "      <td>...</td>\n",
       "      <td>...</td>\n",
       "      <td>...</td>\n",
       "      <td>...</td>\n",
       "      <td>...</td>\n",
       "      <td>...</td>\n",
       "    </tr>\n",
       "    <tr>\n",
       "      <th>439189</th>\n",
       "      <td>63AA10BF9075360680D37E621B1B6BA5</td>\n",
       "      <td>321BBE1B2890962B06574A806B693EE5</td>\n",
       "      <td>3464CE4186536A9855A8A7967B121B3E</td>\n",
       "      <td>E6EA32383B6007189D31592604CEB0F7</td>\n",
       "      <td>Complete</td>\n",
       "      <td>2023-09-30 07:59:21</td>\n",
       "      <td>2023-09-29 16:00:00</td>\n",
       "      <td>2023-09-30 08:00:00</td>\n",
       "      <td>2023-09-30 08:30:00</td>\n",
       "      <td>Consultation</td>\n",
       "      <td>False</td>\n",
       "    </tr>\n",
       "    <tr>\n",
       "      <th>439191</th>\n",
       "      <td>63AA10BF9075360680D37E621B1B6BA5</td>\n",
       "      <td>321BBE1B2890962B06574A806B693EE5</td>\n",
       "      <td>3464CE4186536A9855A8A7967B121B3E</td>\n",
       "      <td>D69D6F448CE9C6A58905D36776B333B1</td>\n",
       "      <td>Complete</td>\n",
       "      <td>2023-10-15 09:35:38</td>\n",
       "      <td>2023-10-14 16:00:00</td>\n",
       "      <td>2023-10-15 09:00:00</td>\n",
       "      <td>2023-10-15 09:15:00</td>\n",
       "      <td>Consultation</td>\n",
       "      <td>False</td>\n",
       "    </tr>\n",
       "    <tr>\n",
       "      <th>439193</th>\n",
       "      <td>63AA10BF9075360680D37E621B1B6BA5</td>\n",
       "      <td>321BBE1B2890962B06574A806B693EE5</td>\n",
       "      <td>3464CE4186536A9855A8A7967B121B3E</td>\n",
       "      <td>8D17DCFF68FFCAEC2574D8D16558B6D1</td>\n",
       "      <td>Complete</td>\n",
       "      <td>2023-10-28 07:27:26</td>\n",
       "      <td>2023-10-27 16:00:00</td>\n",
       "      <td>2023-10-28 07:30:00</td>\n",
       "      <td>2023-10-28 08:00:00</td>\n",
       "      <td>Consultation</td>\n",
       "      <td>False</td>\n",
       "    </tr>\n",
       "    <tr>\n",
       "      <th>439195</th>\n",
       "      <td>63AA10BF9075360680D37E621B1B6BA5</td>\n",
       "      <td>321BBE1B2890962B06574A806B693EE5</td>\n",
       "      <td>3464CE4186536A9855A8A7967B121B3E</td>\n",
       "      <td>0827C6F8480B4B8ACB89B27E592EEF81</td>\n",
       "      <td>Complete</td>\n",
       "      <td>2024-01-11 07:42:26</td>\n",
       "      <td>2024-01-10 16:00:00</td>\n",
       "      <td>2024-01-11 07:00:00</td>\n",
       "      <td>2024-01-11 07:30:00</td>\n",
       "      <td>Consultation</td>\n",
       "      <td>False</td>\n",
       "    </tr>\n",
       "    <tr>\n",
       "      <th>521789</th>\n",
       "      <td>07B40BDCDDE43445A934A433DC43DB94</td>\n",
       "      <td>D3630410C51E60941A9001A46871070E</td>\n",
       "      <td>F033AB37C30201F73F142449D037028D</td>\n",
       "      <td>D3881C90A7B2A803F12E078B456A41D2</td>\n",
       "      <td>Queued</td>\n",
       "      <td>2016-10-01 00:46:34</td>\n",
       "      <td>2016-09-30 16:00:00</td>\n",
       "      <td>NaT</td>\n",
       "      <td>NaT</td>\n",
       "      <td>Consultation</td>\n",
       "      <td></td>\n",
       "    </tr>\n",
       "  </tbody>\n",
       "</table>\n",
       "<p>202206 rows × 11 columns</p>\n",
       "</div>"
      ],
      "text/plain": [
       "                                    pxid                          clinicid  \\\n",
       "1       FE4A5D5A20EC492D2FC691F126A568AB  3B8D83483189887A2F1A39D690463A8F   \n",
       "3       E6BC8E80685AA4A239617F196F12A0C3  3B8D83483189887A2F1A39D690463A8F   \n",
       "5       E430B3D3AEED550612FFDBD0F2F94112  3B8D83483189887A2F1A39D690463A8F   \n",
       "7       E6BC8E80685AA4A239617F196F12A0C3  3B8D83483189887A2F1A39D690463A8F   \n",
       "9       41E3F930274A7704305EE197F3434877  3B8D83483189887A2F1A39D690463A8F   \n",
       "...                                  ...                               ...   \n",
       "439189  63AA10BF9075360680D37E621B1B6BA5  321BBE1B2890962B06574A806B693EE5   \n",
       "439191  63AA10BF9075360680D37E621B1B6BA5  321BBE1B2890962B06574A806B693EE5   \n",
       "439193  63AA10BF9075360680D37E621B1B6BA5  321BBE1B2890962B06574A806B693EE5   \n",
       "439195  63AA10BF9075360680D37E621B1B6BA5  321BBE1B2890962B06574A806B693EE5   \n",
       "521789  07B40BDCDDE43445A934A433DC43DB94  D3630410C51E60941A9001A46871070E   \n",
       "\n",
       "                                doctorid                            apptid  \\\n",
       "1       ACB3A881C7CE9ABCAE0CE8C99C86A906  04BC9218E072BEEFEBEE9C97B78A35C9   \n",
       "3       ACB3A881C7CE9ABCAE0CE8C99C86A906  F2335AAFB7EE079C7E7306591057C0C9   \n",
       "5       ACB3A881C7CE9ABCAE0CE8C99C86A906  B2C83D6DE89A88C5CD9EA1FD5FC00602   \n",
       "7       ACB3A881C7CE9ABCAE0CE8C99C86A906  DA4023B5A8C3F1BD540EA82552F21134   \n",
       "9       ACB3A881C7CE9ABCAE0CE8C99C86A906  C805F7992F18E33AB85CEBD572680943   \n",
       "...                                  ...                               ...   \n",
       "439189  3464CE4186536A9855A8A7967B121B3E  E6EA32383B6007189D31592604CEB0F7   \n",
       "439191  3464CE4186536A9855A8A7967B121B3E  D69D6F448CE9C6A58905D36776B333B1   \n",
       "439193  3464CE4186536A9855A8A7967B121B3E  8D17DCFF68FFCAEC2574D8D16558B6D1   \n",
       "439195  3464CE4186536A9855A8A7967B121B3E  0827C6F8480B4B8ACB89B27E592EEF81   \n",
       "521789  F033AB37C30201F73F142449D037028D  D3881C90A7B2A803F12E078B456A41D2   \n",
       "\n",
       "          status          TimeQueued           QueueDate           StartTime  \\\n",
       "1         Queued 2020-06-22 05:11:38 2020-07-02 16:00:00 2020-07-02 17:00:38   \n",
       "3         Queued 2020-06-26 04:51:16 2020-07-12 16:00:00 2020-07-12 17:00:16   \n",
       "5         Queued 2020-07-13 07:00:50 2020-07-19 16:00:00 2020-07-20 05:00:50   \n",
       "7         Queued 2020-07-13 06:07:14 2020-07-28 16:00:00 2020-07-29 05:00:13   \n",
       "9         Queued 2020-06-26 05:54:35 2020-09-27 16:00:00 2020-09-27 17:00:35   \n",
       "...          ...                 ...                 ...                 ...   \n",
       "439189  Complete 2023-09-30 07:59:21 2023-09-29 16:00:00 2023-09-30 08:00:00   \n",
       "439191  Complete 2023-10-15 09:35:38 2023-10-14 16:00:00 2023-10-15 09:00:00   \n",
       "439193  Complete 2023-10-28 07:27:26 2023-10-27 16:00:00 2023-10-28 07:30:00   \n",
       "439195  Complete 2024-01-11 07:42:26 2024-01-10 16:00:00 2024-01-11 07:00:00   \n",
       "521789    Queued 2016-10-01 00:46:34 2016-09-30 16:00:00                 NaT   \n",
       "\n",
       "                   EndTime          type Virtual  \n",
       "1      2020-07-02 17:15:38  Consultation          \n",
       "3      2020-07-12 17:15:16  Consultation          \n",
       "5      2020-07-20 05:15:50  Consultation          \n",
       "7      2020-07-29 05:15:13  Consultation          \n",
       "9      2020-09-27 17:15:35  Consultation          \n",
       "...                    ...           ...     ...  \n",
       "439189 2023-09-30 08:30:00  Consultation   False  \n",
       "439191 2023-10-15 09:15:00  Consultation   False  \n",
       "439193 2023-10-28 08:00:00  Consultation   False  \n",
       "439195 2024-01-11 07:30:00  Consultation   False  \n",
       "521789                 NaT  Consultation          \n",
       "\n",
       "[202206 rows x 11 columns]"
      ]
     },
     "execution_count": 8,
     "metadata": {},
     "output_type": "execute_result"
    }
   ],
   "source": [
    "# checking for duplicated rows\n",
    "appointments_df[appointments_df.duplicated()]"
   ]
  },
  {
   "cell_type": "code",
   "execution_count": 9,
   "metadata": {
    "collapsed": false,
    "jupyter": {
     "outputs_hidden": false
    }
   },
   "outputs": [],
   "source": [
    "# getting the index of duplicated values\n",
    "duplicated_index = appointments_df[appointments_df.duplicated()].index"
   ]
  },
  {
   "cell_type": "code",
   "execution_count": 10,
   "metadata": {
    "collapsed": false,
    "jupyter": {
     "outputs_hidden": false
    }
   },
   "outputs": [
    {
     "name": "stdout",
     "output_type": "stream",
     "text": [
      "<class 'pandas.core.frame.DataFrame'>\n",
      "Index: 320140 entries, 0 to 522345\n",
      "Data columns (total 11 columns):\n",
      " #   Column      Non-Null Count   Dtype         \n",
      "---  ------      --------------   -----         \n",
      " 0   pxid        320140 non-null  object        \n",
      " 1   clinicid    320140 non-null  object        \n",
      " 2   doctorid    320140 non-null  object        \n",
      " 3   apptid      320140 non-null  object        \n",
      " 4   status      320140 non-null  object        \n",
      " 5   TimeQueued  320140 non-null  datetime64[ns]\n",
      " 6   QueueDate   320140 non-null  datetime64[ns]\n",
      " 7   StartTime   203608 non-null  datetime64[ns]\n",
      " 8   EndTime     60152 non-null   datetime64[ns]\n",
      " 9   type        320140 non-null  object        \n",
      " 10  Virtual     320140 non-null  object        \n",
      "dtypes: datetime64[ns](4), object(7)\n",
      "memory usage: 29.3+ MB\n"
     ]
    }
   ],
   "source": [
    "# dropping the duplicate rows\n",
    "appointments_df = appointments_df.drop(index=duplicated_index)\n",
    "appointments_df.info()"
   ]
  },
  {
   "cell_type": "code",
   "execution_count": 11,
   "metadata": {
    "collapsed": false,
    "jupyter": {
     "outputs_hidden": false
    }
   },
   "outputs": [
    {
     "data": {
      "text/html": [
       "<div>\n",
       "<style scoped>\n",
       "    .dataframe tbody tr th:only-of-type {\n",
       "        vertical-align: middle;\n",
       "    }\n",
       "\n",
       "    .dataframe tbody tr th {\n",
       "        vertical-align: top;\n",
       "    }\n",
       "\n",
       "    .dataframe thead th {\n",
       "        text-align: right;\n",
       "    }\n",
       "</style>\n",
       "<table border=\"1\" class=\"dataframe\">\n",
       "  <thead>\n",
       "    <tr style=\"text-align: right;\">\n",
       "      <th></th>\n",
       "      <th>pxid</th>\n",
       "      <th>clinicid</th>\n",
       "      <th>doctorid</th>\n",
       "      <th>apptid</th>\n",
       "      <th>status</th>\n",
       "      <th>TimeQueued</th>\n",
       "      <th>QueueDate</th>\n",
       "      <th>StartTime</th>\n",
       "      <th>EndTime</th>\n",
       "      <th>type</th>\n",
       "      <th>Virtual</th>\n",
       "    </tr>\n",
       "  </thead>\n",
       "  <tbody>\n",
       "    <tr>\n",
       "      <th>0</th>\n",
       "      <td>FE4A5D5A20EC492D2FC691F126A568AB</td>\n",
       "      <td>3B8D83483189887A2F1A39D690463A8F</td>\n",
       "      <td>ACB3A881C7CE9ABCAE0CE8C99C86A906</td>\n",
       "      <td>04BC9218E072BEEFEBEE9C97B78A35C9</td>\n",
       "      <td>Queued</td>\n",
       "      <td>2020-06-22 05:11:38</td>\n",
       "      <td>2020-07-02 16:00:00</td>\n",
       "      <td>2020-07-02 17:00:38</td>\n",
       "      <td>2020-07-02 17:15:38</td>\n",
       "      <td>Consultation</td>\n",
       "      <td></td>\n",
       "    </tr>\n",
       "    <tr>\n",
       "      <th>1</th>\n",
       "      <td>E6BC8E80685AA4A239617F196F12A0C3</td>\n",
       "      <td>3B8D83483189887A2F1A39D690463A8F</td>\n",
       "      <td>ACB3A881C7CE9ABCAE0CE8C99C86A906</td>\n",
       "      <td>F2335AAFB7EE079C7E7306591057C0C9</td>\n",
       "      <td>Queued</td>\n",
       "      <td>2020-06-26 04:51:16</td>\n",
       "      <td>2020-07-12 16:00:00</td>\n",
       "      <td>2020-07-12 17:00:16</td>\n",
       "      <td>2020-07-12 17:15:16</td>\n",
       "      <td>Consultation</td>\n",
       "      <td></td>\n",
       "    </tr>\n",
       "    <tr>\n",
       "      <th>2</th>\n",
       "      <td>E430B3D3AEED550612FFDBD0F2F94112</td>\n",
       "      <td>3B8D83483189887A2F1A39D690463A8F</td>\n",
       "      <td>ACB3A881C7CE9ABCAE0CE8C99C86A906</td>\n",
       "      <td>B2C83D6DE89A88C5CD9EA1FD5FC00602</td>\n",
       "      <td>Queued</td>\n",
       "      <td>2020-07-13 07:00:50</td>\n",
       "      <td>2020-07-19 16:00:00</td>\n",
       "      <td>2020-07-20 05:00:50</td>\n",
       "      <td>2020-07-20 05:15:50</td>\n",
       "      <td>Consultation</td>\n",
       "      <td></td>\n",
       "    </tr>\n",
       "    <tr>\n",
       "      <th>3</th>\n",
       "      <td>E6BC8E80685AA4A239617F196F12A0C3</td>\n",
       "      <td>3B8D83483189887A2F1A39D690463A8F</td>\n",
       "      <td>ACB3A881C7CE9ABCAE0CE8C99C86A906</td>\n",
       "      <td>DA4023B5A8C3F1BD540EA82552F21134</td>\n",
       "      <td>Queued</td>\n",
       "      <td>2020-07-13 06:07:14</td>\n",
       "      <td>2020-07-28 16:00:00</td>\n",
       "      <td>2020-07-29 05:00:13</td>\n",
       "      <td>2020-07-29 05:15:13</td>\n",
       "      <td>Consultation</td>\n",
       "      <td></td>\n",
       "    </tr>\n",
       "    <tr>\n",
       "      <th>4</th>\n",
       "      <td>41E3F930274A7704305EE197F3434877</td>\n",
       "      <td>3B8D83483189887A2F1A39D690463A8F</td>\n",
       "      <td>ACB3A881C7CE9ABCAE0CE8C99C86A906</td>\n",
       "      <td>C805F7992F18E33AB85CEBD572680943</td>\n",
       "      <td>Queued</td>\n",
       "      <td>2020-06-26 05:54:35</td>\n",
       "      <td>2020-09-27 16:00:00</td>\n",
       "      <td>2020-09-27 17:00:35</td>\n",
       "      <td>2020-09-27 17:15:35</td>\n",
       "      <td>Consultation</td>\n",
       "      <td></td>\n",
       "    </tr>\n",
       "  </tbody>\n",
       "</table>\n",
       "</div>"
      ],
      "text/plain": [
       "                               pxid                          clinicid  \\\n",
       "0  FE4A5D5A20EC492D2FC691F126A568AB  3B8D83483189887A2F1A39D690463A8F   \n",
       "1  E6BC8E80685AA4A239617F196F12A0C3  3B8D83483189887A2F1A39D690463A8F   \n",
       "2  E430B3D3AEED550612FFDBD0F2F94112  3B8D83483189887A2F1A39D690463A8F   \n",
       "3  E6BC8E80685AA4A239617F196F12A0C3  3B8D83483189887A2F1A39D690463A8F   \n",
       "4  41E3F930274A7704305EE197F3434877  3B8D83483189887A2F1A39D690463A8F   \n",
       "\n",
       "                           doctorid                            apptid  status  \\\n",
       "0  ACB3A881C7CE9ABCAE0CE8C99C86A906  04BC9218E072BEEFEBEE9C97B78A35C9  Queued   \n",
       "1  ACB3A881C7CE9ABCAE0CE8C99C86A906  F2335AAFB7EE079C7E7306591057C0C9  Queued   \n",
       "2  ACB3A881C7CE9ABCAE0CE8C99C86A906  B2C83D6DE89A88C5CD9EA1FD5FC00602  Queued   \n",
       "3  ACB3A881C7CE9ABCAE0CE8C99C86A906  DA4023B5A8C3F1BD540EA82552F21134  Queued   \n",
       "4  ACB3A881C7CE9ABCAE0CE8C99C86A906  C805F7992F18E33AB85CEBD572680943  Queued   \n",
       "\n",
       "           TimeQueued           QueueDate           StartTime  \\\n",
       "0 2020-06-22 05:11:38 2020-07-02 16:00:00 2020-07-02 17:00:38   \n",
       "1 2020-06-26 04:51:16 2020-07-12 16:00:00 2020-07-12 17:00:16   \n",
       "2 2020-07-13 07:00:50 2020-07-19 16:00:00 2020-07-20 05:00:50   \n",
       "3 2020-07-13 06:07:14 2020-07-28 16:00:00 2020-07-29 05:00:13   \n",
       "4 2020-06-26 05:54:35 2020-09-27 16:00:00 2020-09-27 17:00:35   \n",
       "\n",
       "              EndTime          type Virtual  \n",
       "0 2020-07-02 17:15:38  Consultation          \n",
       "1 2020-07-12 17:15:16  Consultation          \n",
       "2 2020-07-20 05:15:50  Consultation          \n",
       "3 2020-07-29 05:15:13  Consultation          \n",
       "4 2020-09-27 17:15:35  Consultation          "
      ]
     },
     "execution_count": 11,
     "metadata": {},
     "output_type": "execute_result"
    }
   ],
   "source": [
    "# resetting the index\n",
    "appointments_df.reset_index(drop=True, inplace=True)\n",
    "appointments_df.head()"
   ]
  },
  {
   "cell_type": "markdown",
   "metadata": {
    "collapsed": false,
    "jupyter": {
     "outputs_hidden": false
    }
   },
   "source": [
    "Checking for multiple representations"
   ]
  },
  {
   "cell_type": "code",
   "execution_count": 12,
   "metadata": {
    "collapsed": false,
    "jupyter": {
     "outputs_hidden": false
    }
   },
   "outputs": [
    {
     "data": {
      "text/plain": [
       "array(['Queued', 'Complete', 'Serving', 'Cancel', 'NoShow', 'Skip'],\n",
       "      dtype=object)"
      ]
     },
     "execution_count": 12,
     "metadata": {},
     "output_type": "execute_result"
    }
   ],
   "source": [
    "appointments_df['status'].unique()"
   ]
  },
  {
   "cell_type": "code",
   "execution_count": 13,
   "metadata": {
    "collapsed": false,
    "jupyter": {
     "outputs_hidden": false
    }
   },
   "outputs": [
    {
     "data": {
      "text/plain": [
       "array(['Consultation', 'Inpatient'], dtype=object)"
      ]
     },
     "execution_count": 13,
     "metadata": {},
     "output_type": "execute_result"
    }
   ],
   "source": [
    "appointments_df['type'].unique()"
   ]
  },
  {
   "cell_type": "code",
   "execution_count": 14,
   "metadata": {
    "collapsed": false,
    "jupyter": {
     "outputs_hidden": false
    }
   },
   "outputs": [
    {
     "data": {
      "text/plain": [
       "array(['', 'True', 'False'], dtype=object)"
      ]
     },
     "execution_count": 14,
     "metadata": {},
     "output_type": "execute_result"
    }
   ],
   "source": [
    "appointments_df['Virtual'].unique()"
   ]
  },
  {
   "cell_type": "markdown",
   "metadata": {
    "collapsed": false,
    "jupyter": {
     "outputs_hidden": false
    }
   },
   "source": [
    "Check for missing and default values"
   ]
  },
  {
   "cell_type": "code",
   "execution_count": 15,
   "metadata": {
    "collapsed": false,
    "jupyter": {
     "outputs_hidden": false
    }
   },
   "outputs": [
    {
     "name": "stdout",
     "output_type": "stream",
     "text": [
      "<class 'pandas.core.frame.DataFrame'>\n",
      "RangeIndex: 320140 entries, 0 to 320139\n",
      "Data columns (total 11 columns):\n",
      " #   Column      Non-Null Count   Dtype         \n",
      "---  ------      --------------   -----         \n",
      " 0   pxid        320140 non-null  object        \n",
      " 1   clinicid    320140 non-null  object        \n",
      " 2   doctorid    320140 non-null  object        \n",
      " 3   apptid      320140 non-null  object        \n",
      " 4   status      320140 non-null  object        \n",
      " 5   TimeQueued  320140 non-null  datetime64[ns]\n",
      " 6   QueueDate   320140 non-null  datetime64[ns]\n",
      " 7   StartTime   203608 non-null  datetime64[ns]\n",
      " 8   EndTime     60152 non-null   datetime64[ns]\n",
      " 9   type        320140 non-null  object        \n",
      " 10  Virtual     320140 non-null  object        \n",
      "dtypes: datetime64[ns](4), object(7)\n",
      "memory usage: 26.9+ MB\n"
     ]
    }
   ],
   "source": [
    "appointments_df.info()"
   ]
  },
  {
   "cell_type": "code",
   "execution_count": 19,
   "metadata": {
    "collapsed": false,
    "jupyter": {
     "outputs_hidden": false
    }
   },
   "outputs": [
    {
     "name": "stderr",
     "output_type": "stream",
     "text": [
      "C:\\Users\\Francis\\AppData\\Local\\Temp\\ipykernel_3812\\17297632.py:2: FutureWarning: A value is trying to be set on a copy of a DataFrame or Series through chained assignment using an inplace method.\n",
      "The behavior will change in pandas 3.0. This inplace method will never work because the intermediate object on which we are setting values always behaves as a copy.\n",
      "\n",
      "For example, when doing 'df[col].method(value, inplace=True)', try using 'df.method({col: value}, inplace=True)' or df[col] = df[col].method(value) instead, to perform the operation inplace on the original object.\n",
      "\n",
      "\n",
      "  appointments_df['Virtual'].replace(to_replace=r'^\\s*$', value=np.nan, regex=True, inplace=True)\n"
     ]
    },
    {
     "data": {
      "text/html": [
       "<div>\n",
       "<style scoped>\n",
       "    .dataframe tbody tr th:only-of-type {\n",
       "        vertical-align: middle;\n",
       "    }\n",
       "\n",
       "    .dataframe tbody tr th {\n",
       "        vertical-align: top;\n",
       "    }\n",
       "\n",
       "    .dataframe thead th {\n",
       "        text-align: right;\n",
       "    }\n",
       "</style>\n",
       "<table border=\"1\" class=\"dataframe\">\n",
       "  <thead>\n",
       "    <tr style=\"text-align: right;\">\n",
       "      <th></th>\n",
       "      <th>pxid</th>\n",
       "      <th>clinicid</th>\n",
       "      <th>doctorid</th>\n",
       "      <th>apptid</th>\n",
       "      <th>status</th>\n",
       "      <th>TimeQueued</th>\n",
       "      <th>QueueDate</th>\n",
       "      <th>StartTime</th>\n",
       "      <th>EndTime</th>\n",
       "      <th>type</th>\n",
       "      <th>Virtual</th>\n",
       "    </tr>\n",
       "  </thead>\n",
       "  <tbody>\n",
       "    <tr>\n",
       "      <th>602</th>\n",
       "      <td>A4B7F2DEFAB485D3E823EC2E2887CE8B</td>\n",
       "      <td>287ABB19DA8AADBD118443E92685853E</td>\n",
       "      <td>ACB3A881C7CE9ABCAE0CE8C99C86A906</td>\n",
       "      <td>99D860AB38428CB8A5D288083E360FE1</td>\n",
       "      <td>Complete</td>\n",
       "      <td>2023-10-24 02:10:09</td>\n",
       "      <td>2023-10-23 16:00:00</td>\n",
       "      <td>NaT</td>\n",
       "      <td>NaT</td>\n",
       "      <td>Consultation</td>\n",
       "      <td>True</td>\n",
       "    </tr>\n",
       "    <tr>\n",
       "      <th>1663</th>\n",
       "      <td>B61BB5CAA06916F0E7F095678F1160D1</td>\n",
       "      <td>BAE3529F0210CC5A603AC708BB5E7797</td>\n",
       "      <td>ACB3A881C7CE9ABCAE0CE8C99C86A906</td>\n",
       "      <td>C088134FD423E91DDD05F6F07D0F9AA1</td>\n",
       "      <td>Cancel</td>\n",
       "      <td>2022-08-18 05:49:29</td>\n",
       "      <td>2022-08-17 16:00:00</td>\n",
       "      <td>NaT</td>\n",
       "      <td>NaT</td>\n",
       "      <td>Consultation</td>\n",
       "      <td>False</td>\n",
       "    </tr>\n",
       "    <tr>\n",
       "      <th>1729</th>\n",
       "      <td>CEC712367A9D73263198E89D2740D665</td>\n",
       "      <td>40ACE1BABB133E1EA17F09932DD2E508</td>\n",
       "      <td>30A250583BC20CF070AB6C9189508FCC</td>\n",
       "      <td>B040FF3DF6C113BA3CCB67CAECD231A3</td>\n",
       "      <td>Complete</td>\n",
       "      <td>2021-09-03 06:09:09</td>\n",
       "      <td>2021-09-02 16:00:00</td>\n",
       "      <td>NaT</td>\n",
       "      <td>NaT</td>\n",
       "      <td>Consultation</td>\n",
       "      <td>NaN</td>\n",
       "    </tr>\n",
       "    <tr>\n",
       "      <th>1771</th>\n",
       "      <td>8D04D68B3704C23A6F94DEA573376BDC</td>\n",
       "      <td>40ACE1BABB133E1EA17F09932DD2E508</td>\n",
       "      <td>30A250583BC20CF070AB6C9189508FCC</td>\n",
       "      <td>925FB021CB5D93C0E5E427A1BAED89E7</td>\n",
       "      <td>Complete</td>\n",
       "      <td>2021-11-05 05:18:50</td>\n",
       "      <td>2021-11-04 16:00:00</td>\n",
       "      <td>NaT</td>\n",
       "      <td>NaT</td>\n",
       "      <td>Consultation</td>\n",
       "      <td>True</td>\n",
       "    </tr>\n",
       "    <tr>\n",
       "      <th>1784</th>\n",
       "      <td>7413080D5B545CCC89F893BE2C234430</td>\n",
       "      <td>40ACE1BABB133E1EA17F09932DD2E508</td>\n",
       "      <td>30A250583BC20CF070AB6C9189508FCC</td>\n",
       "      <td>411A4CCB538A7AE40FD06DE85141DE04</td>\n",
       "      <td>Complete</td>\n",
       "      <td>2022-01-04 03:13:46</td>\n",
       "      <td>2022-01-03 16:00:00</td>\n",
       "      <td>NaT</td>\n",
       "      <td>NaT</td>\n",
       "      <td>Consultation</td>\n",
       "      <td>False</td>\n",
       "    </tr>\n",
       "    <tr>\n",
       "      <th>...</th>\n",
       "      <td>...</td>\n",
       "      <td>...</td>\n",
       "      <td>...</td>\n",
       "      <td>...</td>\n",
       "      <td>...</td>\n",
       "      <td>...</td>\n",
       "      <td>...</td>\n",
       "      <td>...</td>\n",
       "      <td>...</td>\n",
       "      <td>...</td>\n",
       "      <td>...</td>\n",
       "    </tr>\n",
       "    <tr>\n",
       "      <th>319717</th>\n",
       "      <td>9D18F13E9682D17E9927B05AB66D1B53</td>\n",
       "      <td>B5F73D2F8C5E4AA26041EFFE5FBDF930</td>\n",
       "      <td>40F4DA34BBE180214C23B9E55DA4F772</td>\n",
       "      <td>54EAA1A67288C240F6F90AF8519A64D1</td>\n",
       "      <td>Queued</td>\n",
       "      <td>2022-01-25 09:03:19</td>\n",
       "      <td>2022-02-07 16:00:00</td>\n",
       "      <td>NaT</td>\n",
       "      <td>NaT</td>\n",
       "      <td>Consultation</td>\n",
       "      <td>True</td>\n",
       "    </tr>\n",
       "    <tr>\n",
       "      <th>319719</th>\n",
       "      <td>804BD0FC23BBAE33A9B3CDD4B0316407</td>\n",
       "      <td>B5F73D2F8C5E4AA26041EFFE5FBDF930</td>\n",
       "      <td>40F4DA34BBE180214C23B9E55DA4F772</td>\n",
       "      <td>27DE452F130F75364DA35A1118DEDA90</td>\n",
       "      <td>Complete</td>\n",
       "      <td>2022-03-26 05:27:30</td>\n",
       "      <td>2022-03-25 16:00:00</td>\n",
       "      <td>NaT</td>\n",
       "      <td>NaT</td>\n",
       "      <td>Consultation</td>\n",
       "      <td>True</td>\n",
       "    </tr>\n",
       "    <tr>\n",
       "      <th>319723</th>\n",
       "      <td>180728A1AB4FA0B7E04FD98330D7E176</td>\n",
       "      <td>B5F73D2F8C5E4AA26041EFFE5FBDF930</td>\n",
       "      <td>40F4DA34BBE180214C23B9E55DA4F772</td>\n",
       "      <td>FE98FA7C8F8E514915B48FD50B61FDF3</td>\n",
       "      <td>Complete</td>\n",
       "      <td>2022-05-16 09:32:24</td>\n",
       "      <td>2022-05-15 16:00:00</td>\n",
       "      <td>NaT</td>\n",
       "      <td>NaT</td>\n",
       "      <td>Consultation</td>\n",
       "      <td>True</td>\n",
       "    </tr>\n",
       "    <tr>\n",
       "      <th>319730</th>\n",
       "      <td>9D895E7EE02B955F12031933D3919F39</td>\n",
       "      <td>B5F73D2F8C5E4AA26041EFFE5FBDF930</td>\n",
       "      <td>40F4DA34BBE180214C23B9E55DA4F772</td>\n",
       "      <td>D6273DDDE4C6B001F69378567C414254</td>\n",
       "      <td>Queued</td>\n",
       "      <td>2024-01-13 02:35:34</td>\n",
       "      <td>2024-03-07 16:00:00</td>\n",
       "      <td>NaT</td>\n",
       "      <td>NaT</td>\n",
       "      <td>Consultation</td>\n",
       "      <td>True</td>\n",
       "    </tr>\n",
       "    <tr>\n",
       "      <th>320050</th>\n",
       "      <td>737E1BEBACD52D564B5E091B18FD4F77</td>\n",
       "      <td>4776DA547036453F71AB92AAD7C727BD</td>\n",
       "      <td>F7F07E7DAB09533BC71247A5B29A7373</td>\n",
       "      <td>99FED9BA404058DEA8180CE7F0D8E63A</td>\n",
       "      <td>NoShow</td>\n",
       "      <td>2022-07-16 01:54:00</td>\n",
       "      <td>2022-07-22 16:00:00</td>\n",
       "      <td>NaT</td>\n",
       "      <td>NaT</td>\n",
       "      <td>Consultation</td>\n",
       "      <td>False</td>\n",
       "    </tr>\n",
       "  </tbody>\n",
       "</table>\n",
       "<p>116532 rows × 11 columns</p>\n",
       "</div>"
      ],
      "text/plain": [
       "                                    pxid                          clinicid  \\\n",
       "602     A4B7F2DEFAB485D3E823EC2E2887CE8B  287ABB19DA8AADBD118443E92685853E   \n",
       "1663    B61BB5CAA06916F0E7F095678F1160D1  BAE3529F0210CC5A603AC708BB5E7797   \n",
       "1729    CEC712367A9D73263198E89D2740D665  40ACE1BABB133E1EA17F09932DD2E508   \n",
       "1771    8D04D68B3704C23A6F94DEA573376BDC  40ACE1BABB133E1EA17F09932DD2E508   \n",
       "1784    7413080D5B545CCC89F893BE2C234430  40ACE1BABB133E1EA17F09932DD2E508   \n",
       "...                                  ...                               ...   \n",
       "319717  9D18F13E9682D17E9927B05AB66D1B53  B5F73D2F8C5E4AA26041EFFE5FBDF930   \n",
       "319719  804BD0FC23BBAE33A9B3CDD4B0316407  B5F73D2F8C5E4AA26041EFFE5FBDF930   \n",
       "319723  180728A1AB4FA0B7E04FD98330D7E176  B5F73D2F8C5E4AA26041EFFE5FBDF930   \n",
       "319730  9D895E7EE02B955F12031933D3919F39  B5F73D2F8C5E4AA26041EFFE5FBDF930   \n",
       "320050  737E1BEBACD52D564B5E091B18FD4F77  4776DA547036453F71AB92AAD7C727BD   \n",
       "\n",
       "                                doctorid                            apptid  \\\n",
       "602     ACB3A881C7CE9ABCAE0CE8C99C86A906  99D860AB38428CB8A5D288083E360FE1   \n",
       "1663    ACB3A881C7CE9ABCAE0CE8C99C86A906  C088134FD423E91DDD05F6F07D0F9AA1   \n",
       "1729    30A250583BC20CF070AB6C9189508FCC  B040FF3DF6C113BA3CCB67CAECD231A3   \n",
       "1771    30A250583BC20CF070AB6C9189508FCC  925FB021CB5D93C0E5E427A1BAED89E7   \n",
       "1784    30A250583BC20CF070AB6C9189508FCC  411A4CCB538A7AE40FD06DE85141DE04   \n",
       "...                                  ...                               ...   \n",
       "319717  40F4DA34BBE180214C23B9E55DA4F772  54EAA1A67288C240F6F90AF8519A64D1   \n",
       "319719  40F4DA34BBE180214C23B9E55DA4F772  27DE452F130F75364DA35A1118DEDA90   \n",
       "319723  40F4DA34BBE180214C23B9E55DA4F772  FE98FA7C8F8E514915B48FD50B61FDF3   \n",
       "319730  40F4DA34BBE180214C23B9E55DA4F772  D6273DDDE4C6B001F69378567C414254   \n",
       "320050  F7F07E7DAB09533BC71247A5B29A7373  99FED9BA404058DEA8180CE7F0D8E63A   \n",
       "\n",
       "          status          TimeQueued           QueueDate StartTime EndTime  \\\n",
       "602     Complete 2023-10-24 02:10:09 2023-10-23 16:00:00       NaT     NaT   \n",
       "1663      Cancel 2022-08-18 05:49:29 2022-08-17 16:00:00       NaT     NaT   \n",
       "1729    Complete 2021-09-03 06:09:09 2021-09-02 16:00:00       NaT     NaT   \n",
       "1771    Complete 2021-11-05 05:18:50 2021-11-04 16:00:00       NaT     NaT   \n",
       "1784    Complete 2022-01-04 03:13:46 2022-01-03 16:00:00       NaT     NaT   \n",
       "...          ...                 ...                 ...       ...     ...   \n",
       "319717    Queued 2022-01-25 09:03:19 2022-02-07 16:00:00       NaT     NaT   \n",
       "319719  Complete 2022-03-26 05:27:30 2022-03-25 16:00:00       NaT     NaT   \n",
       "319723  Complete 2022-05-16 09:32:24 2022-05-15 16:00:00       NaT     NaT   \n",
       "319730    Queued 2024-01-13 02:35:34 2024-03-07 16:00:00       NaT     NaT   \n",
       "320050    NoShow 2022-07-16 01:54:00 2022-07-22 16:00:00       NaT     NaT   \n",
       "\n",
       "                type Virtual  \n",
       "602     Consultation    True  \n",
       "1663    Consultation   False  \n",
       "1729    Consultation     NaN  \n",
       "1771    Consultation    True  \n",
       "1784    Consultation   False  \n",
       "...              ...     ...  \n",
       "319717  Consultation    True  \n",
       "319719  Consultation    True  \n",
       "319723  Consultation    True  \n",
       "319730  Consultation    True  \n",
       "320050  Consultation   False  \n",
       "\n",
       "[116532 rows x 11 columns]"
      ]
     },
     "execution_count": 19,
     "metadata": {},
     "output_type": "execute_result"
    }
   ],
   "source": [
    "# Virtual has missing values, we must set it to nan\n",
    "appointments_df['Virtual'].replace(to_replace=r'^\\s*$', value=np.nan, regex=True, inplace=True)\n",
    "\n",
    "# StartTime and EndTime also has missing values, but they are already nan\n",
    "appointments_df[appointments_df['StartTime'].isna()]"
   ]
  },
  {
   "cell_type": "code",
   "execution_count": 20,
   "metadata": {
    "collapsed": false,
    "jupyter": {
     "outputs_hidden": false
    }
   },
   "outputs": [
    {
     "data": {
      "text/html": [
       "<div>\n",
       "<style scoped>\n",
       "    .dataframe tbody tr th:only-of-type {\n",
       "        vertical-align: middle;\n",
       "    }\n",
       "\n",
       "    .dataframe tbody tr th {\n",
       "        vertical-align: top;\n",
       "    }\n",
       "\n",
       "    .dataframe thead th {\n",
       "        text-align: right;\n",
       "    }\n",
       "</style>\n",
       "<table border=\"1\" class=\"dataframe\">\n",
       "  <thead>\n",
       "    <tr style=\"text-align: right;\">\n",
       "      <th></th>\n",
       "      <th>pxid</th>\n",
       "      <th>clinicid</th>\n",
       "      <th>doctorid</th>\n",
       "      <th>apptid</th>\n",
       "      <th>status</th>\n",
       "      <th>TimeQueued</th>\n",
       "      <th>QueueDate</th>\n",
       "      <th>StartTime</th>\n",
       "      <th>EndTime</th>\n",
       "      <th>type</th>\n",
       "      <th>Virtual</th>\n",
       "    </tr>\n",
       "  </thead>\n",
       "  <tbody>\n",
       "    <tr>\n",
       "      <th>602</th>\n",
       "      <td>A4B7F2DEFAB485D3E823EC2E2887CE8B</td>\n",
       "      <td>287ABB19DA8AADBD118443E92685853E</td>\n",
       "      <td>ACB3A881C7CE9ABCAE0CE8C99C86A906</td>\n",
       "      <td>99D860AB38428CB8A5D288083E360FE1</td>\n",
       "      <td>Complete</td>\n",
       "      <td>2023-10-24 02:10:09</td>\n",
       "      <td>2023-10-23 16:00:00</td>\n",
       "      <td>NaT</td>\n",
       "      <td>NaT</td>\n",
       "      <td>Consultation</td>\n",
       "      <td>True</td>\n",
       "    </tr>\n",
       "    <tr>\n",
       "      <th>1663</th>\n",
       "      <td>B61BB5CAA06916F0E7F095678F1160D1</td>\n",
       "      <td>BAE3529F0210CC5A603AC708BB5E7797</td>\n",
       "      <td>ACB3A881C7CE9ABCAE0CE8C99C86A906</td>\n",
       "      <td>C088134FD423E91DDD05F6F07D0F9AA1</td>\n",
       "      <td>Cancel</td>\n",
       "      <td>2022-08-18 05:49:29</td>\n",
       "      <td>2022-08-17 16:00:00</td>\n",
       "      <td>NaT</td>\n",
       "      <td>NaT</td>\n",
       "      <td>Consultation</td>\n",
       "      <td>False</td>\n",
       "    </tr>\n",
       "    <tr>\n",
       "      <th>1729</th>\n",
       "      <td>CEC712367A9D73263198E89D2740D665</td>\n",
       "      <td>40ACE1BABB133E1EA17F09932DD2E508</td>\n",
       "      <td>30A250583BC20CF070AB6C9189508FCC</td>\n",
       "      <td>B040FF3DF6C113BA3CCB67CAECD231A3</td>\n",
       "      <td>Complete</td>\n",
       "      <td>2021-09-03 06:09:09</td>\n",
       "      <td>2021-09-02 16:00:00</td>\n",
       "      <td>NaT</td>\n",
       "      <td>NaT</td>\n",
       "      <td>Consultation</td>\n",
       "      <td>NaN</td>\n",
       "    </tr>\n",
       "    <tr>\n",
       "      <th>1771</th>\n",
       "      <td>8D04D68B3704C23A6F94DEA573376BDC</td>\n",
       "      <td>40ACE1BABB133E1EA17F09932DD2E508</td>\n",
       "      <td>30A250583BC20CF070AB6C9189508FCC</td>\n",
       "      <td>925FB021CB5D93C0E5E427A1BAED89E7</td>\n",
       "      <td>Complete</td>\n",
       "      <td>2021-11-05 05:18:50</td>\n",
       "      <td>2021-11-04 16:00:00</td>\n",
       "      <td>NaT</td>\n",
       "      <td>NaT</td>\n",
       "      <td>Consultation</td>\n",
       "      <td>True</td>\n",
       "    </tr>\n",
       "    <tr>\n",
       "      <th>1784</th>\n",
       "      <td>7413080D5B545CCC89F893BE2C234430</td>\n",
       "      <td>40ACE1BABB133E1EA17F09932DD2E508</td>\n",
       "      <td>30A250583BC20CF070AB6C9189508FCC</td>\n",
       "      <td>411A4CCB538A7AE40FD06DE85141DE04</td>\n",
       "      <td>Complete</td>\n",
       "      <td>2022-01-04 03:13:46</td>\n",
       "      <td>2022-01-03 16:00:00</td>\n",
       "      <td>NaT</td>\n",
       "      <td>NaT</td>\n",
       "      <td>Consultation</td>\n",
       "      <td>False</td>\n",
       "    </tr>\n",
       "    <tr>\n",
       "      <th>...</th>\n",
       "      <td>...</td>\n",
       "      <td>...</td>\n",
       "      <td>...</td>\n",
       "      <td>...</td>\n",
       "      <td>...</td>\n",
       "      <td>...</td>\n",
       "      <td>...</td>\n",
       "      <td>...</td>\n",
       "      <td>...</td>\n",
       "      <td>...</td>\n",
       "      <td>...</td>\n",
       "    </tr>\n",
       "    <tr>\n",
       "      <th>319723</th>\n",
       "      <td>180728A1AB4FA0B7E04FD98330D7E176</td>\n",
       "      <td>B5F73D2F8C5E4AA26041EFFE5FBDF930</td>\n",
       "      <td>40F4DA34BBE180214C23B9E55DA4F772</td>\n",
       "      <td>FE98FA7C8F8E514915B48FD50B61FDF3</td>\n",
       "      <td>Complete</td>\n",
       "      <td>2022-05-16 09:32:24</td>\n",
       "      <td>2022-05-15 16:00:00</td>\n",
       "      <td>NaT</td>\n",
       "      <td>NaT</td>\n",
       "      <td>Consultation</td>\n",
       "      <td>True</td>\n",
       "    </tr>\n",
       "    <tr>\n",
       "      <th>319730</th>\n",
       "      <td>9D895E7EE02B955F12031933D3919F39</td>\n",
       "      <td>B5F73D2F8C5E4AA26041EFFE5FBDF930</td>\n",
       "      <td>40F4DA34BBE180214C23B9E55DA4F772</td>\n",
       "      <td>D6273DDDE4C6B001F69378567C414254</td>\n",
       "      <td>Queued</td>\n",
       "      <td>2024-01-13 02:35:34</td>\n",
       "      <td>2024-03-07 16:00:00</td>\n",
       "      <td>NaT</td>\n",
       "      <td>NaT</td>\n",
       "      <td>Consultation</td>\n",
       "      <td>True</td>\n",
       "    </tr>\n",
       "    <tr>\n",
       "      <th>319731</th>\n",
       "      <td>DA6746BB79186CDBA25FB834A37E2CCF</td>\n",
       "      <td>4776DA547036453F71AB92AAD7C727BD</td>\n",
       "      <td>F7F07E7DAB09533BC71247A5B29A7373</td>\n",
       "      <td>7125DEE97DCE77AAE68AED4C6C36B8A2</td>\n",
       "      <td>Queued</td>\n",
       "      <td>2020-05-22 03:58:06</td>\n",
       "      <td>2020-05-21 16:00:00</td>\n",
       "      <td>2020-05-22 03:57:05</td>\n",
       "      <td>NaT</td>\n",
       "      <td>Inpatient</td>\n",
       "      <td>NaN</td>\n",
       "    </tr>\n",
       "    <tr>\n",
       "      <th>320050</th>\n",
       "      <td>737E1BEBACD52D564B5E091B18FD4F77</td>\n",
       "      <td>4776DA547036453F71AB92AAD7C727BD</td>\n",
       "      <td>F7F07E7DAB09533BC71247A5B29A7373</td>\n",
       "      <td>99FED9BA404058DEA8180CE7F0D8E63A</td>\n",
       "      <td>NoShow</td>\n",
       "      <td>2022-07-16 01:54:00</td>\n",
       "      <td>2022-07-22 16:00:00</td>\n",
       "      <td>NaT</td>\n",
       "      <td>NaT</td>\n",
       "      <td>Consultation</td>\n",
       "      <td>False</td>\n",
       "    </tr>\n",
       "    <tr>\n",
       "      <th>320093</th>\n",
       "      <td>C565D94FB9DE87B8CC67C6B0BE3AB04F</td>\n",
       "      <td>D05AEBFECC37280437B02591573D6E03</td>\n",
       "      <td>F7F07E7DAB09533BC71247A5B29A7373</td>\n",
       "      <td>3B786779488E0E6E0FF1C5E478E34C92</td>\n",
       "      <td>Serving</td>\n",
       "      <td>2020-11-20 02:48:40</td>\n",
       "      <td>2020-11-20 16:00:00</td>\n",
       "      <td>2020-11-21 02:00:00</td>\n",
       "      <td>NaT</td>\n",
       "      <td>Consultation</td>\n",
       "      <td>False</td>\n",
       "    </tr>\n",
       "  </tbody>\n",
       "</table>\n",
       "<p>259988 rows × 11 columns</p>\n",
       "</div>"
      ],
      "text/plain": [
       "                                    pxid                          clinicid  \\\n",
       "602     A4B7F2DEFAB485D3E823EC2E2887CE8B  287ABB19DA8AADBD118443E92685853E   \n",
       "1663    B61BB5CAA06916F0E7F095678F1160D1  BAE3529F0210CC5A603AC708BB5E7797   \n",
       "1729    CEC712367A9D73263198E89D2740D665  40ACE1BABB133E1EA17F09932DD2E508   \n",
       "1771    8D04D68B3704C23A6F94DEA573376BDC  40ACE1BABB133E1EA17F09932DD2E508   \n",
       "1784    7413080D5B545CCC89F893BE2C234430  40ACE1BABB133E1EA17F09932DD2E508   \n",
       "...                                  ...                               ...   \n",
       "319723  180728A1AB4FA0B7E04FD98330D7E176  B5F73D2F8C5E4AA26041EFFE5FBDF930   \n",
       "319730  9D895E7EE02B955F12031933D3919F39  B5F73D2F8C5E4AA26041EFFE5FBDF930   \n",
       "319731  DA6746BB79186CDBA25FB834A37E2CCF  4776DA547036453F71AB92AAD7C727BD   \n",
       "320050  737E1BEBACD52D564B5E091B18FD4F77  4776DA547036453F71AB92AAD7C727BD   \n",
       "320093  C565D94FB9DE87B8CC67C6B0BE3AB04F  D05AEBFECC37280437B02591573D6E03   \n",
       "\n",
       "                                doctorid                            apptid  \\\n",
       "602     ACB3A881C7CE9ABCAE0CE8C99C86A906  99D860AB38428CB8A5D288083E360FE1   \n",
       "1663    ACB3A881C7CE9ABCAE0CE8C99C86A906  C088134FD423E91DDD05F6F07D0F9AA1   \n",
       "1729    30A250583BC20CF070AB6C9189508FCC  B040FF3DF6C113BA3CCB67CAECD231A3   \n",
       "1771    30A250583BC20CF070AB6C9189508FCC  925FB021CB5D93C0E5E427A1BAED89E7   \n",
       "1784    30A250583BC20CF070AB6C9189508FCC  411A4CCB538A7AE40FD06DE85141DE04   \n",
       "...                                  ...                               ...   \n",
       "319723  40F4DA34BBE180214C23B9E55DA4F772  FE98FA7C8F8E514915B48FD50B61FDF3   \n",
       "319730  40F4DA34BBE180214C23B9E55DA4F772  D6273DDDE4C6B001F69378567C414254   \n",
       "319731  F7F07E7DAB09533BC71247A5B29A7373  7125DEE97DCE77AAE68AED4C6C36B8A2   \n",
       "320050  F7F07E7DAB09533BC71247A5B29A7373  99FED9BA404058DEA8180CE7F0D8E63A   \n",
       "320093  F7F07E7DAB09533BC71247A5B29A7373  3B786779488E0E6E0FF1C5E478E34C92   \n",
       "\n",
       "          status          TimeQueued           QueueDate           StartTime  \\\n",
       "602     Complete 2023-10-24 02:10:09 2023-10-23 16:00:00                 NaT   \n",
       "1663      Cancel 2022-08-18 05:49:29 2022-08-17 16:00:00                 NaT   \n",
       "1729    Complete 2021-09-03 06:09:09 2021-09-02 16:00:00                 NaT   \n",
       "1771    Complete 2021-11-05 05:18:50 2021-11-04 16:00:00                 NaT   \n",
       "1784    Complete 2022-01-04 03:13:46 2022-01-03 16:00:00                 NaT   \n",
       "...          ...                 ...                 ...                 ...   \n",
       "319723  Complete 2022-05-16 09:32:24 2022-05-15 16:00:00                 NaT   \n",
       "319730    Queued 2024-01-13 02:35:34 2024-03-07 16:00:00                 NaT   \n",
       "319731    Queued 2020-05-22 03:58:06 2020-05-21 16:00:00 2020-05-22 03:57:05   \n",
       "320050    NoShow 2022-07-16 01:54:00 2022-07-22 16:00:00                 NaT   \n",
       "320093   Serving 2020-11-20 02:48:40 2020-11-20 16:00:00 2020-11-21 02:00:00   \n",
       "\n",
       "       EndTime          type Virtual  \n",
       "602        NaT  Consultation    True  \n",
       "1663       NaT  Consultation   False  \n",
       "1729       NaT  Consultation     NaN  \n",
       "1771       NaT  Consultation    True  \n",
       "1784       NaT  Consultation   False  \n",
       "...        ...           ...     ...  \n",
       "319723     NaT  Consultation    True  \n",
       "319730     NaT  Consultation    True  \n",
       "319731     NaT     Inpatient     NaN  \n",
       "320050     NaT  Consultation   False  \n",
       "320093     NaT  Consultation   False  \n",
       "\n",
       "[259988 rows x 11 columns]"
      ]
     },
     "execution_count": 20,
     "metadata": {},
     "output_type": "execute_result"
    }
   ],
   "source": [
    "appointments_df[appointments_df['EndTime'].isna()]\n",
    "\n",
    "# I will do nothing as there is nothing that I can do"
   ]
  },
  {
   "cell_type": "markdown",
   "metadata": {
    "collapsed": false,
    "jupyter": {
     "outputs_hidden": false
    }
   },
   "source": [
    "Checking for inconsistent format"
   ]
  },
  {
   "cell_type": "code",
   "execution_count": 21,
   "metadata": {
    "collapsed": false,
    "jupyter": {
     "outputs_hidden": false
    }
   },
   "outputs": [
    {
     "data": {
      "text/plain": [
       "<DatetimeArray>\n",
       "['NaT']\n",
       "Length: 1, dtype: datetime64[ns]"
      ]
     },
     "execution_count": 21,
     "metadata": {},
     "output_type": "execute_result"
    }
   ],
   "source": [
    "list_of_valid_format_starttime = appointments_df['StartTime'].astype(str).str.match(r'^\\d{4}-\\d{2}-\\d{2} \\d{2}:\\d{2}:\\d{2}$')\n",
    "appointments_df[~list_of_valid_format_starttime]['StartTime'].unique()"
   ]
  },
  {
   "cell_type": "code",
   "execution_count": 22,
   "metadata": {
    "collapsed": false,
    "jupyter": {
     "outputs_hidden": false
    }
   },
   "outputs": [
    {
     "data": {
      "text/plain": [
       "<DatetimeArray>\n",
       "['NaT']\n",
       "Length: 1, dtype: datetime64[ns]"
      ]
     },
     "execution_count": 22,
     "metadata": {},
     "output_type": "execute_result"
    }
   ],
   "source": [
    "list_of_valid_format_endtime = appointments_df['EndTime'].astype(str).str.match(r'^\\d{4}-\\d{2}-\\d{2} \\d{2}:\\d{2}:\\d{2}$')\n",
    "appointments_df[~list_of_valid_format_endtime]['EndTime'].unique()\n",
    "\n",
    "# Besides NaT, there are no other strings that violates the yyyy-MM-dd HH-mm-ss format"
   ]
  },
  {
   "cell_type": "markdown",
   "metadata": {
    "collapsed": false,
    "jupyter": {
     "outputs_hidden": false
    }
   },
   "source": [
    "Since the appointments will be the fact table, this will be loaded directly to the date warehouse."
   ]
  },
  {
   "cell_type": "markdown",
   "metadata": {
    "collapsed": false,
    "jupyter": {
     "outputs_hidden": false
    }
   },
   "source": [
    "Renaming columns to follow database model"
   ]
  },
  {
   "cell_type": "code",
   "execution_count": 23,
   "metadata": {
    "collapsed": false,
    "jupyter": {
     "outputs_hidden": false
    }
   },
   "outputs": [
    {
     "name": "stdout",
     "output_type": "stream",
     "text": [
      "<class 'pandas.core.frame.DataFrame'>\n",
      "RangeIndex: 320140 entries, 0 to 320139\n",
      "Data columns (total 11 columns):\n",
      " #   Column      Non-Null Count   Dtype         \n",
      "---  ------      --------------   -----         \n",
      " 0   pxid        320140 non-null  object        \n",
      " 1   clinicid    320140 non-null  object        \n",
      " 2   doctorid    320140 non-null  object        \n",
      " 3   apptid      320140 non-null  object        \n",
      " 4   status      320140 non-null  object        \n",
      " 5   TimeQueued  320140 non-null  datetime64[ns]\n",
      " 6   QueueDate   320140 non-null  datetime64[ns]\n",
      " 7   StartTime   203608 non-null  datetime64[ns]\n",
      " 8   EndTime     60152 non-null   datetime64[ns]\n",
      " 9   type        320140 non-null  object        \n",
      " 10  Virtual     130004 non-null  object        \n",
      "dtypes: datetime64[ns](4), object(7)\n",
      "memory usage: 26.9+ MB\n"
     ]
    }
   ],
   "source": [
    "appointments_df.info()"
   ]
  },
  {
   "cell_type": "code",
   "execution_count": 24,
   "metadata": {
    "collapsed": false,
    "jupyter": {
     "outputs_hidden": false
    }
   },
   "outputs": [],
   "source": [
    "appointments_df.rename(\n",
    "    columns={\n",
    "        'pxid': 'pxID',\n",
    "        'clinicid': 'clinicID',\n",
    "        'doctorid': 'doctorID',\n",
    "        'apptid': 'apptID',\n",
    "        'TimeQueued': 'timequeued',\n",
    "        'QueueDate': 'queuedate',\n",
    "        'StartTime': 'starttime',\n",
    "        'EndTime': 'endtime',\n",
    "        'Virtual': 'virtual'\n",
    "    },\n",
    "    copy=False,\n",
    "    inplace=True,\n",
    "    errors='raise'\n",
    ")"
   ]
  },
  {
   "cell_type": "code",
   "execution_count": 25,
   "metadata": {
    "collapsed": false,
    "jupyter": {
     "outputs_hidden": false
    }
   },
   "outputs": [
    {
     "name": "stdout",
     "output_type": "stream",
     "text": [
      "<class 'pandas.core.frame.DataFrame'>\n",
      "RangeIndex: 320140 entries, 0 to 320139\n",
      "Data columns (total 11 columns):\n",
      " #   Column      Non-Null Count   Dtype         \n",
      "---  ------      --------------   -----         \n",
      " 0   pxID        320140 non-null  object        \n",
      " 1   clinicID    320140 non-null  object        \n",
      " 2   doctorID    320140 non-null  object        \n",
      " 3   apptID      320140 non-null  object        \n",
      " 4   status      320140 non-null  object        \n",
      " 5   timequeued  320140 non-null  datetime64[ns]\n",
      " 6   queuedate   320140 non-null  datetime64[ns]\n",
      " 7   starttime   203608 non-null  datetime64[ns]\n",
      " 8   endtime     60152 non-null   datetime64[ns]\n",
      " 9   type        320140 non-null  object        \n",
      " 10  virtual     130004 non-null  object        \n",
      "dtypes: datetime64[ns](4), object(7)\n",
      "memory usage: 26.9+ MB\n"
     ]
    }
   ],
   "source": [
    "appointments_df.info()"
   ]
  },
  {
   "cell_type": "code",
   "execution_count": 26,
   "metadata": {
    "collapsed": false,
    "jupyter": {
     "outputs_hidden": false
    }
   },
   "outputs": [],
   "source": [
    "# Prepareing data type\n",
    "class TypeEnum(Enum):\n",
    "    Inpatient = 'Inpatient'\n",
    "    Consultation = 'Consultation'\n",
    "\n",
    "class StatusEnum(Enum):\n",
    "    Queued = 'Queued'\n",
    "    Complete = 'Complete'\n",
    "    Serving = 'Serving'\n",
    "    Cancel = 'Cancel'\n",
    "    NoShow = 'NoShow'\n",
    "    Skip = 'Skip'"
   ]
  },
  {
   "cell_type": "code",
   "execution_count": 27,
   "metadata": {
    "collapsed": false,
    "jupyter": {
     "outputs_hidden": false
    }
   },
   "outputs": [],
   "source": [
    "# transforming true or false to python true or false\n",
    "appointments_df['virtual'] = appointments_df['virtual'].map({'True': True, 'False': False}, na_action='ignore')"
   ]
  },
  {
   "cell_type": "code",
   "execution_count": 28,
   "metadata": {
    "collapsed": false,
    "jupyter": {
     "outputs_hidden": false
    }
   },
   "outputs": [
    {
     "ename": "IntegrityError",
     "evalue": "(MySQLdb.IntegrityError) (1452, 'Cannot add or update a child row: a foreign key constraint fails (`mdwarehouse`.`fact_appointment`, CONSTRAINT `clinicID_FK` FOREIGN KEY (`clinicID`) REFERENCES `dim_clinic` (`clinicID`))')\n[SQL: INSERT INTO fact_appointment (`pxID`, `clinicID`, `doctorID`, `apptID`, status, timequeued, queuedate, starttime, endtime, type, `virtual`) VALUES (%s, %s, %s, %s, %s, %s, %s, %s, %s, %s, %s)]\n[parameters: [('FE4A5D5A20EC492D2FC691F126A568AB', '3B8D83483189887A2F1A39D690463A8F', 'ACB3A881C7CE9ABCAE0CE8C99C86A906', '04BC9218E072BEEFEBEE9C97B78A35C9', 'Queued', datetime.datetime(2020, 6, 22, 5, 11, 38), datetime.datetime(2020, 7, 2, 16, 0), datetime.datetime(2020, 7, 2, 17, 0, 38), datetime.datetime(2020, 7, 2, 17, 15, 38), 'Consultation', None), ('E6BC8E80685AA4A239617F196F12A0C3', '3B8D83483189887A2F1A39D690463A8F', 'ACB3A881C7CE9ABCAE0CE8C99C86A906', 'F2335AAFB7EE079C7E7306591057C0C9', 'Queued', datetime.datetime(2020, 6, 26, 4, 51, 16), datetime.datetime(2020, 7, 12, 16, 0), datetime.datetime(2020, 7, 12, 17, 0, 16), datetime.datetime(2020, 7, 12, 17, 15, 16), 'Consultation', None), ('E430B3D3AEED550612FFDBD0F2F94112', '3B8D83483189887A2F1A39D690463A8F', 'ACB3A881C7CE9ABCAE0CE8C99C86A906', 'B2C83D6DE89A88C5CD9EA1FD5FC00602', 'Queued', datetime.datetime(2020, 7, 13, 7, 0, 50), datetime.datetime(2020, 7, 19, 16, 0), datetime.datetime(2020, 7, 20, 5, 0, 50), datetime.datetime(2020, 7, 20, 5, 15, 50), 'Consultation', None), ('E6BC8E80685AA4A239617F196F12A0C3', '3B8D83483189887A2F1A39D690463A8F', 'ACB3A881C7CE9ABCAE0CE8C99C86A906', 'DA4023B5A8C3F1BD540EA82552F21134', 'Queued', datetime.datetime(2020, 7, 13, 6, 7, 14), datetime.datetime(2020, 7, 28, 16, 0), datetime.datetime(2020, 7, 29, 5, 0, 13), datetime.datetime(2020, 7, 29, 5, 15, 13), 'Consultation', None), ('41E3F930274A7704305EE197F3434877', '3B8D83483189887A2F1A39D690463A8F', 'ACB3A881C7CE9ABCAE0CE8C99C86A906', 'C805F7992F18E33AB85CEBD572680943', 'Queued', datetime.datetime(2020, 6, 26, 5, 54, 35), datetime.datetime(2020, 9, 27, 16, 0), datetime.datetime(2020, 9, 27, 17, 0, 35), datetime.datetime(2020, 9, 27, 17, 15, 35), 'Consultation', None), ('696B1DBC02065B388F51E2D4B1C1E14E', '3B8D83483189887A2F1A39D690463A8F', 'ACB3A881C7CE9ABCAE0CE8C99C86A906', '6E1E32BC8FD1A7B83E1BD476628647AB', 'Queued', datetime.datetime(2020, 6, 17, 5, 28, 48), datetime.datetime(2020, 12, 1, 16, 0), datetime.datetime(2020, 12, 2, 5, 0, 46), datetime.datetime(2020, 12, 2, 5, 15, 46), 'Consultation', None), ('C2A1A2899A43ECE5781B6D2186077BBB', '3B8D83483189887A2F1A39D690463A8F', 'ACB3A881C7CE9ABCAE0CE8C99C86A906', 'EE390D094FB37A4C53A9C23BAF6A349C', 'Queued', datetime.datetime(2020, 6, 22, 5, 22, 13), datetime.datetime(2020, 12, 3, 16, 0), datetime.datetime(2020, 12, 3, 17, 0, 13), datetime.datetime(2020, 12, 3, 17, 15, 13), 'Consultation', None), ('441F9A8E62AA75E437635DBE362C649C', '3B8D83483189887A2F1A39D690463A8F', 'ACB3A881C7CE9ABCAE0CE8C99C86A906', '6E22B1E817DB43EDB211D186660D81DC', 'Queued', datetime.datetime(2022, 5, 4, 5, 7, 29), datetime.datetime(2022, 5, 23, 16, 0), datetime.datetime(2022, 5, 24, 8, 30), datetime.datetime(2022, 5, 24, 8, 45), 'Consultation', 1)  ... displaying 10 of 100 total bound parameter sets ...  ('E181F837A7F5701CC5537781E94D3537', '287ABB19DA8AADBD118443E92685853E', 'ACB3A881C7CE9ABCAE0CE8C99C86A906', '39250431EA8C0D7384AD60C9534AB386', 'Complete', datetime.datetime(2020, 11, 22, 10, 37, 27), datetime.datetime(2020, 11, 23, 16, 0), datetime.datetime(2020, 11, 24, 1, 45), datetime.datetime(2020, 11, 24, 2, 0), 'Consultation', 0), ('276BBC91182D1B6924ACDA861C146B07', '287ABB19DA8AADBD118443E92685853E', 'ACB3A881C7CE9ABCAE0CE8C99C86A906', '2CB9F1DD9BBB54D6AF9CE2607772934C', 'Complete', datetime.datetime(2020, 11, 23, 23, 47), datetime.datetime(2020, 11, 23, 16, 0), datetime.datetime(2020, 11, 24, 2, 45), datetime.datetime(2020, 11, 24, 3, 0), 'Consultation', 1)]]\n(Background on this error at: https://sqlalche.me/e/20/gkpj)",
     "output_type": "error",
     "traceback": [
      "\u001b[1;31m---------------------------------------------------------------------------\u001b[0m",
      "\u001b[1;31mIntegrityError\u001b[0m                            Traceback (most recent call last)",
      "File \u001b[1;32m~\\Desktop\\smd-ns-appointments\\Prep\\test\\venv\\Lib\\site-packages\\sqlalchemy\\engine\\base.py:1929\u001b[0m, in \u001b[0;36mConnection._exec_single_context\u001b[1;34m(self, dialect, context, statement, parameters)\u001b[0m\n\u001b[0;32m   1928\u001b[0m     \u001b[38;5;28;01mif\u001b[39;00m \u001b[38;5;129;01mnot\u001b[39;00m evt_handled:\n\u001b[1;32m-> 1929\u001b[0m         \u001b[38;5;28;43mself\u001b[39;49m\u001b[38;5;241;43m.\u001b[39;49m\u001b[43mdialect\u001b[49m\u001b[38;5;241;43m.\u001b[39;49m\u001b[43mdo_executemany\u001b[49m\u001b[43m(\u001b[49m\n\u001b[0;32m   1930\u001b[0m \u001b[43m            \u001b[49m\u001b[43mcursor\u001b[49m\u001b[43m,\u001b[49m\n\u001b[0;32m   1931\u001b[0m \u001b[43m            \u001b[49m\u001b[43mstr_statement\u001b[49m\u001b[43m,\u001b[49m\n\u001b[0;32m   1932\u001b[0m \u001b[43m            \u001b[49m\u001b[43meffective_parameters\u001b[49m\u001b[43m,\u001b[49m\n\u001b[0;32m   1933\u001b[0m \u001b[43m            \u001b[49m\u001b[43mcontext\u001b[49m\u001b[43m,\u001b[49m\n\u001b[0;32m   1934\u001b[0m \u001b[43m        \u001b[49m\u001b[43m)\u001b[49m\n\u001b[0;32m   1935\u001b[0m \u001b[38;5;28;01melif\u001b[39;00m \u001b[38;5;129;01mnot\u001b[39;00m effective_parameters \u001b[38;5;129;01mand\u001b[39;00m context\u001b[38;5;241m.\u001b[39mno_parameters:\n",
      "File \u001b[1;32m~\\Desktop\\smd-ns-appointments\\Prep\\test\\venv\\Lib\\site-packages\\sqlalchemy\\dialects\\mysql\\mysqldb.py:175\u001b[0m, in \u001b[0;36mMySQLDialect_mysqldb.do_executemany\u001b[1;34m(self, cursor, statement, parameters, context)\u001b[0m\n\u001b[0;32m    174\u001b[0m \u001b[38;5;28;01mdef\u001b[39;00m \u001b[38;5;21mdo_executemany\u001b[39m(\u001b[38;5;28mself\u001b[39m, cursor, statement, parameters, context\u001b[38;5;241m=\u001b[39m\u001b[38;5;28;01mNone\u001b[39;00m):\n\u001b[1;32m--> 175\u001b[0m     rowcount \u001b[38;5;241m=\u001b[39m \u001b[43mcursor\u001b[49m\u001b[38;5;241;43m.\u001b[39;49m\u001b[43mexecutemany\u001b[49m\u001b[43m(\u001b[49m\u001b[43mstatement\u001b[49m\u001b[43m,\u001b[49m\u001b[43m \u001b[49m\u001b[43mparameters\u001b[49m\u001b[43m)\u001b[49m\n\u001b[0;32m    176\u001b[0m     \u001b[38;5;28;01mif\u001b[39;00m context \u001b[38;5;129;01mis\u001b[39;00m \u001b[38;5;129;01mnot\u001b[39;00m \u001b[38;5;28;01mNone\u001b[39;00m:\n",
      "File \u001b[1;32m~\\Desktop\\smd-ns-appointments\\Prep\\test\\venv\\Lib\\site-packages\\MySQLdb\\cursors.py:241\u001b[0m, in \u001b[0;36mBaseCursor.executemany\u001b[1;34m(self, query, args)\u001b[0m\n\u001b[0;32m    240\u001b[0m     \u001b[38;5;28;01massert\u001b[39;00m q_values[\u001b[38;5;241m0\u001b[39m] \u001b[38;5;241m==\u001b[39m \u001b[38;5;124m\"\u001b[39m\u001b[38;5;124m(\u001b[39m\u001b[38;5;124m\"\u001b[39m \u001b[38;5;129;01mand\u001b[39;00m q_values[\u001b[38;5;241m-\u001b[39m\u001b[38;5;241m1\u001b[39m] \u001b[38;5;241m==\u001b[39m \u001b[38;5;124m\"\u001b[39m\u001b[38;5;124m)\u001b[39m\u001b[38;5;124m\"\u001b[39m\n\u001b[1;32m--> 241\u001b[0m     \u001b[38;5;28;01mreturn\u001b[39;00m \u001b[38;5;28;43mself\u001b[39;49m\u001b[38;5;241;43m.\u001b[39;49m\u001b[43m_do_execute_many\u001b[49m\u001b[43m(\u001b[49m\n\u001b[0;32m    242\u001b[0m \u001b[43m        \u001b[49m\u001b[43mq_prefix\u001b[49m\u001b[43m,\u001b[49m\n\u001b[0;32m    243\u001b[0m \u001b[43m        \u001b[49m\u001b[43mq_values\u001b[49m\u001b[43m,\u001b[49m\n\u001b[0;32m    244\u001b[0m \u001b[43m        \u001b[49m\u001b[43mq_postfix\u001b[49m\u001b[43m,\u001b[49m\n\u001b[0;32m    245\u001b[0m \u001b[43m        \u001b[49m\u001b[43margs\u001b[49m\u001b[43m,\u001b[49m\n\u001b[0;32m    246\u001b[0m \u001b[43m        \u001b[49m\u001b[38;5;28;43mself\u001b[39;49m\u001b[38;5;241;43m.\u001b[39;49m\u001b[43mmax_stmt_length\u001b[49m\u001b[43m,\u001b[49m\n\u001b[0;32m    247\u001b[0m \u001b[43m        \u001b[49m\u001b[38;5;28;43mself\u001b[39;49m\u001b[38;5;241;43m.\u001b[39;49m\u001b[43m_get_db\u001b[49m\u001b[43m(\u001b[49m\u001b[43m)\u001b[49m\u001b[38;5;241;43m.\u001b[39;49m\u001b[43mencoding\u001b[49m\u001b[43m,\u001b[49m\n\u001b[0;32m    248\u001b[0m \u001b[43m    \u001b[49m\u001b[43m)\u001b[49m\n\u001b[0;32m    250\u001b[0m \u001b[38;5;28mself\u001b[39m\u001b[38;5;241m.\u001b[39mrowcount \u001b[38;5;241m=\u001b[39m \u001b[38;5;28msum\u001b[39m(\u001b[38;5;28mself\u001b[39m\u001b[38;5;241m.\u001b[39mexecute(query, arg) \u001b[38;5;28;01mfor\u001b[39;00m arg \u001b[38;5;129;01min\u001b[39;00m args)\n",
      "File \u001b[1;32m~\\Desktop\\smd-ns-appointments\\Prep\\test\\venv\\Lib\\site-packages\\MySQLdb\\cursors.py:275\u001b[0m, in \u001b[0;36mBaseCursor._do_execute_many\u001b[1;34m(self, prefix, values, postfix, args, max_stmt_length, encoding)\u001b[0m\n\u001b[0;32m    274\u001b[0m     sql \u001b[38;5;241m+\u001b[39m\u001b[38;5;241m=\u001b[39m v\n\u001b[1;32m--> 275\u001b[0m rows \u001b[38;5;241m+\u001b[39m\u001b[38;5;241m=\u001b[39m \u001b[38;5;28;43mself\u001b[39;49m\u001b[38;5;241;43m.\u001b[39;49m\u001b[43mexecute\u001b[49m\u001b[43m(\u001b[49m\u001b[43msql\u001b[49m\u001b[43m \u001b[49m\u001b[38;5;241;43m+\u001b[39;49m\u001b[43m \u001b[49m\u001b[43mpostfix\u001b[49m\u001b[43m)\u001b[49m\n\u001b[0;32m    276\u001b[0m \u001b[38;5;28mself\u001b[39m\u001b[38;5;241m.\u001b[39mrowcount \u001b[38;5;241m=\u001b[39m rows\n",
      "File \u001b[1;32m~\\Desktop\\smd-ns-appointments\\Prep\\test\\venv\\Lib\\site-packages\\MySQLdb\\cursors.py:179\u001b[0m, in \u001b[0;36mBaseCursor.execute\u001b[1;34m(self, query, args)\u001b[0m\n\u001b[0;32m    178\u001b[0m \u001b[38;5;28;01massert\u001b[39;00m \u001b[38;5;28misinstance\u001b[39m(mogrified_query, (\u001b[38;5;28mbytes\u001b[39m, \u001b[38;5;28mbytearray\u001b[39m))\n\u001b[1;32m--> 179\u001b[0m res \u001b[38;5;241m=\u001b[39m \u001b[38;5;28;43mself\u001b[39;49m\u001b[38;5;241;43m.\u001b[39;49m\u001b[43m_query\u001b[49m\u001b[43m(\u001b[49m\u001b[43mmogrified_query\u001b[49m\u001b[43m)\u001b[49m\n\u001b[0;32m    180\u001b[0m \u001b[38;5;28;01mreturn\u001b[39;00m res\n",
      "File \u001b[1;32m~\\Desktop\\smd-ns-appointments\\Prep\\test\\venv\\Lib\\site-packages\\MySQLdb\\cursors.py:330\u001b[0m, in \u001b[0;36mBaseCursor._query\u001b[1;34m(self, q)\u001b[0m\n\u001b[0;32m    329\u001b[0m \u001b[38;5;28mself\u001b[39m\u001b[38;5;241m.\u001b[39mlastrowid \u001b[38;5;241m=\u001b[39m \u001b[38;5;28;01mNone\u001b[39;00m\n\u001b[1;32m--> 330\u001b[0m \u001b[43mdb\u001b[49m\u001b[38;5;241;43m.\u001b[39;49m\u001b[43mquery\u001b[49m\u001b[43m(\u001b[49m\u001b[43mq\u001b[49m\u001b[43m)\u001b[49m\n\u001b[0;32m    331\u001b[0m \u001b[38;5;28mself\u001b[39m\u001b[38;5;241m.\u001b[39m_do_get_result(db)\n",
      "File \u001b[1;32m~\\Desktop\\smd-ns-appointments\\Prep\\test\\venv\\Lib\\site-packages\\MySQLdb\\connections.py:261\u001b[0m, in \u001b[0;36mConnection.query\u001b[1;34m(self, query)\u001b[0m\n\u001b[0;32m    260\u001b[0m     query \u001b[38;5;241m=\u001b[39m \u001b[38;5;28mbytes\u001b[39m(query)\n\u001b[1;32m--> 261\u001b[0m \u001b[43m_mysql\u001b[49m\u001b[38;5;241;43m.\u001b[39;49m\u001b[43mconnection\u001b[49m\u001b[38;5;241;43m.\u001b[39;49m\u001b[43mquery\u001b[49m\u001b[43m(\u001b[49m\u001b[38;5;28;43mself\u001b[39;49m\u001b[43m,\u001b[49m\u001b[43m \u001b[49m\u001b[43mquery\u001b[49m\u001b[43m)\u001b[49m\n",
      "\u001b[1;31mIntegrityError\u001b[0m: (1452, 'Cannot add or update a child row: a foreign key constraint fails (`mdwarehouse`.`fact_appointment`, CONSTRAINT `clinicID_FK` FOREIGN KEY (`clinicID`) REFERENCES `dim_clinic` (`clinicID`))')",
      "\nThe above exception was the direct cause of the following exception:\n",
      "\u001b[1;31mIntegrityError\u001b[0m                            Traceback (most recent call last)",
      "Cell \u001b[1;32mIn[28], line 4\u001b[0m\n\u001b[0;32m      1\u001b[0m \u001b[38;5;66;03m# sending dataframe to sql table\u001b[39;00m\n\u001b[0;32m      2\u001b[0m mdwarehouse_conn \u001b[38;5;241m=\u001b[39m MySqlEngineDW\u001b[38;5;241m.\u001b[39mconnect()\n\u001b[1;32m----> 4\u001b[0m rows_affected \u001b[38;5;241m=\u001b[39m \u001b[43mappointments_df\u001b[49m\u001b[38;5;241;43m.\u001b[39;49m\u001b[43mhead\u001b[49m\u001b[43m(\u001b[49m\u001b[38;5;241;43m100\u001b[39;49m\u001b[43m)\u001b[49m\u001b[38;5;241;43m.\u001b[39;49m\u001b[43mto_sql\u001b[49m\u001b[43m(\u001b[49m\n\u001b[0;32m      5\u001b[0m \u001b[43m    \u001b[49m\u001b[43mname\u001b[49m\u001b[38;5;241;43m=\u001b[39;49m\u001b[38;5;124;43m'\u001b[39;49m\u001b[38;5;124;43mfact_appointment\u001b[39;49m\u001b[38;5;124;43m'\u001b[39;49m\u001b[43m,\u001b[49m\n\u001b[0;32m      6\u001b[0m \u001b[43m    \u001b[49m\u001b[43mcon\u001b[49m\u001b[38;5;241;43m=\u001b[39;49m\u001b[43mmdwarehouse_conn\u001b[49m\u001b[43m,\u001b[49m\n\u001b[0;32m      7\u001b[0m \u001b[43m    \u001b[49m\u001b[43mif_exists\u001b[49m\u001b[38;5;241;43m=\u001b[39;49m\u001b[38;5;124;43m'\u001b[39;49m\u001b[38;5;124;43mappend\u001b[39;49m\u001b[38;5;124;43m'\u001b[39;49m\u001b[43m,\u001b[49m\n\u001b[0;32m      8\u001b[0m \u001b[43m    \u001b[49m\u001b[43mindex\u001b[49m\u001b[38;5;241;43m=\u001b[39;49m\u001b[38;5;28;43;01mFalse\u001b[39;49;00m\u001b[43m,\u001b[49m\n\u001b[0;32m      9\u001b[0m \u001b[43m    \u001b[49m\u001b[43mdtype\u001b[49m\u001b[38;5;241;43m=\u001b[39;49m\u001b[43m{\u001b[49m\n\u001b[0;32m     10\u001b[0m \u001b[43m        \u001b[49m\u001b[38;5;124;43m'\u001b[39;49m\u001b[38;5;124;43mpxID\u001b[39;49m\u001b[38;5;124;43m'\u001b[39;49m\u001b[43m:\u001b[49m\u001b[43m \u001b[49m\u001b[43msqlalchemy\u001b[49m\u001b[38;5;241;43m.\u001b[39;49m\u001b[43mtypes\u001b[49m\u001b[38;5;241;43m.\u001b[39;49m\u001b[43mString\u001b[49m\u001b[43m(\u001b[49m\u001b[38;5;241;43m32\u001b[39;49m\u001b[43m)\u001b[49m\u001b[43m,\u001b[49m\n\u001b[0;32m     11\u001b[0m \u001b[43m        \u001b[49m\u001b[38;5;124;43m'\u001b[39;49m\u001b[38;5;124;43mclinicID\u001b[39;49m\u001b[38;5;124;43m'\u001b[39;49m\u001b[43m:\u001b[49m\u001b[43m \u001b[49m\u001b[43msqlalchemy\u001b[49m\u001b[38;5;241;43m.\u001b[39;49m\u001b[43mtypes\u001b[49m\u001b[38;5;241;43m.\u001b[39;49m\u001b[43mString\u001b[49m\u001b[43m(\u001b[49m\u001b[38;5;241;43m32\u001b[39;49m\u001b[43m)\u001b[49m\u001b[43m,\u001b[49m\n\u001b[0;32m     12\u001b[0m \u001b[43m        \u001b[49m\u001b[38;5;124;43m'\u001b[39;49m\u001b[38;5;124;43mdoctorID\u001b[39;49m\u001b[38;5;124;43m'\u001b[39;49m\u001b[43m:\u001b[49m\u001b[43m \u001b[49m\u001b[43msqlalchemy\u001b[49m\u001b[38;5;241;43m.\u001b[39;49m\u001b[43mtypes\u001b[49m\u001b[38;5;241;43m.\u001b[39;49m\u001b[43mString\u001b[49m\u001b[43m(\u001b[49m\u001b[38;5;241;43m32\u001b[39;49m\u001b[43m)\u001b[49m\u001b[43m,\u001b[49m\n\u001b[0;32m     13\u001b[0m \u001b[43m        \u001b[49m\u001b[38;5;124;43m'\u001b[39;49m\u001b[38;5;124;43mapptID\u001b[39;49m\u001b[38;5;124;43m'\u001b[39;49m\u001b[43m:\u001b[49m\u001b[43m \u001b[49m\u001b[43msqlalchemy\u001b[49m\u001b[38;5;241;43m.\u001b[39;49m\u001b[43mtypes\u001b[49m\u001b[38;5;241;43m.\u001b[39;49m\u001b[43mString\u001b[49m\u001b[43m(\u001b[49m\u001b[38;5;241;43m32\u001b[39;49m\u001b[43m)\u001b[49m\u001b[43m,\u001b[49m\n\u001b[0;32m     14\u001b[0m \u001b[43m        \u001b[49m\u001b[38;5;124;43m'\u001b[39;49m\u001b[38;5;124;43mstatus\u001b[39;49m\u001b[38;5;124;43m'\u001b[39;49m\u001b[43m:\u001b[49m\u001b[43msqlalchemy\u001b[49m\u001b[38;5;241;43m.\u001b[39;49m\u001b[43mtypes\u001b[49m\u001b[38;5;241;43m.\u001b[39;49m\u001b[43mEnum\u001b[49m\u001b[43m(\u001b[49m\u001b[43mStatusEnum\u001b[49m\u001b[43m)\u001b[49m\u001b[43m,\u001b[49m\n\u001b[0;32m     15\u001b[0m \u001b[43m        \u001b[49m\u001b[38;5;124;43m'\u001b[39;49m\u001b[38;5;124;43mtimequeued\u001b[39;49m\u001b[38;5;124;43m'\u001b[39;49m\u001b[43m:\u001b[49m\u001b[43m \u001b[49m\u001b[43msqlalchemy\u001b[49m\u001b[38;5;241;43m.\u001b[39;49m\u001b[43mtypes\u001b[49m\u001b[38;5;241;43m.\u001b[39;49m\u001b[43mDateTime\u001b[49m\u001b[43m,\u001b[49m\n\u001b[0;32m     16\u001b[0m \u001b[43m        \u001b[49m\u001b[38;5;124;43m'\u001b[39;49m\u001b[38;5;124;43mqueuedate\u001b[39;49m\u001b[38;5;124;43m'\u001b[39;49m\u001b[43m:\u001b[49m\u001b[43m \u001b[49m\u001b[43msqlalchemy\u001b[49m\u001b[38;5;241;43m.\u001b[39;49m\u001b[43mtypes\u001b[49m\u001b[38;5;241;43m.\u001b[39;49m\u001b[43mDateTime\u001b[49m\u001b[43m,\u001b[49m\n\u001b[0;32m     17\u001b[0m \u001b[43m        \u001b[49m\u001b[38;5;124;43m'\u001b[39;49m\u001b[38;5;124;43mstarttime\u001b[39;49m\u001b[38;5;124;43m'\u001b[39;49m\u001b[43m:\u001b[49m\u001b[43m \u001b[49m\u001b[43msqlalchemy\u001b[49m\u001b[38;5;241;43m.\u001b[39;49m\u001b[43mtypes\u001b[49m\u001b[38;5;241;43m.\u001b[39;49m\u001b[43mDateTime\u001b[49m\u001b[43m,\u001b[49m\n\u001b[0;32m     18\u001b[0m \u001b[43m        \u001b[49m\u001b[38;5;124;43m'\u001b[39;49m\u001b[38;5;124;43mendtime\u001b[39;49m\u001b[38;5;124;43m'\u001b[39;49m\u001b[43m:\u001b[49m\u001b[43m \u001b[49m\u001b[43msqlalchemy\u001b[49m\u001b[38;5;241;43m.\u001b[39;49m\u001b[43mtypes\u001b[49m\u001b[38;5;241;43m.\u001b[39;49m\u001b[43mDateTime\u001b[49m\u001b[43m,\u001b[49m\n\u001b[0;32m     19\u001b[0m \u001b[43m        \u001b[49m\u001b[38;5;124;43m'\u001b[39;49m\u001b[38;5;124;43mtype\u001b[39;49m\u001b[38;5;124;43m'\u001b[39;49m\u001b[43m:\u001b[49m\u001b[43m \u001b[49m\u001b[43msqlalchemy\u001b[49m\u001b[38;5;241;43m.\u001b[39;49m\u001b[43mtypes\u001b[49m\u001b[38;5;241;43m.\u001b[39;49m\u001b[43mEnum\u001b[49m\u001b[43m(\u001b[49m\u001b[43mTypeEnum\u001b[49m\u001b[43m)\u001b[49m\u001b[43m,\u001b[49m\n\u001b[0;32m     20\u001b[0m \u001b[43m        \u001b[49m\u001b[38;5;124;43m'\u001b[39;49m\u001b[38;5;124;43mvirtual\u001b[39;49m\u001b[38;5;124;43m'\u001b[39;49m\u001b[43m:\u001b[49m\u001b[43m \u001b[49m\u001b[43msqlalchemy\u001b[49m\u001b[38;5;241;43m.\u001b[39;49m\u001b[43mtypes\u001b[49m\u001b[38;5;241;43m.\u001b[39;49m\u001b[43mBoolean\u001b[49m\n\u001b[0;32m     21\u001b[0m \u001b[43m    \u001b[49m\u001b[43m}\u001b[49m\u001b[43m,\u001b[49m\n\u001b[0;32m     22\u001b[0m \u001b[43m    \u001b[49m\u001b[43mchunksize\u001b[49m\u001b[38;5;241;43m=\u001b[39;49m\u001b[38;5;241;43m5000\u001b[39;49m\u001b[43m,\u001b[49m\n\u001b[0;32m     23\u001b[0m \u001b[43m    \u001b[49m\u001b[43mmethod\u001b[49m\u001b[38;5;241;43m=\u001b[39;49m\u001b[38;5;124;43m'\u001b[39;49m\u001b[38;5;124;43mmulti\u001b[39;49m\u001b[38;5;124;43m'\u001b[39;49m\n\u001b[0;32m     24\u001b[0m \u001b[43m)\u001b[49m\n\u001b[0;32m     26\u001b[0m mdwarehouse_conn\u001b[38;5;241m.\u001b[39mclose()\n",
      "File \u001b[1;32m~\\Desktop\\smd-ns-appointments\\Prep\\test\\venv\\Lib\\site-packages\\pandas\\util\\_decorators.py:333\u001b[0m, in \u001b[0;36mdeprecate_nonkeyword_arguments.<locals>.decorate.<locals>.wrapper\u001b[1;34m(*args, **kwargs)\u001b[0m\n\u001b[0;32m    327\u001b[0m \u001b[38;5;28;01mif\u001b[39;00m \u001b[38;5;28mlen\u001b[39m(args) \u001b[38;5;241m>\u001b[39m num_allow_args:\n\u001b[0;32m    328\u001b[0m     warnings\u001b[38;5;241m.\u001b[39mwarn(\n\u001b[0;32m    329\u001b[0m         msg\u001b[38;5;241m.\u001b[39mformat(arguments\u001b[38;5;241m=\u001b[39m_format_argument_list(allow_args)),\n\u001b[0;32m    330\u001b[0m         \u001b[38;5;167;01mFutureWarning\u001b[39;00m,\n\u001b[0;32m    331\u001b[0m         stacklevel\u001b[38;5;241m=\u001b[39mfind_stack_level(),\n\u001b[0;32m    332\u001b[0m     )\n\u001b[1;32m--> 333\u001b[0m \u001b[38;5;28;01mreturn\u001b[39;00m \u001b[43mfunc\u001b[49m\u001b[43m(\u001b[49m\u001b[38;5;241;43m*\u001b[39;49m\u001b[43margs\u001b[49m\u001b[43m,\u001b[49m\u001b[43m \u001b[49m\u001b[38;5;241;43m*\u001b[39;49m\u001b[38;5;241;43m*\u001b[39;49m\u001b[43mkwargs\u001b[49m\u001b[43m)\u001b[49m\n",
      "File \u001b[1;32m~\\Desktop\\smd-ns-appointments\\Prep\\test\\venv\\Lib\\site-packages\\pandas\\core\\generic.py:3081\u001b[0m, in \u001b[0;36mNDFrame.to_sql\u001b[1;34m(self, name, con, schema, if_exists, index, index_label, chunksize, dtype, method)\u001b[0m\n\u001b[0;32m   2886\u001b[0m \u001b[38;5;250m\u001b[39m\u001b[38;5;124;03m\"\"\"\u001b[39;00m\n\u001b[0;32m   2887\u001b[0m \u001b[38;5;124;03mWrite records stored in a DataFrame to a SQL database.\u001b[39;00m\n\u001b[0;32m   2888\u001b[0m \n\u001b[1;32m   (...)\u001b[0m\n\u001b[0;32m   3077\u001b[0m \u001b[38;5;124;03m[(1,), (None,), (2,)]\u001b[39;00m\n\u001b[0;32m   3078\u001b[0m \u001b[38;5;124;03m\"\"\"\u001b[39;00m  \u001b[38;5;66;03m# noqa: E501\u001b[39;00m\n\u001b[0;32m   3079\u001b[0m \u001b[38;5;28;01mfrom\u001b[39;00m \u001b[38;5;21;01mpandas\u001b[39;00m\u001b[38;5;21;01m.\u001b[39;00m\u001b[38;5;21;01mio\u001b[39;00m \u001b[38;5;28;01mimport\u001b[39;00m sql\n\u001b[1;32m-> 3081\u001b[0m \u001b[38;5;28;01mreturn\u001b[39;00m \u001b[43msql\u001b[49m\u001b[38;5;241;43m.\u001b[39;49m\u001b[43mto_sql\u001b[49m\u001b[43m(\u001b[49m\n\u001b[0;32m   3082\u001b[0m \u001b[43m    \u001b[49m\u001b[38;5;28;43mself\u001b[39;49m\u001b[43m,\u001b[49m\n\u001b[0;32m   3083\u001b[0m \u001b[43m    \u001b[49m\u001b[43mname\u001b[49m\u001b[43m,\u001b[49m\n\u001b[0;32m   3084\u001b[0m \u001b[43m    \u001b[49m\u001b[43mcon\u001b[49m\u001b[43m,\u001b[49m\n\u001b[0;32m   3085\u001b[0m \u001b[43m    \u001b[49m\u001b[43mschema\u001b[49m\u001b[38;5;241;43m=\u001b[39;49m\u001b[43mschema\u001b[49m\u001b[43m,\u001b[49m\n\u001b[0;32m   3086\u001b[0m \u001b[43m    \u001b[49m\u001b[43mif_exists\u001b[49m\u001b[38;5;241;43m=\u001b[39;49m\u001b[43mif_exists\u001b[49m\u001b[43m,\u001b[49m\n\u001b[0;32m   3087\u001b[0m \u001b[43m    \u001b[49m\u001b[43mindex\u001b[49m\u001b[38;5;241;43m=\u001b[39;49m\u001b[43mindex\u001b[49m\u001b[43m,\u001b[49m\n\u001b[0;32m   3088\u001b[0m \u001b[43m    \u001b[49m\u001b[43mindex_label\u001b[49m\u001b[38;5;241;43m=\u001b[39;49m\u001b[43mindex_label\u001b[49m\u001b[43m,\u001b[49m\n\u001b[0;32m   3089\u001b[0m \u001b[43m    \u001b[49m\u001b[43mchunksize\u001b[49m\u001b[38;5;241;43m=\u001b[39;49m\u001b[43mchunksize\u001b[49m\u001b[43m,\u001b[49m\n\u001b[0;32m   3090\u001b[0m \u001b[43m    \u001b[49m\u001b[43mdtype\u001b[49m\u001b[38;5;241;43m=\u001b[39;49m\u001b[43mdtype\u001b[49m\u001b[43m,\u001b[49m\n\u001b[0;32m   3091\u001b[0m \u001b[43m    \u001b[49m\u001b[43mmethod\u001b[49m\u001b[38;5;241;43m=\u001b[39;49m\u001b[43mmethod\u001b[49m\u001b[43m,\u001b[49m\n\u001b[0;32m   3092\u001b[0m \u001b[43m\u001b[49m\u001b[43m)\u001b[49m\n",
      "File \u001b[1;32m~\\Desktop\\smd-ns-appointments\\Prep\\test\\venv\\Lib\\site-packages\\pandas\\io\\sql.py:842\u001b[0m, in \u001b[0;36mto_sql\u001b[1;34m(frame, name, con, schema, if_exists, index, index_label, chunksize, dtype, method, engine, **engine_kwargs)\u001b[0m\n\u001b[0;32m    837\u001b[0m     \u001b[38;5;28;01mraise\u001b[39;00m \u001b[38;5;167;01mNotImplementedError\u001b[39;00m(\n\u001b[0;32m    838\u001b[0m         \u001b[38;5;124m\"\u001b[39m\u001b[38;5;124m'\u001b[39m\u001b[38;5;124mframe\u001b[39m\u001b[38;5;124m'\u001b[39m\u001b[38;5;124m argument should be either a Series or a DataFrame\u001b[39m\u001b[38;5;124m\"\u001b[39m\n\u001b[0;32m    839\u001b[0m     )\n\u001b[0;32m    841\u001b[0m \u001b[38;5;28;01mwith\u001b[39;00m pandasSQL_builder(con, schema\u001b[38;5;241m=\u001b[39mschema, need_transaction\u001b[38;5;241m=\u001b[39m\u001b[38;5;28;01mTrue\u001b[39;00m) \u001b[38;5;28;01mas\u001b[39;00m pandas_sql:\n\u001b[1;32m--> 842\u001b[0m     \u001b[38;5;28;01mreturn\u001b[39;00m \u001b[43mpandas_sql\u001b[49m\u001b[38;5;241;43m.\u001b[39;49m\u001b[43mto_sql\u001b[49m\u001b[43m(\u001b[49m\n\u001b[0;32m    843\u001b[0m \u001b[43m        \u001b[49m\u001b[43mframe\u001b[49m\u001b[43m,\u001b[49m\n\u001b[0;32m    844\u001b[0m \u001b[43m        \u001b[49m\u001b[43mname\u001b[49m\u001b[43m,\u001b[49m\n\u001b[0;32m    845\u001b[0m \u001b[43m        \u001b[49m\u001b[43mif_exists\u001b[49m\u001b[38;5;241;43m=\u001b[39;49m\u001b[43mif_exists\u001b[49m\u001b[43m,\u001b[49m\n\u001b[0;32m    846\u001b[0m \u001b[43m        \u001b[49m\u001b[43mindex\u001b[49m\u001b[38;5;241;43m=\u001b[39;49m\u001b[43mindex\u001b[49m\u001b[43m,\u001b[49m\n\u001b[0;32m    847\u001b[0m \u001b[43m        \u001b[49m\u001b[43mindex_label\u001b[49m\u001b[38;5;241;43m=\u001b[39;49m\u001b[43mindex_label\u001b[49m\u001b[43m,\u001b[49m\n\u001b[0;32m    848\u001b[0m \u001b[43m        \u001b[49m\u001b[43mschema\u001b[49m\u001b[38;5;241;43m=\u001b[39;49m\u001b[43mschema\u001b[49m\u001b[43m,\u001b[49m\n\u001b[0;32m    849\u001b[0m \u001b[43m        \u001b[49m\u001b[43mchunksize\u001b[49m\u001b[38;5;241;43m=\u001b[39;49m\u001b[43mchunksize\u001b[49m\u001b[43m,\u001b[49m\n\u001b[0;32m    850\u001b[0m \u001b[43m        \u001b[49m\u001b[43mdtype\u001b[49m\u001b[38;5;241;43m=\u001b[39;49m\u001b[43mdtype\u001b[49m\u001b[43m,\u001b[49m\n\u001b[0;32m    851\u001b[0m \u001b[43m        \u001b[49m\u001b[43mmethod\u001b[49m\u001b[38;5;241;43m=\u001b[39;49m\u001b[43mmethod\u001b[49m\u001b[43m,\u001b[49m\n\u001b[0;32m    852\u001b[0m \u001b[43m        \u001b[49m\u001b[43mengine\u001b[49m\u001b[38;5;241;43m=\u001b[39;49m\u001b[43mengine\u001b[49m\u001b[43m,\u001b[49m\n\u001b[0;32m    853\u001b[0m \u001b[43m        \u001b[49m\u001b[38;5;241;43m*\u001b[39;49m\u001b[38;5;241;43m*\u001b[39;49m\u001b[43mengine_kwargs\u001b[49m\u001b[43m,\u001b[49m\n\u001b[0;32m    854\u001b[0m \u001b[43m    \u001b[49m\u001b[43m)\u001b[49m\n",
      "File \u001b[1;32m~\\Desktop\\smd-ns-appointments\\Prep\\test\\venv\\Lib\\site-packages\\pandas\\io\\sql.py:2021\u001b[0m, in \u001b[0;36mSQLDatabase.to_sql\u001b[1;34m(self, frame, name, if_exists, index, index_label, schema, chunksize, dtype, method, engine, **engine_kwargs)\u001b[0m\n\u001b[0;32m   2009\u001b[0m sql_engine \u001b[38;5;241m=\u001b[39m get_engine(engine)\n\u001b[0;32m   2011\u001b[0m table \u001b[38;5;241m=\u001b[39m \u001b[38;5;28mself\u001b[39m\u001b[38;5;241m.\u001b[39mprep_table(\n\u001b[0;32m   2012\u001b[0m     frame\u001b[38;5;241m=\u001b[39mframe,\n\u001b[0;32m   2013\u001b[0m     name\u001b[38;5;241m=\u001b[39mname,\n\u001b[1;32m   (...)\u001b[0m\n\u001b[0;32m   2018\u001b[0m     dtype\u001b[38;5;241m=\u001b[39mdtype,\n\u001b[0;32m   2019\u001b[0m )\n\u001b[1;32m-> 2021\u001b[0m total_inserted \u001b[38;5;241m=\u001b[39m \u001b[43msql_engine\u001b[49m\u001b[38;5;241;43m.\u001b[39;49m\u001b[43minsert_records\u001b[49m\u001b[43m(\u001b[49m\n\u001b[0;32m   2022\u001b[0m \u001b[43m    \u001b[49m\u001b[43mtable\u001b[49m\u001b[38;5;241;43m=\u001b[39;49m\u001b[43mtable\u001b[49m\u001b[43m,\u001b[49m\n\u001b[0;32m   2023\u001b[0m \u001b[43m    \u001b[49m\u001b[43mcon\u001b[49m\u001b[38;5;241;43m=\u001b[39;49m\u001b[38;5;28;43mself\u001b[39;49m\u001b[38;5;241;43m.\u001b[39;49m\u001b[43mcon\u001b[49m\u001b[43m,\u001b[49m\n\u001b[0;32m   2024\u001b[0m \u001b[43m    \u001b[49m\u001b[43mframe\u001b[49m\u001b[38;5;241;43m=\u001b[39;49m\u001b[43mframe\u001b[49m\u001b[43m,\u001b[49m\n\u001b[0;32m   2025\u001b[0m \u001b[43m    \u001b[49m\u001b[43mname\u001b[49m\u001b[38;5;241;43m=\u001b[39;49m\u001b[43mname\u001b[49m\u001b[43m,\u001b[49m\n\u001b[0;32m   2026\u001b[0m \u001b[43m    \u001b[49m\u001b[43mindex\u001b[49m\u001b[38;5;241;43m=\u001b[39;49m\u001b[43mindex\u001b[49m\u001b[43m,\u001b[49m\n\u001b[0;32m   2027\u001b[0m \u001b[43m    \u001b[49m\u001b[43mschema\u001b[49m\u001b[38;5;241;43m=\u001b[39;49m\u001b[43mschema\u001b[49m\u001b[43m,\u001b[49m\n\u001b[0;32m   2028\u001b[0m \u001b[43m    \u001b[49m\u001b[43mchunksize\u001b[49m\u001b[38;5;241;43m=\u001b[39;49m\u001b[43mchunksize\u001b[49m\u001b[43m,\u001b[49m\n\u001b[0;32m   2029\u001b[0m \u001b[43m    \u001b[49m\u001b[43mmethod\u001b[49m\u001b[38;5;241;43m=\u001b[39;49m\u001b[43mmethod\u001b[49m\u001b[43m,\u001b[49m\n\u001b[0;32m   2030\u001b[0m \u001b[43m    \u001b[49m\u001b[38;5;241;43m*\u001b[39;49m\u001b[38;5;241;43m*\u001b[39;49m\u001b[43mengine_kwargs\u001b[49m\u001b[43m,\u001b[49m\n\u001b[0;32m   2031\u001b[0m \u001b[43m\u001b[49m\u001b[43m)\u001b[49m\n\u001b[0;32m   2033\u001b[0m \u001b[38;5;28mself\u001b[39m\u001b[38;5;241m.\u001b[39mcheck_case_sensitive(name\u001b[38;5;241m=\u001b[39mname, schema\u001b[38;5;241m=\u001b[39mschema)\n\u001b[0;32m   2034\u001b[0m \u001b[38;5;28;01mreturn\u001b[39;00m total_inserted\n",
      "File \u001b[1;32m~\\Desktop\\smd-ns-appointments\\Prep\\test\\venv\\Lib\\site-packages\\pandas\\io\\sql.py:1570\u001b[0m, in \u001b[0;36mSQLAlchemyEngine.insert_records\u001b[1;34m(self, table, con, frame, name, index, schema, chunksize, method, **engine_kwargs)\u001b[0m\n\u001b[0;32m   1568\u001b[0m \u001b[38;5;28;01mif\u001b[39;00m re\u001b[38;5;241m.\u001b[39msearch(msg, err_text):\n\u001b[0;32m   1569\u001b[0m     \u001b[38;5;28;01mraise\u001b[39;00m \u001b[38;5;167;01mValueError\u001b[39;00m(\u001b[38;5;124m\"\u001b[39m\u001b[38;5;124minf cannot be used with MySQL\u001b[39m\u001b[38;5;124m\"\u001b[39m) \u001b[38;5;28;01mfrom\u001b[39;00m \u001b[38;5;21;01merr\u001b[39;00m\n\u001b[1;32m-> 1570\u001b[0m \u001b[38;5;28;01mraise\u001b[39;00m err\n",
      "File \u001b[1;32m~\\Desktop\\smd-ns-appointments\\Prep\\test\\venv\\Lib\\site-packages\\pandas\\io\\sql.py:1561\u001b[0m, in \u001b[0;36mSQLAlchemyEngine.insert_records\u001b[1;34m(self, table, con, frame, name, index, schema, chunksize, method, **engine_kwargs)\u001b[0m\n\u001b[0;32m   1558\u001b[0m \u001b[38;5;28;01mfrom\u001b[39;00m \u001b[38;5;21;01msqlalchemy\u001b[39;00m \u001b[38;5;28;01mimport\u001b[39;00m exc\n\u001b[0;32m   1560\u001b[0m \u001b[38;5;28;01mtry\u001b[39;00m:\n\u001b[1;32m-> 1561\u001b[0m     \u001b[38;5;28;01mreturn\u001b[39;00m \u001b[43mtable\u001b[49m\u001b[38;5;241;43m.\u001b[39;49m\u001b[43minsert\u001b[49m\u001b[43m(\u001b[49m\u001b[43mchunksize\u001b[49m\u001b[38;5;241;43m=\u001b[39;49m\u001b[43mchunksize\u001b[49m\u001b[43m,\u001b[49m\u001b[43m \u001b[49m\u001b[43mmethod\u001b[49m\u001b[38;5;241;43m=\u001b[39;49m\u001b[43mmethod\u001b[49m\u001b[43m)\u001b[49m\n\u001b[0;32m   1562\u001b[0m \u001b[38;5;28;01mexcept\u001b[39;00m exc\u001b[38;5;241m.\u001b[39mStatementError \u001b[38;5;28;01mas\u001b[39;00m err:\n\u001b[0;32m   1563\u001b[0m     \u001b[38;5;66;03m# GH34431\u001b[39;00m\n\u001b[0;32m   1564\u001b[0m     \u001b[38;5;66;03m# https://stackoverflow.com/a/67358288/6067848\u001b[39;00m\n\u001b[0;32m   1565\u001b[0m     msg \u001b[38;5;241m=\u001b[39m \u001b[38;5;124mr\u001b[39m\u001b[38;5;124m\"\"\"\u001b[39m\u001b[38;5;124m(\u001b[39m\u001b[38;5;124m\\\u001b[39m\u001b[38;5;124m(1054, \u001b[39m\u001b[38;5;124m\"\u001b[39m\u001b[38;5;124mUnknown column \u001b[39m\u001b[38;5;124m'\u001b[39m\u001b[38;5;124minf(e0)?\u001b[39m\u001b[38;5;124m'\u001b[39m\u001b[38;5;124m in \u001b[39m\u001b[38;5;124m'\u001b[39m\u001b[38;5;124mfield list\u001b[39m\u001b[38;5;124m'\u001b[39m\u001b[38;5;124m\"\u001b[39m\u001b[38;5;124m\\\u001b[39m\u001b[38;5;124m))(?#\u001b[39m\n\u001b[0;32m   1566\u001b[0m \u001b[38;5;124m    )|inf can not be used with MySQL\u001b[39m\u001b[38;5;124m\"\"\"\u001b[39m\n",
      "File \u001b[1;32m~\\Desktop\\smd-ns-appointments\\Prep\\test\\venv\\Lib\\site-packages\\pandas\\io\\sql.py:1122\u001b[0m, in \u001b[0;36mSQLTable.insert\u001b[1;34m(self, chunksize, method)\u001b[0m\n\u001b[0;32m   1119\u001b[0m     \u001b[38;5;28;01mbreak\u001b[39;00m\n\u001b[0;32m   1121\u001b[0m chunk_iter \u001b[38;5;241m=\u001b[39m \u001b[38;5;28mzip\u001b[39m(\u001b[38;5;241m*\u001b[39m(arr[start_i:end_i] \u001b[38;5;28;01mfor\u001b[39;00m arr \u001b[38;5;129;01min\u001b[39;00m data_list))\n\u001b[1;32m-> 1122\u001b[0m num_inserted \u001b[38;5;241m=\u001b[39m \u001b[43mexec_insert\u001b[49m\u001b[43m(\u001b[49m\u001b[43mconn\u001b[49m\u001b[43m,\u001b[49m\u001b[43m \u001b[49m\u001b[43mkeys\u001b[49m\u001b[43m,\u001b[49m\u001b[43m \u001b[49m\u001b[43mchunk_iter\u001b[49m\u001b[43m)\u001b[49m\n\u001b[0;32m   1123\u001b[0m \u001b[38;5;66;03m# GH 46891\u001b[39;00m\n\u001b[0;32m   1124\u001b[0m \u001b[38;5;28;01mif\u001b[39;00m num_inserted \u001b[38;5;129;01mis\u001b[39;00m \u001b[38;5;129;01mnot\u001b[39;00m \u001b[38;5;28;01mNone\u001b[39;00m:\n",
      "File \u001b[1;32m~\\Desktop\\smd-ns-appointments\\Prep\\test\\venv\\Lib\\site-packages\\pandas\\io\\sql.py:1030\u001b[0m, in \u001b[0;36mSQLTable._execute_insert_multi\u001b[1;34m(self, conn, keys, data_iter)\u001b[0m\n\u001b[0;32m   1025\u001b[0m stmt \u001b[38;5;241m=\u001b[39m insert(\u001b[38;5;28mself\u001b[39m\u001b[38;5;241m.\u001b[39mtable)\n\u001b[0;32m   1026\u001b[0m \u001b[38;5;66;03m# conn.execute is used here to ensure compatibility with Oracle.\u001b[39;00m\n\u001b[0;32m   1027\u001b[0m \u001b[38;5;66;03m# Using stmt.values(data) would produce a multi row insert that\u001b[39;00m\n\u001b[0;32m   1028\u001b[0m \u001b[38;5;66;03m# isn't supported by Oracle.\u001b[39;00m\n\u001b[0;32m   1029\u001b[0m \u001b[38;5;66;03m# see: https://docs.sqlalchemy.org/en/20/core/dml.html#sqlalchemy.sql.expression.Insert.values\u001b[39;00m\n\u001b[1;32m-> 1030\u001b[0m result \u001b[38;5;241m=\u001b[39m \u001b[43mconn\u001b[49m\u001b[38;5;241;43m.\u001b[39;49m\u001b[43mexecute\u001b[49m\u001b[43m(\u001b[49m\u001b[43mstmt\u001b[49m\u001b[43m,\u001b[49m\u001b[43m \u001b[49m\u001b[43mdata\u001b[49m\u001b[43m)\u001b[49m\n\u001b[0;32m   1031\u001b[0m \u001b[38;5;28;01mreturn\u001b[39;00m result\u001b[38;5;241m.\u001b[39mrowcount\n",
      "File \u001b[1;32m~\\Desktop\\smd-ns-appointments\\Prep\\test\\venv\\Lib\\site-packages\\sqlalchemy\\engine\\base.py:1408\u001b[0m, in \u001b[0;36mConnection.execute\u001b[1;34m(self, statement, parameters, execution_options)\u001b[0m\n\u001b[0;32m   1406\u001b[0m     \u001b[38;5;28;01mraise\u001b[39;00m exc\u001b[38;5;241m.\u001b[39mObjectNotExecutableError(statement) \u001b[38;5;28;01mfrom\u001b[39;00m \u001b[38;5;21;01merr\u001b[39;00m\n\u001b[0;32m   1407\u001b[0m \u001b[38;5;28;01melse\u001b[39;00m:\n\u001b[1;32m-> 1408\u001b[0m     \u001b[38;5;28;01mreturn\u001b[39;00m \u001b[43mmeth\u001b[49m\u001b[43m(\u001b[49m\n\u001b[0;32m   1409\u001b[0m \u001b[43m        \u001b[49m\u001b[38;5;28;43mself\u001b[39;49m\u001b[43m,\u001b[49m\n\u001b[0;32m   1410\u001b[0m \u001b[43m        \u001b[49m\u001b[43mdistilled_parameters\u001b[49m\u001b[43m,\u001b[49m\n\u001b[0;32m   1411\u001b[0m \u001b[43m        \u001b[49m\u001b[43mexecution_options\u001b[49m\u001b[43m \u001b[49m\u001b[38;5;129;43;01mor\u001b[39;49;00m\u001b[43m \u001b[49m\u001b[43mNO_OPTIONS\u001b[49m\u001b[43m,\u001b[49m\n\u001b[0;32m   1412\u001b[0m \u001b[43m    \u001b[49m\u001b[43m)\u001b[49m\n",
      "File \u001b[1;32m~\\Desktop\\smd-ns-appointments\\Prep\\test\\venv\\Lib\\site-packages\\sqlalchemy\\sql\\elements.py:513\u001b[0m, in \u001b[0;36mClauseElement._execute_on_connection\u001b[1;34m(self, connection, distilled_params, execution_options)\u001b[0m\n\u001b[0;32m    511\u001b[0m     \u001b[38;5;28;01mif\u001b[39;00m TYPE_CHECKING:\n\u001b[0;32m    512\u001b[0m         \u001b[38;5;28;01massert\u001b[39;00m \u001b[38;5;28misinstance\u001b[39m(\u001b[38;5;28mself\u001b[39m, Executable)\n\u001b[1;32m--> 513\u001b[0m     \u001b[38;5;28;01mreturn\u001b[39;00m \u001b[43mconnection\u001b[49m\u001b[38;5;241;43m.\u001b[39;49m\u001b[43m_execute_clauseelement\u001b[49m\u001b[43m(\u001b[49m\n\u001b[0;32m    514\u001b[0m \u001b[43m        \u001b[49m\u001b[38;5;28;43mself\u001b[39;49m\u001b[43m,\u001b[49m\u001b[43m \u001b[49m\u001b[43mdistilled_params\u001b[49m\u001b[43m,\u001b[49m\u001b[43m \u001b[49m\u001b[43mexecution_options\u001b[49m\n\u001b[0;32m    515\u001b[0m \u001b[43m    \u001b[49m\u001b[43m)\u001b[49m\n\u001b[0;32m    516\u001b[0m \u001b[38;5;28;01melse\u001b[39;00m:\n\u001b[0;32m    517\u001b[0m     \u001b[38;5;28;01mraise\u001b[39;00m exc\u001b[38;5;241m.\u001b[39mObjectNotExecutableError(\u001b[38;5;28mself\u001b[39m)\n",
      "File \u001b[1;32m~\\Desktop\\smd-ns-appointments\\Prep\\test\\venv\\Lib\\site-packages\\sqlalchemy\\engine\\base.py:1630\u001b[0m, in \u001b[0;36mConnection._execute_clauseelement\u001b[1;34m(self, elem, distilled_parameters, execution_options)\u001b[0m\n\u001b[0;32m   1618\u001b[0m compiled_cache: Optional[CompiledCacheType] \u001b[38;5;241m=\u001b[39m execution_options\u001b[38;5;241m.\u001b[39mget(\n\u001b[0;32m   1619\u001b[0m     \u001b[38;5;124m\"\u001b[39m\u001b[38;5;124mcompiled_cache\u001b[39m\u001b[38;5;124m\"\u001b[39m, \u001b[38;5;28mself\u001b[39m\u001b[38;5;241m.\u001b[39mengine\u001b[38;5;241m.\u001b[39m_compiled_cache\n\u001b[0;32m   1620\u001b[0m )\n\u001b[0;32m   1622\u001b[0m compiled_sql, extracted_params, cache_hit \u001b[38;5;241m=\u001b[39m elem\u001b[38;5;241m.\u001b[39m_compile_w_cache(\n\u001b[0;32m   1623\u001b[0m     dialect\u001b[38;5;241m=\u001b[39mdialect,\n\u001b[0;32m   1624\u001b[0m     compiled_cache\u001b[38;5;241m=\u001b[39mcompiled_cache,\n\u001b[1;32m   (...)\u001b[0m\n\u001b[0;32m   1628\u001b[0m     linting\u001b[38;5;241m=\u001b[39m\u001b[38;5;28mself\u001b[39m\u001b[38;5;241m.\u001b[39mdialect\u001b[38;5;241m.\u001b[39mcompiler_linting \u001b[38;5;241m|\u001b[39m compiler\u001b[38;5;241m.\u001b[39mWARN_LINTING,\n\u001b[0;32m   1629\u001b[0m )\n\u001b[1;32m-> 1630\u001b[0m ret \u001b[38;5;241m=\u001b[39m \u001b[38;5;28;43mself\u001b[39;49m\u001b[38;5;241;43m.\u001b[39;49m\u001b[43m_execute_context\u001b[49m\u001b[43m(\u001b[49m\n\u001b[0;32m   1631\u001b[0m \u001b[43m    \u001b[49m\u001b[43mdialect\u001b[49m\u001b[43m,\u001b[49m\n\u001b[0;32m   1632\u001b[0m \u001b[43m    \u001b[49m\u001b[43mdialect\u001b[49m\u001b[38;5;241;43m.\u001b[39;49m\u001b[43mexecution_ctx_cls\u001b[49m\u001b[38;5;241;43m.\u001b[39;49m\u001b[43m_init_compiled\u001b[49m\u001b[43m,\u001b[49m\n\u001b[0;32m   1633\u001b[0m \u001b[43m    \u001b[49m\u001b[43mcompiled_sql\u001b[49m\u001b[43m,\u001b[49m\n\u001b[0;32m   1634\u001b[0m \u001b[43m    \u001b[49m\u001b[43mdistilled_parameters\u001b[49m\u001b[43m,\u001b[49m\n\u001b[0;32m   1635\u001b[0m \u001b[43m    \u001b[49m\u001b[43mexecution_options\u001b[49m\u001b[43m,\u001b[49m\n\u001b[0;32m   1636\u001b[0m \u001b[43m    \u001b[49m\u001b[43mcompiled_sql\u001b[49m\u001b[43m,\u001b[49m\n\u001b[0;32m   1637\u001b[0m \u001b[43m    \u001b[49m\u001b[43mdistilled_parameters\u001b[49m\u001b[43m,\u001b[49m\n\u001b[0;32m   1638\u001b[0m \u001b[43m    \u001b[49m\u001b[43melem\u001b[49m\u001b[43m,\u001b[49m\n\u001b[0;32m   1639\u001b[0m \u001b[43m    \u001b[49m\u001b[43mextracted_params\u001b[49m\u001b[43m,\u001b[49m\n\u001b[0;32m   1640\u001b[0m \u001b[43m    \u001b[49m\u001b[43mcache_hit\u001b[49m\u001b[38;5;241;43m=\u001b[39;49m\u001b[43mcache_hit\u001b[49m\u001b[43m,\u001b[49m\n\u001b[0;32m   1641\u001b[0m \u001b[43m\u001b[49m\u001b[43m)\u001b[49m\n\u001b[0;32m   1642\u001b[0m \u001b[38;5;28;01mif\u001b[39;00m has_events:\n\u001b[0;32m   1643\u001b[0m     \u001b[38;5;28mself\u001b[39m\u001b[38;5;241m.\u001b[39mdispatch\u001b[38;5;241m.\u001b[39mafter_execute(\n\u001b[0;32m   1644\u001b[0m         \u001b[38;5;28mself\u001b[39m,\n\u001b[0;32m   1645\u001b[0m         elem,\n\u001b[1;32m   (...)\u001b[0m\n\u001b[0;32m   1649\u001b[0m         ret,\n\u001b[0;32m   1650\u001b[0m     )\n",
      "File \u001b[1;32m~\\Desktop\\smd-ns-appointments\\Prep\\test\\venv\\Lib\\site-packages\\sqlalchemy\\engine\\base.py:1839\u001b[0m, in \u001b[0;36mConnection._execute_context\u001b[1;34m(self, dialect, constructor, statement, parameters, execution_options, *args, **kw)\u001b[0m\n\u001b[0;32m   1834\u001b[0m     \u001b[38;5;28;01mreturn\u001b[39;00m \u001b[38;5;28mself\u001b[39m\u001b[38;5;241m.\u001b[39m_exec_insertmany_context(\n\u001b[0;32m   1835\u001b[0m         dialect,\n\u001b[0;32m   1836\u001b[0m         context,\n\u001b[0;32m   1837\u001b[0m     )\n\u001b[0;32m   1838\u001b[0m \u001b[38;5;28;01melse\u001b[39;00m:\n\u001b[1;32m-> 1839\u001b[0m     \u001b[38;5;28;01mreturn\u001b[39;00m \u001b[38;5;28;43mself\u001b[39;49m\u001b[38;5;241;43m.\u001b[39;49m\u001b[43m_exec_single_context\u001b[49m\u001b[43m(\u001b[49m\n\u001b[0;32m   1840\u001b[0m \u001b[43m        \u001b[49m\u001b[43mdialect\u001b[49m\u001b[43m,\u001b[49m\u001b[43m \u001b[49m\u001b[43mcontext\u001b[49m\u001b[43m,\u001b[49m\u001b[43m \u001b[49m\u001b[43mstatement\u001b[49m\u001b[43m,\u001b[49m\u001b[43m \u001b[49m\u001b[43mparameters\u001b[49m\n\u001b[0;32m   1841\u001b[0m \u001b[43m    \u001b[49m\u001b[43m)\u001b[49m\n",
      "File \u001b[1;32m~\\Desktop\\smd-ns-appointments\\Prep\\test\\venv\\Lib\\site-packages\\sqlalchemy\\engine\\base.py:1979\u001b[0m, in \u001b[0;36mConnection._exec_single_context\u001b[1;34m(self, dialect, context, statement, parameters)\u001b[0m\n\u001b[0;32m   1976\u001b[0m     result \u001b[38;5;241m=\u001b[39m context\u001b[38;5;241m.\u001b[39m_setup_result_proxy()\n\u001b[0;32m   1978\u001b[0m \u001b[38;5;28;01mexcept\u001b[39;00m \u001b[38;5;167;01mBaseException\u001b[39;00m \u001b[38;5;28;01mas\u001b[39;00m e:\n\u001b[1;32m-> 1979\u001b[0m     \u001b[38;5;28;43mself\u001b[39;49m\u001b[38;5;241;43m.\u001b[39;49m\u001b[43m_handle_dbapi_exception\u001b[49m\u001b[43m(\u001b[49m\n\u001b[0;32m   1980\u001b[0m \u001b[43m        \u001b[49m\u001b[43me\u001b[49m\u001b[43m,\u001b[49m\u001b[43m \u001b[49m\u001b[43mstr_statement\u001b[49m\u001b[43m,\u001b[49m\u001b[43m \u001b[49m\u001b[43meffective_parameters\u001b[49m\u001b[43m,\u001b[49m\u001b[43m \u001b[49m\u001b[43mcursor\u001b[49m\u001b[43m,\u001b[49m\u001b[43m \u001b[49m\u001b[43mcontext\u001b[49m\n\u001b[0;32m   1981\u001b[0m \u001b[43m    \u001b[49m\u001b[43m)\u001b[49m\n\u001b[0;32m   1983\u001b[0m \u001b[38;5;28;01mreturn\u001b[39;00m result\n",
      "File \u001b[1;32m~\\Desktop\\smd-ns-appointments\\Prep\\test\\venv\\Lib\\site-packages\\sqlalchemy\\engine\\base.py:2335\u001b[0m, in \u001b[0;36mConnection._handle_dbapi_exception\u001b[1;34m(self, e, statement, parameters, cursor, context, is_sub_exec)\u001b[0m\n\u001b[0;32m   2333\u001b[0m \u001b[38;5;28;01melif\u001b[39;00m should_wrap:\n\u001b[0;32m   2334\u001b[0m     \u001b[38;5;28;01massert\u001b[39;00m sqlalchemy_exception \u001b[38;5;129;01mis\u001b[39;00m \u001b[38;5;129;01mnot\u001b[39;00m \u001b[38;5;28;01mNone\u001b[39;00m\n\u001b[1;32m-> 2335\u001b[0m     \u001b[38;5;28;01mraise\u001b[39;00m sqlalchemy_exception\u001b[38;5;241m.\u001b[39mwith_traceback(exc_info[\u001b[38;5;241m2\u001b[39m]) \u001b[38;5;28;01mfrom\u001b[39;00m \u001b[38;5;21;01me\u001b[39;00m\n\u001b[0;32m   2336\u001b[0m \u001b[38;5;28;01melse\u001b[39;00m:\n\u001b[0;32m   2337\u001b[0m     \u001b[38;5;28;01massert\u001b[39;00m exc_info[\u001b[38;5;241m1\u001b[39m] \u001b[38;5;129;01mis\u001b[39;00m \u001b[38;5;129;01mnot\u001b[39;00m \u001b[38;5;28;01mNone\u001b[39;00m\n",
      "File \u001b[1;32m~\\Desktop\\smd-ns-appointments\\Prep\\test\\venv\\Lib\\site-packages\\sqlalchemy\\engine\\base.py:1929\u001b[0m, in \u001b[0;36mConnection._exec_single_context\u001b[1;34m(self, dialect, context, statement, parameters)\u001b[0m\n\u001b[0;32m   1927\u001b[0m                 \u001b[38;5;28;01mbreak\u001b[39;00m\n\u001b[0;32m   1928\u001b[0m     \u001b[38;5;28;01mif\u001b[39;00m \u001b[38;5;129;01mnot\u001b[39;00m evt_handled:\n\u001b[1;32m-> 1929\u001b[0m         \u001b[38;5;28;43mself\u001b[39;49m\u001b[38;5;241;43m.\u001b[39;49m\u001b[43mdialect\u001b[49m\u001b[38;5;241;43m.\u001b[39;49m\u001b[43mdo_executemany\u001b[49m\u001b[43m(\u001b[49m\n\u001b[0;32m   1930\u001b[0m \u001b[43m            \u001b[49m\u001b[43mcursor\u001b[49m\u001b[43m,\u001b[49m\n\u001b[0;32m   1931\u001b[0m \u001b[43m            \u001b[49m\u001b[43mstr_statement\u001b[49m\u001b[43m,\u001b[49m\n\u001b[0;32m   1932\u001b[0m \u001b[43m            \u001b[49m\u001b[43meffective_parameters\u001b[49m\u001b[43m,\u001b[49m\n\u001b[0;32m   1933\u001b[0m \u001b[43m            \u001b[49m\u001b[43mcontext\u001b[49m\u001b[43m,\u001b[49m\n\u001b[0;32m   1934\u001b[0m \u001b[43m        \u001b[49m\u001b[43m)\u001b[49m\n\u001b[0;32m   1935\u001b[0m \u001b[38;5;28;01melif\u001b[39;00m \u001b[38;5;129;01mnot\u001b[39;00m effective_parameters \u001b[38;5;129;01mand\u001b[39;00m context\u001b[38;5;241m.\u001b[39mno_parameters:\n\u001b[0;32m   1936\u001b[0m     \u001b[38;5;28;01mif\u001b[39;00m \u001b[38;5;28mself\u001b[39m\u001b[38;5;241m.\u001b[39mdialect\u001b[38;5;241m.\u001b[39m_has_events:\n",
      "File \u001b[1;32m~\\Desktop\\smd-ns-appointments\\Prep\\test\\venv\\Lib\\site-packages\\sqlalchemy\\dialects\\mysql\\mysqldb.py:175\u001b[0m, in \u001b[0;36mMySQLDialect_mysqldb.do_executemany\u001b[1;34m(self, cursor, statement, parameters, context)\u001b[0m\n\u001b[0;32m    174\u001b[0m \u001b[38;5;28;01mdef\u001b[39;00m \u001b[38;5;21mdo_executemany\u001b[39m(\u001b[38;5;28mself\u001b[39m, cursor, statement, parameters, context\u001b[38;5;241m=\u001b[39m\u001b[38;5;28;01mNone\u001b[39;00m):\n\u001b[1;32m--> 175\u001b[0m     rowcount \u001b[38;5;241m=\u001b[39m \u001b[43mcursor\u001b[49m\u001b[38;5;241;43m.\u001b[39;49m\u001b[43mexecutemany\u001b[49m\u001b[43m(\u001b[49m\u001b[43mstatement\u001b[49m\u001b[43m,\u001b[49m\u001b[43m \u001b[49m\u001b[43mparameters\u001b[49m\u001b[43m)\u001b[49m\n\u001b[0;32m    176\u001b[0m     \u001b[38;5;28;01mif\u001b[39;00m context \u001b[38;5;129;01mis\u001b[39;00m \u001b[38;5;129;01mnot\u001b[39;00m \u001b[38;5;28;01mNone\u001b[39;00m:\n\u001b[0;32m    177\u001b[0m         context\u001b[38;5;241m.\u001b[39m_rowcount \u001b[38;5;241m=\u001b[39m rowcount\n",
      "File \u001b[1;32m~\\Desktop\\smd-ns-appointments\\Prep\\test\\venv\\Lib\\site-packages\\MySQLdb\\cursors.py:241\u001b[0m, in \u001b[0;36mBaseCursor.executemany\u001b[1;34m(self, query, args)\u001b[0m\n\u001b[0;32m    239\u001b[0m     q_postfix \u001b[38;5;241m=\u001b[39m m\u001b[38;5;241m.\u001b[39mgroup(\u001b[38;5;241m3\u001b[39m) \u001b[38;5;129;01mor\u001b[39;00m \u001b[38;5;124m\"\u001b[39m\u001b[38;5;124m\"\u001b[39m\n\u001b[0;32m    240\u001b[0m     \u001b[38;5;28;01massert\u001b[39;00m q_values[\u001b[38;5;241m0\u001b[39m] \u001b[38;5;241m==\u001b[39m \u001b[38;5;124m\"\u001b[39m\u001b[38;5;124m(\u001b[39m\u001b[38;5;124m\"\u001b[39m \u001b[38;5;129;01mand\u001b[39;00m q_values[\u001b[38;5;241m-\u001b[39m\u001b[38;5;241m1\u001b[39m] \u001b[38;5;241m==\u001b[39m \u001b[38;5;124m\"\u001b[39m\u001b[38;5;124m)\u001b[39m\u001b[38;5;124m\"\u001b[39m\n\u001b[1;32m--> 241\u001b[0m     \u001b[38;5;28;01mreturn\u001b[39;00m \u001b[38;5;28;43mself\u001b[39;49m\u001b[38;5;241;43m.\u001b[39;49m\u001b[43m_do_execute_many\u001b[49m\u001b[43m(\u001b[49m\n\u001b[0;32m    242\u001b[0m \u001b[43m        \u001b[49m\u001b[43mq_prefix\u001b[49m\u001b[43m,\u001b[49m\n\u001b[0;32m    243\u001b[0m \u001b[43m        \u001b[49m\u001b[43mq_values\u001b[49m\u001b[43m,\u001b[49m\n\u001b[0;32m    244\u001b[0m \u001b[43m        \u001b[49m\u001b[43mq_postfix\u001b[49m\u001b[43m,\u001b[49m\n\u001b[0;32m    245\u001b[0m \u001b[43m        \u001b[49m\u001b[43margs\u001b[49m\u001b[43m,\u001b[49m\n\u001b[0;32m    246\u001b[0m \u001b[43m        \u001b[49m\u001b[38;5;28;43mself\u001b[39;49m\u001b[38;5;241;43m.\u001b[39;49m\u001b[43mmax_stmt_length\u001b[49m\u001b[43m,\u001b[49m\n\u001b[0;32m    247\u001b[0m \u001b[43m        \u001b[49m\u001b[38;5;28;43mself\u001b[39;49m\u001b[38;5;241;43m.\u001b[39;49m\u001b[43m_get_db\u001b[49m\u001b[43m(\u001b[49m\u001b[43m)\u001b[49m\u001b[38;5;241;43m.\u001b[39;49m\u001b[43mencoding\u001b[49m\u001b[43m,\u001b[49m\n\u001b[0;32m    248\u001b[0m \u001b[43m    \u001b[49m\u001b[43m)\u001b[49m\n\u001b[0;32m    250\u001b[0m \u001b[38;5;28mself\u001b[39m\u001b[38;5;241m.\u001b[39mrowcount \u001b[38;5;241m=\u001b[39m \u001b[38;5;28msum\u001b[39m(\u001b[38;5;28mself\u001b[39m\u001b[38;5;241m.\u001b[39mexecute(query, arg) \u001b[38;5;28;01mfor\u001b[39;00m arg \u001b[38;5;129;01min\u001b[39;00m args)\n\u001b[0;32m    251\u001b[0m \u001b[38;5;28;01mreturn\u001b[39;00m \u001b[38;5;28mself\u001b[39m\u001b[38;5;241m.\u001b[39mrowcount\n",
      "File \u001b[1;32m~\\Desktop\\smd-ns-appointments\\Prep\\test\\venv\\Lib\\site-packages\\MySQLdb\\cursors.py:275\u001b[0m, in \u001b[0;36mBaseCursor._do_execute_many\u001b[1;34m(self, prefix, values, postfix, args, max_stmt_length, encoding)\u001b[0m\n\u001b[0;32m    273\u001b[0m         sql \u001b[38;5;241m+\u001b[39m\u001b[38;5;241m=\u001b[39m \u001b[38;5;124mb\u001b[39m\u001b[38;5;124m\"\u001b[39m\u001b[38;5;124m,\u001b[39m\u001b[38;5;124m\"\u001b[39m\n\u001b[0;32m    274\u001b[0m     sql \u001b[38;5;241m+\u001b[39m\u001b[38;5;241m=\u001b[39m v\n\u001b[1;32m--> 275\u001b[0m rows \u001b[38;5;241m+\u001b[39m\u001b[38;5;241m=\u001b[39m \u001b[38;5;28;43mself\u001b[39;49m\u001b[38;5;241;43m.\u001b[39;49m\u001b[43mexecute\u001b[49m\u001b[43m(\u001b[49m\u001b[43msql\u001b[49m\u001b[43m \u001b[49m\u001b[38;5;241;43m+\u001b[39;49m\u001b[43m \u001b[49m\u001b[43mpostfix\u001b[49m\u001b[43m)\u001b[49m\n\u001b[0;32m    276\u001b[0m \u001b[38;5;28mself\u001b[39m\u001b[38;5;241m.\u001b[39mrowcount \u001b[38;5;241m=\u001b[39m rows\n\u001b[0;32m    277\u001b[0m \u001b[38;5;28;01mreturn\u001b[39;00m rows\n",
      "File \u001b[1;32m~\\Desktop\\smd-ns-appointments\\Prep\\test\\venv\\Lib\\site-packages\\MySQLdb\\cursors.py:179\u001b[0m, in \u001b[0;36mBaseCursor.execute\u001b[1;34m(self, query, args)\u001b[0m\n\u001b[0;32m    176\u001b[0m mogrified_query \u001b[38;5;241m=\u001b[39m \u001b[38;5;28mself\u001b[39m\u001b[38;5;241m.\u001b[39m_mogrify(query, args)\n\u001b[0;32m    178\u001b[0m \u001b[38;5;28;01massert\u001b[39;00m \u001b[38;5;28misinstance\u001b[39m(mogrified_query, (\u001b[38;5;28mbytes\u001b[39m, \u001b[38;5;28mbytearray\u001b[39m))\n\u001b[1;32m--> 179\u001b[0m res \u001b[38;5;241m=\u001b[39m \u001b[38;5;28;43mself\u001b[39;49m\u001b[38;5;241;43m.\u001b[39;49m\u001b[43m_query\u001b[49m\u001b[43m(\u001b[49m\u001b[43mmogrified_query\u001b[49m\u001b[43m)\u001b[49m\n\u001b[0;32m    180\u001b[0m \u001b[38;5;28;01mreturn\u001b[39;00m res\n",
      "File \u001b[1;32m~\\Desktop\\smd-ns-appointments\\Prep\\test\\venv\\Lib\\site-packages\\MySQLdb\\cursors.py:330\u001b[0m, in \u001b[0;36mBaseCursor._query\u001b[1;34m(self, q)\u001b[0m\n\u001b[0;32m    328\u001b[0m \u001b[38;5;28mself\u001b[39m\u001b[38;5;241m.\u001b[39mrowcount \u001b[38;5;241m=\u001b[39m \u001b[38;5;28;01mNone\u001b[39;00m\n\u001b[0;32m    329\u001b[0m \u001b[38;5;28mself\u001b[39m\u001b[38;5;241m.\u001b[39mlastrowid \u001b[38;5;241m=\u001b[39m \u001b[38;5;28;01mNone\u001b[39;00m\n\u001b[1;32m--> 330\u001b[0m \u001b[43mdb\u001b[49m\u001b[38;5;241;43m.\u001b[39;49m\u001b[43mquery\u001b[49m\u001b[43m(\u001b[49m\u001b[43mq\u001b[49m\u001b[43m)\u001b[49m\n\u001b[0;32m    331\u001b[0m \u001b[38;5;28mself\u001b[39m\u001b[38;5;241m.\u001b[39m_do_get_result(db)\n\u001b[0;32m    332\u001b[0m \u001b[38;5;28mself\u001b[39m\u001b[38;5;241m.\u001b[39m_post_get_result()\n",
      "File \u001b[1;32m~\\Desktop\\smd-ns-appointments\\Prep\\test\\venv\\Lib\\site-packages\\MySQLdb\\connections.py:261\u001b[0m, in \u001b[0;36mConnection.query\u001b[1;34m(self, query)\u001b[0m\n\u001b[0;32m    259\u001b[0m \u001b[38;5;28;01mif\u001b[39;00m \u001b[38;5;28misinstance\u001b[39m(query, \u001b[38;5;28mbytearray\u001b[39m):\n\u001b[0;32m    260\u001b[0m     query \u001b[38;5;241m=\u001b[39m \u001b[38;5;28mbytes\u001b[39m(query)\n\u001b[1;32m--> 261\u001b[0m \u001b[43m_mysql\u001b[49m\u001b[38;5;241;43m.\u001b[39;49m\u001b[43mconnection\u001b[49m\u001b[38;5;241;43m.\u001b[39;49m\u001b[43mquery\u001b[49m\u001b[43m(\u001b[49m\u001b[38;5;28;43mself\u001b[39;49m\u001b[43m,\u001b[49m\u001b[43m \u001b[49m\u001b[43mquery\u001b[49m\u001b[43m)\u001b[49m\n",
      "\u001b[1;31mIntegrityError\u001b[0m: (MySQLdb.IntegrityError) (1452, 'Cannot add or update a child row: a foreign key constraint fails (`mdwarehouse`.`fact_appointment`, CONSTRAINT `clinicID_FK` FOREIGN KEY (`clinicID`) REFERENCES `dim_clinic` (`clinicID`))')\n[SQL: INSERT INTO fact_appointment (`pxID`, `clinicID`, `doctorID`, `apptID`, status, timequeued, queuedate, starttime, endtime, type, `virtual`) VALUES (%s, %s, %s, %s, %s, %s, %s, %s, %s, %s, %s)]\n[parameters: [('FE4A5D5A20EC492D2FC691F126A568AB', '3B8D83483189887A2F1A39D690463A8F', 'ACB3A881C7CE9ABCAE0CE8C99C86A906', '04BC9218E072BEEFEBEE9C97B78A35C9', 'Queued', datetime.datetime(2020, 6, 22, 5, 11, 38), datetime.datetime(2020, 7, 2, 16, 0), datetime.datetime(2020, 7, 2, 17, 0, 38), datetime.datetime(2020, 7, 2, 17, 15, 38), 'Consultation', None), ('E6BC8E80685AA4A239617F196F12A0C3', '3B8D83483189887A2F1A39D690463A8F', 'ACB3A881C7CE9ABCAE0CE8C99C86A906', 'F2335AAFB7EE079C7E7306591057C0C9', 'Queued', datetime.datetime(2020, 6, 26, 4, 51, 16), datetime.datetime(2020, 7, 12, 16, 0), datetime.datetime(2020, 7, 12, 17, 0, 16), datetime.datetime(2020, 7, 12, 17, 15, 16), 'Consultation', None), ('E430B3D3AEED550612FFDBD0F2F94112', '3B8D83483189887A2F1A39D690463A8F', 'ACB3A881C7CE9ABCAE0CE8C99C86A906', 'B2C83D6DE89A88C5CD9EA1FD5FC00602', 'Queued', datetime.datetime(2020, 7, 13, 7, 0, 50), datetime.datetime(2020, 7, 19, 16, 0), datetime.datetime(2020, 7, 20, 5, 0, 50), datetime.datetime(2020, 7, 20, 5, 15, 50), 'Consultation', None), ('E6BC8E80685AA4A239617F196F12A0C3', '3B8D83483189887A2F1A39D690463A8F', 'ACB3A881C7CE9ABCAE0CE8C99C86A906', 'DA4023B5A8C3F1BD540EA82552F21134', 'Queued', datetime.datetime(2020, 7, 13, 6, 7, 14), datetime.datetime(2020, 7, 28, 16, 0), datetime.datetime(2020, 7, 29, 5, 0, 13), datetime.datetime(2020, 7, 29, 5, 15, 13), 'Consultation', None), ('41E3F930274A7704305EE197F3434877', '3B8D83483189887A2F1A39D690463A8F', 'ACB3A881C7CE9ABCAE0CE8C99C86A906', 'C805F7992F18E33AB85CEBD572680943', 'Queued', datetime.datetime(2020, 6, 26, 5, 54, 35), datetime.datetime(2020, 9, 27, 16, 0), datetime.datetime(2020, 9, 27, 17, 0, 35), datetime.datetime(2020, 9, 27, 17, 15, 35), 'Consultation', None), ('696B1DBC02065B388F51E2D4B1C1E14E', '3B8D83483189887A2F1A39D690463A8F', 'ACB3A881C7CE9ABCAE0CE8C99C86A906', '6E1E32BC8FD1A7B83E1BD476628647AB', 'Queued', datetime.datetime(2020, 6, 17, 5, 28, 48), datetime.datetime(2020, 12, 1, 16, 0), datetime.datetime(2020, 12, 2, 5, 0, 46), datetime.datetime(2020, 12, 2, 5, 15, 46), 'Consultation', None), ('C2A1A2899A43ECE5781B6D2186077BBB', '3B8D83483189887A2F1A39D690463A8F', 'ACB3A881C7CE9ABCAE0CE8C99C86A906', 'EE390D094FB37A4C53A9C23BAF6A349C', 'Queued', datetime.datetime(2020, 6, 22, 5, 22, 13), datetime.datetime(2020, 12, 3, 16, 0), datetime.datetime(2020, 12, 3, 17, 0, 13), datetime.datetime(2020, 12, 3, 17, 15, 13), 'Consultation', None), ('441F9A8E62AA75E437635DBE362C649C', '3B8D83483189887A2F1A39D690463A8F', 'ACB3A881C7CE9ABCAE0CE8C99C86A906', '6E22B1E817DB43EDB211D186660D81DC', 'Queued', datetime.datetime(2022, 5, 4, 5, 7, 29), datetime.datetime(2022, 5, 23, 16, 0), datetime.datetime(2022, 5, 24, 8, 30), datetime.datetime(2022, 5, 24, 8, 45), 'Consultation', 1)  ... displaying 10 of 100 total bound parameter sets ...  ('E181F837A7F5701CC5537781E94D3537', '287ABB19DA8AADBD118443E92685853E', 'ACB3A881C7CE9ABCAE0CE8C99C86A906', '39250431EA8C0D7384AD60C9534AB386', 'Complete', datetime.datetime(2020, 11, 22, 10, 37, 27), datetime.datetime(2020, 11, 23, 16, 0), datetime.datetime(2020, 11, 24, 1, 45), datetime.datetime(2020, 11, 24, 2, 0), 'Consultation', 0), ('276BBC91182D1B6924ACDA861C146B07', '287ABB19DA8AADBD118443E92685853E', 'ACB3A881C7CE9ABCAE0CE8C99C86A906', '2CB9F1DD9BBB54D6AF9CE2607772934C', 'Complete', datetime.datetime(2020, 11, 23, 23, 47), datetime.datetime(2020, 11, 23, 16, 0), datetime.datetime(2020, 11, 24, 2, 45), datetime.datetime(2020, 11, 24, 3, 0), 'Consultation', 1)]]\n(Background on this error at: https://sqlalche.me/e/20/gkpj)"
     ]
    }
   ],
   "source": [
    "# sending dataframe to sql table\n",
    "mdwarehouse_conn = MySqlEngineDW.connect()\n",
    "\n",
    "rows_affected = appointments_df.head(100).to_sql(\n",
    "    name='fact_appointment',\n",
    "    con=mdwarehouse_conn,\n",
    "    if_exists='append',\n",
    "    index=False,\n",
    "    dtype={\n",
    "        'pxID': sqlalchemy.types.String(32),\n",
    "        'clinicID': sqlalchemy.types.String(32),\n",
    "        'doctorID': sqlalchemy.types.String(32),\n",
    "        'apptID': sqlalchemy.types.String(32),\n",
    "        'status':sqlalchemy.types.Enum(StatusEnum),\n",
    "        'timequeued': sqlalchemy.types.DateTime,\n",
    "        'queuedate': sqlalchemy.types.DateTime,\n",
    "        'starttime': sqlalchemy.types.DateTime,\n",
    "        'endtime': sqlalchemy.types.DateTime,\n",
    "        'type': sqlalchemy.types.Enum(TypeEnum),\n",
    "        'virtual': sqlalchemy.types.Boolean\n",
    "    },\n",
    "    chunksize=5000,\n",
    "    method='multi'\n",
    ")\n",
    "\n",
    "mdwarehouse_conn.close()"
   ]
  },
  {
   "cell_type": "code",
   "execution_count": 29,
   "metadata": {
    "collapsed": false,
    "jupyter": {
     "outputs_hidden": false
    }
   },
   "outputs": [
    {
     "data": {
      "text/html": [
       "<div>\n",
       "<style scoped>\n",
       "    .dataframe tbody tr th:only-of-type {\n",
       "        vertical-align: middle;\n",
       "    }\n",
       "\n",
       "    .dataframe tbody tr th {\n",
       "        vertical-align: top;\n",
       "    }\n",
       "\n",
       "    .dataframe thead th {\n",
       "        text-align: right;\n",
       "    }\n",
       "</style>\n",
       "<table border=\"1\" class=\"dataframe\">\n",
       "  <thead>\n",
       "    <tr style=\"text-align: right;\">\n",
       "      <th></th>\n",
       "      <th>pxID</th>\n",
       "      <th>clinicID</th>\n",
       "      <th>doctorID</th>\n",
       "      <th>apptID</th>\n",
       "      <th>status</th>\n",
       "      <th>timequeued</th>\n",
       "      <th>queuedate</th>\n",
       "      <th>starttime</th>\n",
       "      <th>endtime</th>\n",
       "      <th>type</th>\n",
       "      <th>virtual</th>\n",
       "    </tr>\n",
       "  </thead>\n",
       "  <tbody>\n",
       "    <tr>\n",
       "      <th>0</th>\n",
       "      <td>FE4A5D5A20EC492D2FC691F126A568AB</td>\n",
       "      <td>3B8D83483189887A2F1A39D690463A8F</td>\n",
       "      <td>ACB3A881C7CE9ABCAE0CE8C99C86A906</td>\n",
       "      <td>04BC9218E072BEEFEBEE9C97B78A35C9</td>\n",
       "      <td>Queued</td>\n",
       "      <td>2020-06-22 05:11:38</td>\n",
       "      <td>2020-07-02 16:00:00</td>\n",
       "      <td>2020-07-02 17:00:38</td>\n",
       "      <td>2020-07-02 17:15:38</td>\n",
       "      <td>Consultation</td>\n",
       "      <td>NaN</td>\n",
       "    </tr>\n",
       "    <tr>\n",
       "      <th>1</th>\n",
       "      <td>E6BC8E80685AA4A239617F196F12A0C3</td>\n",
       "      <td>3B8D83483189887A2F1A39D690463A8F</td>\n",
       "      <td>ACB3A881C7CE9ABCAE0CE8C99C86A906</td>\n",
       "      <td>F2335AAFB7EE079C7E7306591057C0C9</td>\n",
       "      <td>Queued</td>\n",
       "      <td>2020-06-26 04:51:16</td>\n",
       "      <td>2020-07-12 16:00:00</td>\n",
       "      <td>2020-07-12 17:00:16</td>\n",
       "      <td>2020-07-12 17:15:16</td>\n",
       "      <td>Consultation</td>\n",
       "      <td>NaN</td>\n",
       "    </tr>\n",
       "    <tr>\n",
       "      <th>2</th>\n",
       "      <td>E430B3D3AEED550612FFDBD0F2F94112</td>\n",
       "      <td>3B8D83483189887A2F1A39D690463A8F</td>\n",
       "      <td>ACB3A881C7CE9ABCAE0CE8C99C86A906</td>\n",
       "      <td>B2C83D6DE89A88C5CD9EA1FD5FC00602</td>\n",
       "      <td>Queued</td>\n",
       "      <td>2020-07-13 07:00:50</td>\n",
       "      <td>2020-07-19 16:00:00</td>\n",
       "      <td>2020-07-20 05:00:50</td>\n",
       "      <td>2020-07-20 05:15:50</td>\n",
       "      <td>Consultation</td>\n",
       "      <td>NaN</td>\n",
       "    </tr>\n",
       "    <tr>\n",
       "      <th>3</th>\n",
       "      <td>E6BC8E80685AA4A239617F196F12A0C3</td>\n",
       "      <td>3B8D83483189887A2F1A39D690463A8F</td>\n",
       "      <td>ACB3A881C7CE9ABCAE0CE8C99C86A906</td>\n",
       "      <td>DA4023B5A8C3F1BD540EA82552F21134</td>\n",
       "      <td>Queued</td>\n",
       "      <td>2020-07-13 06:07:14</td>\n",
       "      <td>2020-07-28 16:00:00</td>\n",
       "      <td>2020-07-29 05:00:13</td>\n",
       "      <td>2020-07-29 05:15:13</td>\n",
       "      <td>Consultation</td>\n",
       "      <td>NaN</td>\n",
       "    </tr>\n",
       "    <tr>\n",
       "      <th>4</th>\n",
       "      <td>41E3F930274A7704305EE197F3434877</td>\n",
       "      <td>3B8D83483189887A2F1A39D690463A8F</td>\n",
       "      <td>ACB3A881C7CE9ABCAE0CE8C99C86A906</td>\n",
       "      <td>C805F7992F18E33AB85CEBD572680943</td>\n",
       "      <td>Queued</td>\n",
       "      <td>2020-06-26 05:54:35</td>\n",
       "      <td>2020-09-27 16:00:00</td>\n",
       "      <td>2020-09-27 17:00:35</td>\n",
       "      <td>2020-09-27 17:15:35</td>\n",
       "      <td>Consultation</td>\n",
       "      <td>NaN</td>\n",
       "    </tr>\n",
       "    <tr>\n",
       "      <th>...</th>\n",
       "      <td>...</td>\n",
       "      <td>...</td>\n",
       "      <td>...</td>\n",
       "      <td>...</td>\n",
       "      <td>...</td>\n",
       "      <td>...</td>\n",
       "      <td>...</td>\n",
       "      <td>...</td>\n",
       "      <td>...</td>\n",
       "      <td>...</td>\n",
       "      <td>...</td>\n",
       "    </tr>\n",
       "    <tr>\n",
       "      <th>95</th>\n",
       "      <td>0173144A9589D9B631D1213CB68CD1F3</td>\n",
       "      <td>287ABB19DA8AADBD118443E92685853E</td>\n",
       "      <td>ACB3A881C7CE9ABCAE0CE8C99C86A906</td>\n",
       "      <td>24BBEF21D8B8E1F63BF9D95D22C52854</td>\n",
       "      <td>Complete</td>\n",
       "      <td>2020-11-19 04:26:14</td>\n",
       "      <td>2020-11-19 16:00:00</td>\n",
       "      <td>2020-11-20 01:30:00</td>\n",
       "      <td>2020-11-20 01:45:00</td>\n",
       "      <td>Consultation</td>\n",
       "      <td>False</td>\n",
       "    </tr>\n",
       "    <tr>\n",
       "      <th>96</th>\n",
       "      <td>A4B7F2DEFAB485D3E823EC2E2887CE8B</td>\n",
       "      <td>287ABB19DA8AADBD118443E92685853E</td>\n",
       "      <td>ACB3A881C7CE9ABCAE0CE8C99C86A906</td>\n",
       "      <td>9ECD6AD001663BFF8259BF04932B287E</td>\n",
       "      <td>Complete</td>\n",
       "      <td>2020-11-23 23:37:41</td>\n",
       "      <td>2020-11-23 16:00:00</td>\n",
       "      <td>2020-11-24 03:15:00</td>\n",
       "      <td>2020-11-24 03:30:00</td>\n",
       "      <td>Consultation</td>\n",
       "      <td>True</td>\n",
       "    </tr>\n",
       "    <tr>\n",
       "      <th>97</th>\n",
       "      <td>17F29BDC62FF6C1E3EADA946F41BD78C</td>\n",
       "      <td>287ABB19DA8AADBD118443E92685853E</td>\n",
       "      <td>ACB3A881C7CE9ABCAE0CE8C99C86A906</td>\n",
       "      <td>1F61DE829ECDBAA4E09FB099781C47E8</td>\n",
       "      <td>Complete</td>\n",
       "      <td>2020-11-20 02:25:35</td>\n",
       "      <td>2020-11-23 16:00:00</td>\n",
       "      <td>2020-11-24 01:00:00</td>\n",
       "      <td>2020-11-24 01:15:00</td>\n",
       "      <td>Consultation</td>\n",
       "      <td>True</td>\n",
       "    </tr>\n",
       "    <tr>\n",
       "      <th>98</th>\n",
       "      <td>E181F837A7F5701CC5537781E94D3537</td>\n",
       "      <td>287ABB19DA8AADBD118443E92685853E</td>\n",
       "      <td>ACB3A881C7CE9ABCAE0CE8C99C86A906</td>\n",
       "      <td>39250431EA8C0D7384AD60C9534AB386</td>\n",
       "      <td>Complete</td>\n",
       "      <td>2020-11-22 10:37:27</td>\n",
       "      <td>2020-11-23 16:00:00</td>\n",
       "      <td>2020-11-24 01:45:00</td>\n",
       "      <td>2020-11-24 02:00:00</td>\n",
       "      <td>Consultation</td>\n",
       "      <td>False</td>\n",
       "    </tr>\n",
       "    <tr>\n",
       "      <th>99</th>\n",
       "      <td>276BBC91182D1B6924ACDA861C146B07</td>\n",
       "      <td>287ABB19DA8AADBD118443E92685853E</td>\n",
       "      <td>ACB3A881C7CE9ABCAE0CE8C99C86A906</td>\n",
       "      <td>2CB9F1DD9BBB54D6AF9CE2607772934C</td>\n",
       "      <td>Complete</td>\n",
       "      <td>2020-11-23 23:47:00</td>\n",
       "      <td>2020-11-23 16:00:00</td>\n",
       "      <td>2020-11-24 02:45:00</td>\n",
       "      <td>2020-11-24 03:00:00</td>\n",
       "      <td>Consultation</td>\n",
       "      <td>True</td>\n",
       "    </tr>\n",
       "  </tbody>\n",
       "</table>\n",
       "<p>100 rows × 11 columns</p>\n",
       "</div>"
      ],
      "text/plain": [
       "                                pxID                          clinicID  \\\n",
       "0   FE4A5D5A20EC492D2FC691F126A568AB  3B8D83483189887A2F1A39D690463A8F   \n",
       "1   E6BC8E80685AA4A239617F196F12A0C3  3B8D83483189887A2F1A39D690463A8F   \n",
       "2   E430B3D3AEED550612FFDBD0F2F94112  3B8D83483189887A2F1A39D690463A8F   \n",
       "3   E6BC8E80685AA4A239617F196F12A0C3  3B8D83483189887A2F1A39D690463A8F   \n",
       "4   41E3F930274A7704305EE197F3434877  3B8D83483189887A2F1A39D690463A8F   \n",
       "..                               ...                               ...   \n",
       "95  0173144A9589D9B631D1213CB68CD1F3  287ABB19DA8AADBD118443E92685853E   \n",
       "96  A4B7F2DEFAB485D3E823EC2E2887CE8B  287ABB19DA8AADBD118443E92685853E   \n",
       "97  17F29BDC62FF6C1E3EADA946F41BD78C  287ABB19DA8AADBD118443E92685853E   \n",
       "98  E181F837A7F5701CC5537781E94D3537  287ABB19DA8AADBD118443E92685853E   \n",
       "99  276BBC91182D1B6924ACDA861C146B07  287ABB19DA8AADBD118443E92685853E   \n",
       "\n",
       "                            doctorID                            apptID  \\\n",
       "0   ACB3A881C7CE9ABCAE0CE8C99C86A906  04BC9218E072BEEFEBEE9C97B78A35C9   \n",
       "1   ACB3A881C7CE9ABCAE0CE8C99C86A906  F2335AAFB7EE079C7E7306591057C0C9   \n",
       "2   ACB3A881C7CE9ABCAE0CE8C99C86A906  B2C83D6DE89A88C5CD9EA1FD5FC00602   \n",
       "3   ACB3A881C7CE9ABCAE0CE8C99C86A906  DA4023B5A8C3F1BD540EA82552F21134   \n",
       "4   ACB3A881C7CE9ABCAE0CE8C99C86A906  C805F7992F18E33AB85CEBD572680943   \n",
       "..                               ...                               ...   \n",
       "95  ACB3A881C7CE9ABCAE0CE8C99C86A906  24BBEF21D8B8E1F63BF9D95D22C52854   \n",
       "96  ACB3A881C7CE9ABCAE0CE8C99C86A906  9ECD6AD001663BFF8259BF04932B287E   \n",
       "97  ACB3A881C7CE9ABCAE0CE8C99C86A906  1F61DE829ECDBAA4E09FB099781C47E8   \n",
       "98  ACB3A881C7CE9ABCAE0CE8C99C86A906  39250431EA8C0D7384AD60C9534AB386   \n",
       "99  ACB3A881C7CE9ABCAE0CE8C99C86A906  2CB9F1DD9BBB54D6AF9CE2607772934C   \n",
       "\n",
       "      status          timequeued           queuedate           starttime  \\\n",
       "0     Queued 2020-06-22 05:11:38 2020-07-02 16:00:00 2020-07-02 17:00:38   \n",
       "1     Queued 2020-06-26 04:51:16 2020-07-12 16:00:00 2020-07-12 17:00:16   \n",
       "2     Queued 2020-07-13 07:00:50 2020-07-19 16:00:00 2020-07-20 05:00:50   \n",
       "3     Queued 2020-07-13 06:07:14 2020-07-28 16:00:00 2020-07-29 05:00:13   \n",
       "4     Queued 2020-06-26 05:54:35 2020-09-27 16:00:00 2020-09-27 17:00:35   \n",
       "..       ...                 ...                 ...                 ...   \n",
       "95  Complete 2020-11-19 04:26:14 2020-11-19 16:00:00 2020-11-20 01:30:00   \n",
       "96  Complete 2020-11-23 23:37:41 2020-11-23 16:00:00 2020-11-24 03:15:00   \n",
       "97  Complete 2020-11-20 02:25:35 2020-11-23 16:00:00 2020-11-24 01:00:00   \n",
       "98  Complete 2020-11-22 10:37:27 2020-11-23 16:00:00 2020-11-24 01:45:00   \n",
       "99  Complete 2020-11-23 23:47:00 2020-11-23 16:00:00 2020-11-24 02:45:00   \n",
       "\n",
       "               endtime          type virtual  \n",
       "0  2020-07-02 17:15:38  Consultation     NaN  \n",
       "1  2020-07-12 17:15:16  Consultation     NaN  \n",
       "2  2020-07-20 05:15:50  Consultation     NaN  \n",
       "3  2020-07-29 05:15:13  Consultation     NaN  \n",
       "4  2020-09-27 17:15:35  Consultation     NaN  \n",
       "..                 ...           ...     ...  \n",
       "95 2020-11-20 01:45:00  Consultation   False  \n",
       "96 2020-11-24 03:30:00  Consultation    True  \n",
       "97 2020-11-24 01:15:00  Consultation    True  \n",
       "98 2020-11-24 02:00:00  Consultation   False  \n",
       "99 2020-11-24 03:00:00  Consultation    True  \n",
       "\n",
       "[100 rows x 11 columns]"
      ]
     },
     "execution_count": 29,
     "metadata": {},
     "output_type": "execute_result"
    }
   ],
   "source": [
    "appointments_df.head(100)"
   ]
  },
  {
   "cell_type": "code",
   "execution_count": 30,
   "metadata": {
    "collapsed": false,
    "jupyter": {
     "outputs_hidden": false
    }
   },
   "outputs": [],
   "source": [
    "# importing the appointments table to a dataframe for\n",
    "mdwarehouse_conn = MySqlEngineDW.connect()\n",
    "\n",
    "doctors_df = pd.read_sql(\n",
    "    sql=\"\"\"SELECT * FROM dim_doctor\"\"\",\n",
    "    con=mdwarehouse_conn,\n",
    "    dtype={\n",
    "        'age': pd.Int64Dtype()\n",
    "    }\n",
    ")\n",
    "\n",
    "patients_df = pd.read_sql(\n",
    "    sql=\"\"\"SELECT * FROM dim_px\"\"\",\n",
    "    con=mdwarehouse_conn,\n",
    "    dtype={\n",
    "        'age': pd.Int64Dtype()\n",
    "    }\n",
    ")\n",
    "\n",
    "mdwarehouse_conn.close()"
   ]
  },
  {
   "cell_type": "code",
   "execution_count": 31,
   "metadata": {
    "collapsed": false,
    "jupyter": {
     "outputs_hidden": false
    }
   },
   "outputs": [
    {
     "name": "stdout",
     "output_type": "stream",
     "text": [
      "<class 'pandas.core.frame.DataFrame'>\n",
      "RangeIndex: 320140 entries, 0 to 320139\n",
      "Data columns (total 11 columns):\n",
      " #   Column      Non-Null Count   Dtype         \n",
      "---  ------      --------------   -----         \n",
      " 0   pxID        320140 non-null  object        \n",
      " 1   clinicID    320140 non-null  object        \n",
      " 2   doctorID    320140 non-null  object        \n",
      " 3   apptID      320140 non-null  object        \n",
      " 4   status      320140 non-null  object        \n",
      " 5   timequeued  320140 non-null  datetime64[ns]\n",
      " 6   queuedate   320140 non-null  datetime64[ns]\n",
      " 7   starttime   203608 non-null  datetime64[ns]\n",
      " 8   endtime     60152 non-null   datetime64[ns]\n",
      " 9   type        320140 non-null  object        \n",
      " 10  virtual     130004 non-null  object        \n",
      "dtypes: datetime64[ns](4), object(7)\n",
      "memory usage: 26.9+ MB\n"
     ]
    }
   ],
   "source": [
    "appointments_df.info()"
   ]
  },
  {
   "cell_type": "code",
   "execution_count": 32,
   "metadata": {
    "collapsed": false,
    "jupyter": {
     "outputs_hidden": false
    }
   },
   "outputs": [
    {
     "name": "stdout",
     "output_type": "stream",
     "text": [
      "<class 'pandas.core.frame.DataFrame'>\n",
      "RangeIndex: 320140 entries, 0 to 320139\n",
      "Data columns (total 11 columns):\n",
      " #   Column      Non-Null Count   Dtype         \n",
      "---  ------      --------------   -----         \n",
      " 0   pxID        320140 non-null  object        \n",
      " 1   clinicID    320140 non-null  object        \n",
      " 2   doctorID    320140 non-null  object        \n",
      " 3   apptID      320140 non-null  object        \n",
      " 4   status      320140 non-null  object        \n",
      " 5   timequeued  320140 non-null  datetime64[ns]\n",
      " 6   queuedate   320140 non-null  datetime64[ns]\n",
      " 7   starttime   203608 non-null  datetime64[ns]\n",
      " 8   endtime     60152 non-null   datetime64[ns]\n",
      " 9   type        320140 non-null  object        \n",
      " 10  virtual     130004 non-null  object        \n",
      "dtypes: datetime64[ns](4), object(7)\n",
      "memory usage: 26.9+ MB\n"
     ]
    }
   ],
   "source": [
    "appointments_df = pd.merge(\n",
    "    left=appointments_df,\n",
    "    right=doctors_df['doctorID'],\n",
    "    on='doctorID',\n",
    "    how='inner'\n",
    ")\n",
    "appointments_df.info()"
   ]
  },
  {
   "cell_type": "code",
   "execution_count": 33,
   "metadata": {
    "collapsed": false,
    "jupyter": {
     "outputs_hidden": false
    }
   },
   "outputs": [
    {
     "name": "stdout",
     "output_type": "stream",
     "text": [
      "<class 'pandas.core.frame.DataFrame'>\n",
      "RangeIndex: 320125 entries, 0 to 320124\n",
      "Data columns (total 11 columns):\n",
      " #   Column      Non-Null Count   Dtype         \n",
      "---  ------      --------------   -----         \n",
      " 0   pxID        320125 non-null  object        \n",
      " 1   clinicID    320125 non-null  object        \n",
      " 2   doctorID    320125 non-null  object        \n",
      " 3   apptID      320125 non-null  object        \n",
      " 4   status      320125 non-null  object        \n",
      " 5   timequeued  320125 non-null  datetime64[ns]\n",
      " 6   queuedate   320125 non-null  datetime64[ns]\n",
      " 7   starttime   203596 non-null  datetime64[ns]\n",
      " 8   endtime     60152 non-null   datetime64[ns]\n",
      " 9   type        320125 non-null  object        \n",
      " 10  virtual     130004 non-null  object        \n",
      "dtypes: datetime64[ns](4), object(7)\n",
      "memory usage: 26.9+ MB\n"
     ]
    }
   ],
   "source": [
    "appointments_df = pd.merge(\n",
    "    left=appointments_df,\n",
    "    right=patients_df['pxID'],\n",
    "    on='pxID',\n",
    "    how='inner'\n",
    ")\n",
    "appointments_df.info()"
   ]
  },
  {
   "cell_type": "markdown",
   "metadata": {
    "collapsed": false,
    "jupyter": {
     "outputs_hidden": false
    }
   },
   "source": [
    "-----"
   ]
  },
  {
   "cell_type": "code",
   "execution_count": 34,
   "metadata": {
    "collapsed": false,
    "jupyter": {
     "outputs_hidden": false
    }
   },
   "outputs": [
    {
     "data": {
      "text/html": [
       "<div>\n",
       "<style scoped>\n",
       "    .dataframe tbody tr th:only-of-type {\n",
       "        vertical-align: middle;\n",
       "    }\n",
       "\n",
       "    .dataframe tbody tr th {\n",
       "        vertical-align: top;\n",
       "    }\n",
       "\n",
       "    .dataframe thead th {\n",
       "        text-align: right;\n",
       "    }\n",
       "</style>\n",
       "<table border=\"1\" class=\"dataframe\">\n",
       "  <thead>\n",
       "    <tr style=\"text-align: right;\">\n",
       "      <th></th>\n",
       "      <th>pxID</th>\n",
       "      <th>clinicID</th>\n",
       "      <th>doctorID</th>\n",
       "      <th>apptID</th>\n",
       "      <th>status</th>\n",
       "      <th>timequeued</th>\n",
       "      <th>queuedate</th>\n",
       "      <th>starttime</th>\n",
       "      <th>endtime</th>\n",
       "      <th>type</th>\n",
       "      <th>virtual</th>\n",
       "    </tr>\n",
       "  </thead>\n",
       "  <tbody>\n",
       "    <tr>\n",
       "      <th>0</th>\n",
       "      <td>FE4A5D5A20EC492D2FC691F126A568AB</td>\n",
       "      <td>3B8D83483189887A2F1A39D690463A8F</td>\n",
       "      <td>ACB3A881C7CE9ABCAE0CE8C99C86A906</td>\n",
       "      <td>04BC9218E072BEEFEBEE9C97B78A35C9</td>\n",
       "      <td>Queued</td>\n",
       "      <td>2020-06-22 05:11:38</td>\n",
       "      <td>2020-07-02 16:00:00</td>\n",
       "      <td>2020-07-02 17:00:38</td>\n",
       "      <td>2020-07-02 17:15:38</td>\n",
       "      <td>Consultation</td>\n",
       "      <td>NaN</td>\n",
       "    </tr>\n",
       "    <tr>\n",
       "      <th>1</th>\n",
       "      <td>E6BC8E80685AA4A239617F196F12A0C3</td>\n",
       "      <td>3B8D83483189887A2F1A39D690463A8F</td>\n",
       "      <td>ACB3A881C7CE9ABCAE0CE8C99C86A906</td>\n",
       "      <td>F2335AAFB7EE079C7E7306591057C0C9</td>\n",
       "      <td>Queued</td>\n",
       "      <td>2020-06-26 04:51:16</td>\n",
       "      <td>2020-07-12 16:00:00</td>\n",
       "      <td>2020-07-12 17:00:16</td>\n",
       "      <td>2020-07-12 17:15:16</td>\n",
       "      <td>Consultation</td>\n",
       "      <td>NaN</td>\n",
       "    </tr>\n",
       "    <tr>\n",
       "      <th>2</th>\n",
       "      <td>E430B3D3AEED550612FFDBD0F2F94112</td>\n",
       "      <td>3B8D83483189887A2F1A39D690463A8F</td>\n",
       "      <td>ACB3A881C7CE9ABCAE0CE8C99C86A906</td>\n",
       "      <td>B2C83D6DE89A88C5CD9EA1FD5FC00602</td>\n",
       "      <td>Queued</td>\n",
       "      <td>2020-07-13 07:00:50</td>\n",
       "      <td>2020-07-19 16:00:00</td>\n",
       "      <td>2020-07-20 05:00:50</td>\n",
       "      <td>2020-07-20 05:15:50</td>\n",
       "      <td>Consultation</td>\n",
       "      <td>NaN</td>\n",
       "    </tr>\n",
       "    <tr>\n",
       "      <th>3</th>\n",
       "      <td>E6BC8E80685AA4A239617F196F12A0C3</td>\n",
       "      <td>3B8D83483189887A2F1A39D690463A8F</td>\n",
       "      <td>ACB3A881C7CE9ABCAE0CE8C99C86A906</td>\n",
       "      <td>DA4023B5A8C3F1BD540EA82552F21134</td>\n",
       "      <td>Queued</td>\n",
       "      <td>2020-07-13 06:07:14</td>\n",
       "      <td>2020-07-28 16:00:00</td>\n",
       "      <td>2020-07-29 05:00:13</td>\n",
       "      <td>2020-07-29 05:15:13</td>\n",
       "      <td>Consultation</td>\n",
       "      <td>NaN</td>\n",
       "    </tr>\n",
       "    <tr>\n",
       "      <th>4</th>\n",
       "      <td>41E3F930274A7704305EE197F3434877</td>\n",
       "      <td>3B8D83483189887A2F1A39D690463A8F</td>\n",
       "      <td>ACB3A881C7CE9ABCAE0CE8C99C86A906</td>\n",
       "      <td>C805F7992F18E33AB85CEBD572680943</td>\n",
       "      <td>Queued</td>\n",
       "      <td>2020-06-26 05:54:35</td>\n",
       "      <td>2020-09-27 16:00:00</td>\n",
       "      <td>2020-09-27 17:00:35</td>\n",
       "      <td>2020-09-27 17:15:35</td>\n",
       "      <td>Consultation</td>\n",
       "      <td>NaN</td>\n",
       "    </tr>\n",
       "    <tr>\n",
       "      <th>...</th>\n",
       "      <td>...</td>\n",
       "      <td>...</td>\n",
       "      <td>...</td>\n",
       "      <td>...</td>\n",
       "      <td>...</td>\n",
       "      <td>...</td>\n",
       "      <td>...</td>\n",
       "      <td>...</td>\n",
       "      <td>...</td>\n",
       "      <td>...</td>\n",
       "      <td>...</td>\n",
       "    </tr>\n",
       "    <tr>\n",
       "      <th>95</th>\n",
       "      <td>0173144A9589D9B631D1213CB68CD1F3</td>\n",
       "      <td>287ABB19DA8AADBD118443E92685853E</td>\n",
       "      <td>ACB3A881C7CE9ABCAE0CE8C99C86A906</td>\n",
       "      <td>24BBEF21D8B8E1F63BF9D95D22C52854</td>\n",
       "      <td>Complete</td>\n",
       "      <td>2020-11-19 04:26:14</td>\n",
       "      <td>2020-11-19 16:00:00</td>\n",
       "      <td>2020-11-20 01:30:00</td>\n",
       "      <td>2020-11-20 01:45:00</td>\n",
       "      <td>Consultation</td>\n",
       "      <td>False</td>\n",
       "    </tr>\n",
       "    <tr>\n",
       "      <th>96</th>\n",
       "      <td>A4B7F2DEFAB485D3E823EC2E2887CE8B</td>\n",
       "      <td>287ABB19DA8AADBD118443E92685853E</td>\n",
       "      <td>ACB3A881C7CE9ABCAE0CE8C99C86A906</td>\n",
       "      <td>9ECD6AD001663BFF8259BF04932B287E</td>\n",
       "      <td>Complete</td>\n",
       "      <td>2020-11-23 23:37:41</td>\n",
       "      <td>2020-11-23 16:00:00</td>\n",
       "      <td>2020-11-24 03:15:00</td>\n",
       "      <td>2020-11-24 03:30:00</td>\n",
       "      <td>Consultation</td>\n",
       "      <td>True</td>\n",
       "    </tr>\n",
       "    <tr>\n",
       "      <th>97</th>\n",
       "      <td>17F29BDC62FF6C1E3EADA946F41BD78C</td>\n",
       "      <td>287ABB19DA8AADBD118443E92685853E</td>\n",
       "      <td>ACB3A881C7CE9ABCAE0CE8C99C86A906</td>\n",
       "      <td>1F61DE829ECDBAA4E09FB099781C47E8</td>\n",
       "      <td>Complete</td>\n",
       "      <td>2020-11-20 02:25:35</td>\n",
       "      <td>2020-11-23 16:00:00</td>\n",
       "      <td>2020-11-24 01:00:00</td>\n",
       "      <td>2020-11-24 01:15:00</td>\n",
       "      <td>Consultation</td>\n",
       "      <td>True</td>\n",
       "    </tr>\n",
       "    <tr>\n",
       "      <th>98</th>\n",
       "      <td>E181F837A7F5701CC5537781E94D3537</td>\n",
       "      <td>287ABB19DA8AADBD118443E92685853E</td>\n",
       "      <td>ACB3A881C7CE9ABCAE0CE8C99C86A906</td>\n",
       "      <td>39250431EA8C0D7384AD60C9534AB386</td>\n",
       "      <td>Complete</td>\n",
       "      <td>2020-11-22 10:37:27</td>\n",
       "      <td>2020-11-23 16:00:00</td>\n",
       "      <td>2020-11-24 01:45:00</td>\n",
       "      <td>2020-11-24 02:00:00</td>\n",
       "      <td>Consultation</td>\n",
       "      <td>False</td>\n",
       "    </tr>\n",
       "    <tr>\n",
       "      <th>99</th>\n",
       "      <td>276BBC91182D1B6924ACDA861C146B07</td>\n",
       "      <td>287ABB19DA8AADBD118443E92685853E</td>\n",
       "      <td>ACB3A881C7CE9ABCAE0CE8C99C86A906</td>\n",
       "      <td>2CB9F1DD9BBB54D6AF9CE2607772934C</td>\n",
       "      <td>Complete</td>\n",
       "      <td>2020-11-23 23:47:00</td>\n",
       "      <td>2020-11-23 16:00:00</td>\n",
       "      <td>2020-11-24 02:45:00</td>\n",
       "      <td>2020-11-24 03:00:00</td>\n",
       "      <td>Consultation</td>\n",
       "      <td>True</td>\n",
       "    </tr>\n",
       "  </tbody>\n",
       "</table>\n",
       "<p>100 rows × 11 columns</p>\n",
       "</div>"
      ],
      "text/plain": [
       "                                pxID                          clinicID  \\\n",
       "0   FE4A5D5A20EC492D2FC691F126A568AB  3B8D83483189887A2F1A39D690463A8F   \n",
       "1   E6BC8E80685AA4A239617F196F12A0C3  3B8D83483189887A2F1A39D690463A8F   \n",
       "2   E430B3D3AEED550612FFDBD0F2F94112  3B8D83483189887A2F1A39D690463A8F   \n",
       "3   E6BC8E80685AA4A239617F196F12A0C3  3B8D83483189887A2F1A39D690463A8F   \n",
       "4   41E3F930274A7704305EE197F3434877  3B8D83483189887A2F1A39D690463A8F   \n",
       "..                               ...                               ...   \n",
       "95  0173144A9589D9B631D1213CB68CD1F3  287ABB19DA8AADBD118443E92685853E   \n",
       "96  A4B7F2DEFAB485D3E823EC2E2887CE8B  287ABB19DA8AADBD118443E92685853E   \n",
       "97  17F29BDC62FF6C1E3EADA946F41BD78C  287ABB19DA8AADBD118443E92685853E   \n",
       "98  E181F837A7F5701CC5537781E94D3537  287ABB19DA8AADBD118443E92685853E   \n",
       "99  276BBC91182D1B6924ACDA861C146B07  287ABB19DA8AADBD118443E92685853E   \n",
       "\n",
       "                            doctorID                            apptID  \\\n",
       "0   ACB3A881C7CE9ABCAE0CE8C99C86A906  04BC9218E072BEEFEBEE9C97B78A35C9   \n",
       "1   ACB3A881C7CE9ABCAE0CE8C99C86A906  F2335AAFB7EE079C7E7306591057C0C9   \n",
       "2   ACB3A881C7CE9ABCAE0CE8C99C86A906  B2C83D6DE89A88C5CD9EA1FD5FC00602   \n",
       "3   ACB3A881C7CE9ABCAE0CE8C99C86A906  DA4023B5A8C3F1BD540EA82552F21134   \n",
       "4   ACB3A881C7CE9ABCAE0CE8C99C86A906  C805F7992F18E33AB85CEBD572680943   \n",
       "..                               ...                               ...   \n",
       "95  ACB3A881C7CE9ABCAE0CE8C99C86A906  24BBEF21D8B8E1F63BF9D95D22C52854   \n",
       "96  ACB3A881C7CE9ABCAE0CE8C99C86A906  9ECD6AD001663BFF8259BF04932B287E   \n",
       "97  ACB3A881C7CE9ABCAE0CE8C99C86A906  1F61DE829ECDBAA4E09FB099781C47E8   \n",
       "98  ACB3A881C7CE9ABCAE0CE8C99C86A906  39250431EA8C0D7384AD60C9534AB386   \n",
       "99  ACB3A881C7CE9ABCAE0CE8C99C86A906  2CB9F1DD9BBB54D6AF9CE2607772934C   \n",
       "\n",
       "      status          timequeued           queuedate           starttime  \\\n",
       "0     Queued 2020-06-22 05:11:38 2020-07-02 16:00:00 2020-07-02 17:00:38   \n",
       "1     Queued 2020-06-26 04:51:16 2020-07-12 16:00:00 2020-07-12 17:00:16   \n",
       "2     Queued 2020-07-13 07:00:50 2020-07-19 16:00:00 2020-07-20 05:00:50   \n",
       "3     Queued 2020-07-13 06:07:14 2020-07-28 16:00:00 2020-07-29 05:00:13   \n",
       "4     Queued 2020-06-26 05:54:35 2020-09-27 16:00:00 2020-09-27 17:00:35   \n",
       "..       ...                 ...                 ...                 ...   \n",
       "95  Complete 2020-11-19 04:26:14 2020-11-19 16:00:00 2020-11-20 01:30:00   \n",
       "96  Complete 2020-11-23 23:37:41 2020-11-23 16:00:00 2020-11-24 03:15:00   \n",
       "97  Complete 2020-11-20 02:25:35 2020-11-23 16:00:00 2020-11-24 01:00:00   \n",
       "98  Complete 2020-11-22 10:37:27 2020-11-23 16:00:00 2020-11-24 01:45:00   \n",
       "99  Complete 2020-11-23 23:47:00 2020-11-23 16:00:00 2020-11-24 02:45:00   \n",
       "\n",
       "               endtime          type virtual  \n",
       "0  2020-07-02 17:15:38  Consultation     NaN  \n",
       "1  2020-07-12 17:15:16  Consultation     NaN  \n",
       "2  2020-07-20 05:15:50  Consultation     NaN  \n",
       "3  2020-07-29 05:15:13  Consultation     NaN  \n",
       "4  2020-09-27 17:15:35  Consultation     NaN  \n",
       "..                 ...           ...     ...  \n",
       "95 2020-11-20 01:45:00  Consultation   False  \n",
       "96 2020-11-24 03:30:00  Consultation    True  \n",
       "97 2020-11-24 01:15:00  Consultation    True  \n",
       "98 2020-11-24 02:00:00  Consultation   False  \n",
       "99 2020-11-24 03:00:00  Consultation    True  \n",
       "\n",
       "[100 rows x 11 columns]"
      ]
     },
     "execution_count": 34,
     "metadata": {},
     "output_type": "execute_result"
    }
   ],
   "source": [
    "appointments_df.head(100)"
   ]
  },
  {
   "cell_type": "code",
   "execution_count": 39,
   "metadata": {
    "collapsed": false,
    "jupyter": {
     "outputs_hidden": false
    }
   },
   "outputs": [
    {
     "name": "stdout",
     "output_type": "stream",
     "text": [
      "Rows affected:320125\n"
     ]
    }
   ],
   "source": [
    "# sending dataframe to sql table\n",
    "mdwarehouse_conn = MySqlEngineDW.connect()\n",
    "\n",
    "rows_affected = appointments_df.to_sql(\n",
    "    name='fact_appointment',\n",
    "    con=mdwarehouse_conn,\n",
    "    if_exists='append',\n",
    "    index=False,\n",
    "    dtype={\n",
    "        'pxID': sqlalchemy.types.String(32),\n",
    "        'clinicID': sqlalchemy.types.String(32),\n",
    "        'doctorID': sqlalchemy.types.String(32),\n",
    "        'apptID': sqlalchemy.types.String(32),\n",
    "        'status':sqlalchemy.types.Enum(StatusEnum),\n",
    "        'timequeued': sqlalchemy.types.DateTime,\n",
    "        'queuedate': sqlalchemy.types.DateTime,\n",
    "        'starttime': sqlalchemy.types.DateTime,\n",
    "        'endtime': sqlalchemy.types.DateTime,\n",
    "        'type': sqlalchemy.types.Enum(TypeEnum),\n",
    "        'virtual': sqlalchemy.types.Boolean\n",
    "    },\n",
    "    chunksize=5000,\n",
    "    method='multi'\n",
    ")\n",
    "\n",
    "print('Rows affected:' + str(rows_affected))\n",
    "\n",
    "mdwarehouse_conn.close()"
   ]
  },
  {
   "cell_type": "markdown",
   "metadata": {
    "collapsed": false,
    "jupyter": {
     "outputs_hidden": false
    }
   },
   "source": [
    "Standard Protocols will be used to clean data\n",
    "1. Checking for incorrect data types\n",
    "2. Check for dupliucate values\n",
    "3. Check for multiple representations\n",
    "4. Check for missing and default values\n",
    "5. Check for inconsistent format"
   ]
  },
  {
   "cell_type": "markdown",
   "metadata": {
    "collapsed": false,
    "jupyter": {
     "outputs_hidden": false
    }
   },
   "source": []
  },
  {
   "cell_type": "code",
   "execution_count": null,
   "metadata": {
    "collapsed": false,
    "jupyter": {
     "outputs_hidden": false
    }
   },
   "outputs": [],
   "source": [
    "MySqlEngine.dispose(),\n",
    "MySqlEngineDW.dispose()"
   ]
  }
 ],
 "metadata": {
  "kernelspec": {
   "display_name": "Python 3 (ipykernel)",
   "language": "python",
   "name": "python3"
  },
  "language_info": {
   "codemirror_mode": {
    "name": "ipython",
    "version": 3
   },
   "file_extension": ".py",
   "mimetype": "text/x-python",
   "name": "python",
   "nbconvert_exporter": "python",
   "pygments_lexer": "ipython3",
   "version": "3.11.1"
  }
 },
 "nbformat": 4,
 "nbformat_minor": 4
}
