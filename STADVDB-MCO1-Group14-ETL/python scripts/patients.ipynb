{
 "cells": [
  {
   "cell_type": "markdown",
   "source": [
    "The ETL process is as follows:\n",
    "1. Import the database tables as dataframes\n",
    "2. Use pandas dataframe operations to clean the dataframe\n",
    "3. Extract dimension values\n",
    "4. Load it to the data warehouse\n",
    "\n",
    "Standard Protocols will be used to clean data\n",
    "1. Checking for incorrect data types\n",
    "2. Check for dupliucate values\n",
    "3. Check for multiple representations\n",
    "4. Check for missing and default values\n",
    "5. Check for inconsistent format"
   ],
   "metadata": {
    "collapsed": false
   }
  },
  {
   "cell_type": "code",
   "execution_count": 2,
   "outputs": [
    {
     "name": "stderr",
     "output_type": "stream",
     "text": [
      "C:\\Users\\Francis\\AppData\\Local\\Temp\\ipykernel_20188\\3874242438.py:1: DeprecationWarning: \n",
      "Pyarrow will become a required dependency of pandas in the next major release of pandas (pandas 3.0),\n",
      "(to allow more performant data types, such as the Arrow string type, and better interoperability with other libraries)\n",
      "but was not found to be installed on your system.\n",
      "If this would cause problems for you,\n",
      "please provide us feedback at https://github.com/pandas-dev/pandas/issues/54466\n",
      "        \n",
      "  import pandas as pd\n"
     ]
    }
   ],
   "source": [
    "import pandas as pd\n",
    "from sqlalchemy import create_engine\n",
    "from sqlalchemy import URL\n",
    "import numpy as np\n",
    "from enum import Enum\n",
    "import sqlalchemy"
   ],
   "metadata": {
    "collapsed": false
   }
  },
  {
   "cell_type": "code",
   "execution_count": 4,
   "outputs": [],
   "source": [
    "# creating engine. MySQL will be used\n",
    "url_object = URL.create(\n",
    "    drivername='mysql',\n",
    "    username='root',\n",
    "    password='Data_101',\n",
    "    host='localhost',\n",
    "    port=3306,\n",
    "    database='seriousmd'\n",
    ")\n",
    "MySqlEngine = create_engine(url_object)"
   ],
   "metadata": {
    "collapsed": false
   }
  },
  {
   "cell_type": "code",
   "execution_count": 3,
   "outputs": [],
   "source": [
    "# creating engine for data warehouse\n",
    "url_object = URL.create(\n",
    "    drivername='mysql',\n",
    "    username='root',\n",
    "    password='Data_101',\n",
    "    host='localhost',\n",
    "    port=3306,\n",
    "    database='mdwarehouse'\n",
    ")\n",
    "MySqlEngineDW = create_engine(url_object)"
   ],
   "metadata": {
    "collapsed": false
   }
  },
  {
   "cell_type": "code",
   "execution_count": 5,
   "outputs": [
    {
     "name": "stdout",
     "output_type": "stream",
     "text": [
      "<class 'pandas.core.frame.DataFrame'>\n",
      "RangeIndex: 6507812 entries, 0 to 6507811\n",
      "Data columns (total 3 columns):\n",
      " #   Column  Dtype \n",
      "---  ------  ----- \n",
      " 0   pxid    object\n",
      " 1   age     Int64 \n",
      " 2   gender  object\n",
      "dtypes: Int64(1), object(2)\n",
      "memory usage: 155.2+ MB\n"
     ]
    }
   ],
   "source": [
    "# importing the appointments table to a dataframe for\n",
    "seriousmd_conn = MySqlEngine.connect()\n",
    "\n",
    "patients_df = pd.read_sql(\n",
    "    sql=\"\"\"SELECT * FROM px\"\"\",\n",
    "    con=seriousmd_conn,\n",
    "    dtype={\n",
    "        'age': pd.Int64Dtype()\n",
    "    }\n",
    ")\n",
    "patients_df.info()\n",
    "\n",
    "seriousmd_conn.close()"
   ],
   "metadata": {
    "collapsed": false
   }
  },
  {
   "cell_type": "markdown",
   "source": [
    "Checking for duplicate values"
   ],
   "metadata": {
    "collapsed": false
   }
  },
  {
   "cell_type": "code",
   "execution_count": 6,
   "outputs": [
    {
     "data": {
      "text/plain": "                                     pxid  age  gender\n813543   6287BCA4D9AA7E05113840FBD3F6423E   18    MALE\n814629   A83A266DA32247121459EF1509A81C84   17  FEMALE\n815606   159AB6E288586E00E0BE7646818ACBD0   46  FEMALE\n816082   4E3E2A2420F9A247722E1B03F4F183B4   34  FEMALE\n816670   F2E7BDC6FCA876802CCABCF007F0FB8E   60  FEMALE\n...                                   ...  ...     ...\n2042802  4304FCA1FA5ABD90F65F31B2E0CD5847    3  FEMALE\n2042912  5A15C630C9BBE8EA616E64B65B46E627   42  FEMALE\n2042970  562BDF5428C27D644BF36362A8DB03EA    5    MALE\n2043095  D97C2E0C69D86772583E585A03523813   79  FEMALE\n4006222  D8E7A835F6418A9A8ABA99A87390446D   38    MALE\n\n[995329 rows x 3 columns]",
      "text/html": "<div>\n<style scoped>\n    .dataframe tbody tr th:only-of-type {\n        vertical-align: middle;\n    }\n\n    .dataframe tbody tr th {\n        vertical-align: top;\n    }\n\n    .dataframe thead th {\n        text-align: right;\n    }\n</style>\n<table border=\"1\" class=\"dataframe\">\n  <thead>\n    <tr style=\"text-align: right;\">\n      <th></th>\n      <th>pxid</th>\n      <th>age</th>\n      <th>gender</th>\n    </tr>\n  </thead>\n  <tbody>\n    <tr>\n      <th>813543</th>\n      <td>6287BCA4D9AA7E05113840FBD3F6423E</td>\n      <td>18</td>\n      <td>MALE</td>\n    </tr>\n    <tr>\n      <th>814629</th>\n      <td>A83A266DA32247121459EF1509A81C84</td>\n      <td>17</td>\n      <td>FEMALE</td>\n    </tr>\n    <tr>\n      <th>815606</th>\n      <td>159AB6E288586E00E0BE7646818ACBD0</td>\n      <td>46</td>\n      <td>FEMALE</td>\n    </tr>\n    <tr>\n      <th>816082</th>\n      <td>4E3E2A2420F9A247722E1B03F4F183B4</td>\n      <td>34</td>\n      <td>FEMALE</td>\n    </tr>\n    <tr>\n      <th>816670</th>\n      <td>F2E7BDC6FCA876802CCABCF007F0FB8E</td>\n      <td>60</td>\n      <td>FEMALE</td>\n    </tr>\n    <tr>\n      <th>...</th>\n      <td>...</td>\n      <td>...</td>\n      <td>...</td>\n    </tr>\n    <tr>\n      <th>2042802</th>\n      <td>4304FCA1FA5ABD90F65F31B2E0CD5847</td>\n      <td>3</td>\n      <td>FEMALE</td>\n    </tr>\n    <tr>\n      <th>2042912</th>\n      <td>5A15C630C9BBE8EA616E64B65B46E627</td>\n      <td>42</td>\n      <td>FEMALE</td>\n    </tr>\n    <tr>\n      <th>2042970</th>\n      <td>562BDF5428C27D644BF36362A8DB03EA</td>\n      <td>5</td>\n      <td>MALE</td>\n    </tr>\n    <tr>\n      <th>2043095</th>\n      <td>D97C2E0C69D86772583E585A03523813</td>\n      <td>79</td>\n      <td>FEMALE</td>\n    </tr>\n    <tr>\n      <th>4006222</th>\n      <td>D8E7A835F6418A9A8ABA99A87390446D</td>\n      <td>38</td>\n      <td>MALE</td>\n    </tr>\n  </tbody>\n</table>\n<p>995329 rows × 3 columns</p>\n</div>"
     },
     "execution_count": 6,
     "metadata": {},
     "output_type": "execute_result"
    }
   ],
   "source": [
    "patients_df[patients_df.duplicated()]"
   ],
   "metadata": {
    "collapsed": false
   }
  },
  {
   "cell_type": "code",
   "execution_count": 7,
   "outputs": [],
   "source": [
    "duplicated_index = patients_df[patients_df.duplicated()].index"
   ],
   "metadata": {
    "collapsed": false
   }
  },
  {
   "cell_type": "code",
   "execution_count": 8,
   "outputs": [
    {
     "name": "stdout",
     "output_type": "stream",
     "text": [
      "<class 'pandas.core.frame.DataFrame'>\n",
      "Index: 5512483 entries, 0 to 6507811\n",
      "Data columns (total 3 columns):\n",
      " #   Column  Dtype \n",
      "---  ------  ----- \n",
      " 0   pxid    object\n",
      " 1   age     Int64 \n",
      " 2   gender  object\n",
      "dtypes: Int64(1), object(2)\n",
      "memory usage: 173.5+ MB\n"
     ]
    }
   ],
   "source": [
    "patients_df.drop(index=duplicated_index, inplace=True)\n",
    "patients_df.info()"
   ],
   "metadata": {
    "collapsed": false
   }
  },
  {
   "cell_type": "code",
   "execution_count": 9,
   "outputs": [
    {
     "name": "stdout",
     "output_type": "stream",
     "text": [
      "<class 'pandas.core.frame.DataFrame'>\n",
      "RangeIndex: 5512483 entries, 0 to 5512482\n",
      "Data columns (total 3 columns):\n",
      " #   Column  Dtype \n",
      "---  ------  ----- \n",
      " 0   pxid    object\n",
      " 1   age     Int64 \n",
      " 2   gender  object\n",
      "dtypes: Int64(1), object(2)\n",
      "memory usage: 131.4+ MB\n"
     ]
    }
   ],
   "source": [
    "patients_df.reset_index(drop=True, inplace=True)\n",
    "patients_df.info()"
   ],
   "metadata": {
    "collapsed": false
   }
  },
  {
   "cell_type": "code",
   "execution_count": 10,
   "outputs": [
    {
     "data": {
      "text/plain": "                                     pxid  age gender\n3010847  FBA46EA3EF7CCD4F3551C22272FE865F    4   MALE",
      "text/html": "<div>\n<style scoped>\n    .dataframe tbody tr th:only-of-type {\n        vertical-align: middle;\n    }\n\n    .dataframe tbody tr th {\n        vertical-align: top;\n    }\n\n    .dataframe thead th {\n        text-align: right;\n    }\n</style>\n<table border=\"1\" class=\"dataframe\">\n  <thead>\n    <tr style=\"text-align: right;\">\n      <th></th>\n      <th>pxid</th>\n      <th>age</th>\n      <th>gender</th>\n    </tr>\n  </thead>\n  <tbody>\n    <tr>\n      <th>3010847</th>\n      <td>FBA46EA3EF7CCD4F3551C22272FE865F</td>\n      <td>4</td>\n      <td>MALE</td>\n    </tr>\n  </tbody>\n</table>\n</div>"
     },
     "execution_count": 10,
     "metadata": {},
     "output_type": "execute_result"
    }
   ],
   "source": [
    "patients_df[patients_df['pxid'].duplicated()]"
   ],
   "metadata": {
    "collapsed": false
   }
  },
  {
   "cell_type": "code",
   "execution_count": 11,
   "outputs": [
    {
     "data": {
      "text/plain": "                                     pxid  age gender\n3000660  FBA46EA3EF7CCD4F3551C22272FE865F   42   MALE\n3010847  FBA46EA3EF7CCD4F3551C22272FE865F    4   MALE",
      "text/html": "<div>\n<style scoped>\n    .dataframe tbody tr th:only-of-type {\n        vertical-align: middle;\n    }\n\n    .dataframe tbody tr th {\n        vertical-align: top;\n    }\n\n    .dataframe thead th {\n        text-align: right;\n    }\n</style>\n<table border=\"1\" class=\"dataframe\">\n  <thead>\n    <tr style=\"text-align: right;\">\n      <th></th>\n      <th>pxid</th>\n      <th>age</th>\n      <th>gender</th>\n    </tr>\n  </thead>\n  <tbody>\n    <tr>\n      <th>3000660</th>\n      <td>FBA46EA3EF7CCD4F3551C22272FE865F</td>\n      <td>42</td>\n      <td>MALE</td>\n    </tr>\n    <tr>\n      <th>3010847</th>\n      <td>FBA46EA3EF7CCD4F3551C22272FE865F</td>\n      <td>4</td>\n      <td>MALE</td>\n    </tr>\n  </tbody>\n</table>\n</div>"
     },
     "execution_count": 11,
     "metadata": {},
     "output_type": "execute_result"
    }
   ],
   "source": [
    "patients_df[patients_df['pxid'] == 'FBA46EA3EF7CCD4F3551C22272FE865F']"
   ],
   "metadata": {
    "collapsed": false
   }
  },
  {
   "cell_type": "code",
   "execution_count": 12,
   "outputs": [
    {
     "name": "stdout",
     "output_type": "stream",
     "text": [
      "<class 'pandas.core.frame.DataFrame'>\n",
      "RangeIndex: 5512482 entries, 0 to 5512481\n",
      "Data columns (total 3 columns):\n",
      " #   Column  Dtype \n",
      "---  ------  ----- \n",
      " 0   pxid    object\n",
      " 1   age     Int64 \n",
      " 2   gender  object\n",
      "dtypes: Int64(1), object(2)\n",
      "memory usage: 131.4+ MB\n"
     ]
    }
   ],
   "source": [
    "patients_df.drop(index=3010847, inplace=True)\n",
    "patients_df.reset_index(drop=True, inplace=True)\n",
    "patients_df.info()"
   ],
   "metadata": {
    "collapsed": false
   }
  },
  {
   "cell_type": "code",
   "execution_count": 13,
   "outputs": [
    {
     "data": {
      "text/plain": "Empty DataFrame\nColumns: [pxid, age, gender]\nIndex: []",
      "text/html": "<div>\n<style scoped>\n    .dataframe tbody tr th:only-of-type {\n        vertical-align: middle;\n    }\n\n    .dataframe tbody tr th {\n        vertical-align: top;\n    }\n\n    .dataframe thead th {\n        text-align: right;\n    }\n</style>\n<table border=\"1\" class=\"dataframe\">\n  <thead>\n    <tr style=\"text-align: right;\">\n      <th></th>\n      <th>pxid</th>\n      <th>age</th>\n      <th>gender</th>\n    </tr>\n  </thead>\n  <tbody>\n  </tbody>\n</table>\n</div>"
     },
     "execution_count": 13,
     "metadata": {},
     "output_type": "execute_result"
    }
   ],
   "source": [
    "patients_df[patients_df['pxid'].duplicated()]"
   ],
   "metadata": {
    "collapsed": false
   }
  },
  {
   "cell_type": "markdown",
   "source": [
    "Checking for multiple representations"
   ],
   "metadata": {
    "collapsed": false
   }
  },
  {
   "cell_type": "code",
   "execution_count": 14,
   "outputs": [
    {
     "data": {
      "text/plain": "array(['FEMALE', 'MALE'], dtype=object)"
     },
     "execution_count": 14,
     "metadata": {},
     "output_type": "execute_result"
    }
   ],
   "source": [
    "patients_df['gender'].unique()"
   ],
   "metadata": {
    "collapsed": false
   }
  },
  {
   "cell_type": "code",
   "execution_count": 15,
   "outputs": [
    {
     "data": {
      "text/plain": "age\n29      125362\n54      125306\n28      121702\n31      120597\n32      120355\n         ...  \n165          1\n162          1\n-40          1\n-81          1\n-996         1\nName: count, Length: 368, dtype: Int64"
     },
     "execution_count": 15,
     "metadata": {},
     "output_type": "execute_result"
    }
   ],
   "source": [
    "patients_df['age'].value_counts()"
   ],
   "metadata": {
    "collapsed": false
   }
  },
  {
   "cell_type": "markdown",
   "source": [
    "Checking for missng and default values"
   ],
   "metadata": {
    "collapsed": false
   }
  },
  {
   "cell_type": "code",
   "execution_count": 16,
   "outputs": [
    {
     "data": {
      "text/plain": "                                     pxid   age  gender\n5347     EC7168F4DF42E718CA4A70F52E57A99B  -182    MALE\n10471    8CC44C76FDAAC6C6F63BCFFA7D6D035B   -24  FEMALE\n12949    C1CA856AD536A5271D627B1C2D3035E5  -962  FEMALE\n15316    4C6D650B3DF986431FB3E8E73B25E71B    -9    MALE\n19070    0D6764878E57FF8C4A3F665FD187F829  -964    MALE\n...                                   ...   ...     ...\n5451953  C53E03E6794972AB45656853357AC65A    -5    MALE\n5497595  AB033EC5325213D763D23F08DFBCAE2D  -996  FEMALE\n5499919  E4A2C6A059BD27024843AEA8924ACA01    -3    MALE\n5500512  91A193DBF9891D001A11C6ED9093F2F6    -1  FEMALE\n5511862  B55530B08612FCE658AB4FFE4FD339B4    -2  FEMALE\n\n[1003 rows x 3 columns]",
      "text/html": "<div>\n<style scoped>\n    .dataframe tbody tr th:only-of-type {\n        vertical-align: middle;\n    }\n\n    .dataframe tbody tr th {\n        vertical-align: top;\n    }\n\n    .dataframe thead th {\n        text-align: right;\n    }\n</style>\n<table border=\"1\" class=\"dataframe\">\n  <thead>\n    <tr style=\"text-align: right;\">\n      <th></th>\n      <th>pxid</th>\n      <th>age</th>\n      <th>gender</th>\n    </tr>\n  </thead>\n  <tbody>\n    <tr>\n      <th>5347</th>\n      <td>EC7168F4DF42E718CA4A70F52E57A99B</td>\n      <td>-182</td>\n      <td>MALE</td>\n    </tr>\n    <tr>\n      <th>10471</th>\n      <td>8CC44C76FDAAC6C6F63BCFFA7D6D035B</td>\n      <td>-24</td>\n      <td>FEMALE</td>\n    </tr>\n    <tr>\n      <th>12949</th>\n      <td>C1CA856AD536A5271D627B1C2D3035E5</td>\n      <td>-962</td>\n      <td>FEMALE</td>\n    </tr>\n    <tr>\n      <th>15316</th>\n      <td>4C6D650B3DF986431FB3E8E73B25E71B</td>\n      <td>-9</td>\n      <td>MALE</td>\n    </tr>\n    <tr>\n      <th>19070</th>\n      <td>0D6764878E57FF8C4A3F665FD187F829</td>\n      <td>-964</td>\n      <td>MALE</td>\n    </tr>\n    <tr>\n      <th>...</th>\n      <td>...</td>\n      <td>...</td>\n      <td>...</td>\n    </tr>\n    <tr>\n      <th>5451953</th>\n      <td>C53E03E6794972AB45656853357AC65A</td>\n      <td>-5</td>\n      <td>MALE</td>\n    </tr>\n    <tr>\n      <th>5497595</th>\n      <td>AB033EC5325213D763D23F08DFBCAE2D</td>\n      <td>-996</td>\n      <td>FEMALE</td>\n    </tr>\n    <tr>\n      <th>5499919</th>\n      <td>E4A2C6A059BD27024843AEA8924ACA01</td>\n      <td>-3</td>\n      <td>MALE</td>\n    </tr>\n    <tr>\n      <th>5500512</th>\n      <td>91A193DBF9891D001A11C6ED9093F2F6</td>\n      <td>-1</td>\n      <td>FEMALE</td>\n    </tr>\n    <tr>\n      <th>5511862</th>\n      <td>B55530B08612FCE658AB4FFE4FD339B4</td>\n      <td>-2</td>\n      <td>FEMALE</td>\n    </tr>\n  </tbody>\n</table>\n<p>1003 rows × 3 columns</p>\n</div>"
     },
     "execution_count": 16,
     "metadata": {},
     "output_type": "execute_result"
    }
   ],
   "source": [
    "patients_df[patients_df['age'] < 0]"
   ],
   "metadata": {
    "collapsed": false
   }
  },
  {
   "cell_type": "code",
   "execution_count": 17,
   "outputs": [],
   "source": [
    "invalid_age_patients = patients_df[patients_df['age'] < 0].index"
   ],
   "metadata": {
    "collapsed": false
   }
  },
  {
   "cell_type": "code",
   "execution_count": 18,
   "outputs": [
    {
     "name": "stdout",
     "output_type": "stream",
     "text": [
      "<class 'pandas.core.frame.DataFrame'>\n",
      "RangeIndex: 5511479 entries, 0 to 5511478\n",
      "Data columns (total 3 columns):\n",
      " #   Column  Dtype \n",
      "---  ------  ----- \n",
      " 0   pxid    object\n",
      " 1   age     Int64 \n",
      " 2   gender  object\n",
      "dtypes: Int64(1), object(2)\n",
      "memory usage: 131.4+ MB\n"
     ]
    }
   ],
   "source": [
    "patients_df.drop(index=invalid_age_patients, inplace=True)\n",
    "patients_df.reset_index(drop=True, inplace=True)\n",
    "patients_df.info()"
   ],
   "metadata": {
    "collapsed": false
   }
  },
  {
   "cell_type": "code",
   "execution_count": 19,
   "outputs": [
    {
     "data": {
      "text/plain": "Empty DataFrame\nColumns: [pxid, age, gender]\nIndex: []",
      "text/html": "<div>\n<style scoped>\n    .dataframe tbody tr th:only-of-type {\n        vertical-align: middle;\n    }\n\n    .dataframe tbody tr th {\n        vertical-align: top;\n    }\n\n    .dataframe thead th {\n        text-align: right;\n    }\n</style>\n<table border=\"1\" class=\"dataframe\">\n  <thead>\n    <tr style=\"text-align: right;\">\n      <th></th>\n      <th>pxid</th>\n      <th>age</th>\n      <th>gender</th>\n    </tr>\n  </thead>\n  <tbody>\n  </tbody>\n</table>\n</div>"
     },
     "execution_count": 19,
     "metadata": {},
     "output_type": "execute_result"
    }
   ],
   "source": [
    "patients_df[patients_df['pxid'].isnull()]"
   ],
   "metadata": {
    "collapsed": false
   }
  },
  {
   "cell_type": "code",
   "execution_count": 20,
   "outputs": [],
   "source": [
    "na_age_patients = patients_df[(patients_df['age'].isnull())].index"
   ],
   "metadata": {
    "collapsed": false
   }
  },
  {
   "cell_type": "code",
   "execution_count": 21,
   "outputs": [
    {
     "name": "stdout",
     "output_type": "stream",
     "text": [
      "<class 'pandas.core.frame.DataFrame'>\n",
      "RangeIndex: 5501480 entries, 0 to 5501479\n",
      "Data columns (total 3 columns):\n",
      " #   Column  Dtype \n",
      "---  ------  ----- \n",
      " 0   pxid    object\n",
      " 1   age     Int64 \n",
      " 2   gender  object\n",
      "dtypes: Int64(1), object(2)\n",
      "memory usage: 131.2+ MB\n"
     ]
    }
   ],
   "source": [
    "patients_df.drop(index=na_age_patients, inplace=True)\n",
    "patients_df.reset_index(drop=True, inplace=True)\n",
    "patients_df.info()"
   ],
   "metadata": {
    "collapsed": false
   }
  },
  {
   "cell_type": "code",
   "execution_count": 22,
   "outputs": [
    {
     "data": {
      "text/plain": "Empty DataFrame\nColumns: [pxid, age, gender]\nIndex: []",
      "text/html": "<div>\n<style scoped>\n    .dataframe tbody tr th:only-of-type {\n        vertical-align: middle;\n    }\n\n    .dataframe tbody tr th {\n        vertical-align: top;\n    }\n\n    .dataframe thead th {\n        text-align: right;\n    }\n</style>\n<table border=\"1\" class=\"dataframe\">\n  <thead>\n    <tr style=\"text-align: right;\">\n      <th></th>\n      <th>pxid</th>\n      <th>age</th>\n      <th>gender</th>\n    </tr>\n  </thead>\n  <tbody>\n  </tbody>\n</table>\n</div>"
     },
     "execution_count": 22,
     "metadata": {},
     "output_type": "execute_result"
    }
   ],
   "source": [
    "patients_df[patients_df['age'].isnull()]"
   ],
   "metadata": {
    "collapsed": false
   }
  },
  {
   "cell_type": "code",
   "execution_count": 23,
   "outputs": [
    {
     "data": {
      "text/plain": "array([ True])"
     },
     "execution_count": 23,
     "metadata": {},
     "output_type": "execute_result"
    }
   ],
   "source": [
    "patients_df['pxid'].astype(str).str.match(r'^[a-fA-F0-9]{32}$').unique()"
   ],
   "metadata": {
    "collapsed": false
   }
  },
  {
   "cell_type": "markdown",
   "source": [
    "Renaming of columns"
   ],
   "metadata": {
    "collapsed": false
   }
  },
  {
   "cell_type": "code",
   "execution_count": 24,
   "outputs": [],
   "source": [
    "patients_df.rename(\n",
    "    columns={\n",
    "        'pxid': 'pxID',\n",
    "    },\n",
    "    copy=False,\n",
    "    inplace=True,\n",
    "    errors='raise'\n",
    ")"
   ],
   "metadata": {
    "collapsed": false
   }
  },
  {
   "cell_type": "markdown",
   "source": [
    "Standard Protocols will be used to clean data\n",
    "1. Checking for incorrect data types\n",
    "2. Check for dupliucate values\n",
    "3. Check for multiple representations\n",
    "4. Check for missing and default values\n",
    "5. Check for inconsistent format"
   ],
   "metadata": {
    "collapsed": false
   }
  },
  {
   "cell_type": "markdown",
   "source": [
    "**Loading it to the data warehouse**"
   ],
   "metadata": {
    "collapsed": false
   }
  },
  {
   "cell_type": "code",
   "execution_count": 25,
   "outputs": [
    {
     "name": "stdout",
     "output_type": "stream",
     "text": [
      "<class 'pandas.core.frame.DataFrame'>\n",
      "RangeIndex: 5501480 entries, 0 to 5501479\n",
      "Data columns (total 3 columns):\n",
      " #   Column  Dtype \n",
      "---  ------  ----- \n",
      " 0   pxID    object\n",
      " 1   age     Int64 \n",
      " 2   gender  object\n",
      "dtypes: Int64(1), object(2)\n",
      "memory usage: 131.2+ MB\n"
     ]
    }
   ],
   "source": [
    "patients_df.info()"
   ],
   "metadata": {
    "collapsed": false
   }
  },
  {
   "cell_type": "code",
   "execution_count": 26,
   "outputs": [],
   "source": [
    "# Preparing ENUM data type\n",
    "# Prepareing data type\n",
    "class GenderEnum(Enum):\n",
    "    MALE = 'MALE'\n",
    "    FEMALE = 'FEMALE'"
   ],
   "metadata": {
    "collapsed": false
   }
  },
  {
   "cell_type": "code",
   "execution_count": 28,
   "outputs": [
    {
     "name": "stdout",
     "output_type": "stream",
     "text": [
      "rows affected:5501480\n"
     ]
    }
   ],
   "source": [
    "# sending dataframe to sql table\n",
    "mdwarehouse_conn = MySqlEngineDW.connect()\n",
    "\n",
    "rows_affected = patients_df.to_sql(\n",
    "    name='dim_px',\n",
    "    con=mdwarehouse_conn,\n",
    "    if_exists='append',\n",
    "    index=False,\n",
    "    dtype={\n",
    "        'pxID': sqlalchemy.types.String(32),\n",
    "        'age': sqlalchemy.types.Integer,\n",
    "        'gender': sqlalchemy.types.Enum(GenderEnum)\n",
    "    },\n",
    "    chunksize=5000,\n",
    "    method='multi'\n",
    ")\n",
    "\n",
    "print(\"rows affected:\" + str(rows_affected))\n",
    "\n",
    "mdwarehouse_conn.close()"
   ],
   "metadata": {
    "collapsed": false
   }
  },
  {
   "cell_type": "code",
   "execution_count": null,
   "outputs": [],
   "source": [
    "MySqlEngine.dispose(),\n",
    "MySqlEngineDW.dispose()"
   ],
   "metadata": {
    "collapsed": false
   }
  }
 ],
 "metadata": {
  "kernelspec": {
   "display_name": "Python 3",
   "language": "python",
   "name": "python3"
  },
  "language_info": {
   "codemirror_mode": {
    "name": "ipython",
    "version": 2
   },
   "file_extension": ".py",
   "mimetype": "text/x-python",
   "name": "python",
   "nbconvert_exporter": "python",
   "pygments_lexer": "ipython2",
   "version": "2.7.6"
  }
 },
 "nbformat": 4,
 "nbformat_minor": 0
}
